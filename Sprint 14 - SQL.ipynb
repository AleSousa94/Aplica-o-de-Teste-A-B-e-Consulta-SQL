{
 "cells": [
  {
   "cell_type": "markdown",
   "metadata": {},
   "source": [
    "### Projeto SQL \n",
    "* Este projeto tem a finalidade de analisar dados sobre livros, autores, avaliações, com a finalidade de gerar uma proposição válida para o novo produto em desenvolvimento. \n",
    "* Serão executadas as seguintes tarefas: \n",
    "* Encontrar o número de livros lançados depois de 1 de janeiro de 2000.\n",
    "* Encontrar o número de avaliações e a classificação média para cada livro.\n",
    "* Identificar a editora que lançou o maior número de livros com mais de 50 páginas (isso vai ajudar você a excluir brochuras e publicações parecidas da sua análise).\n",
    "* Identificar o autor com a média mais alta classificação de livros: olhe apenas para livros com pelo menos 50 classificações.\n",
    "* Encontrar o número médio de avaliações entre usuários que classificaram mais do que 50 livros.\n"
   ]
  },
  {
   "cell_type": "code",
   "execution_count": 2,
   "metadata": {},
   "outputs": [],
   "source": [
    "#importar bibliotecas\n",
    "import pandas as pd\n",
    "from sqlalchemy import create_engine\n",
    "db_config = {'user': 'practicum_student', # nome de usuário\n",
    "'pwd': 's65BlTKV3faNIGhmvJVzOqhs', # senha\n",
    "'host': 'rc1b-wcoijxj3yxfsf3fs.mdb.yandexcloud.net',\n",
    "'port': 6432, # porta de conexão\n",
    "'db': 'data-analyst-final-project-db'} # o nome do banco de dados\n",
    "connection_string = 'postgresql://{}:{}@{}:{}/{}'.format(db_config['user'],\n",
    "db_config['pwd'],\n",
    "db_config['host'],\n",
    "db_config['port'],\n",
    "db_config['db'])\n",
    "engine = create_engine(connection_string, connect_args={'sslmode':'require'})"
   ]
  },
  {
   "cell_type": "code",
   "execution_count": 3,
   "metadata": {},
   "outputs": [
    {
     "data": {
      "text/html": [
       "<div>\n",
       "<style scoped>\n",
       "    .dataframe tbody tr th:only-of-type {\n",
       "        vertical-align: middle;\n",
       "    }\n",
       "\n",
       "    .dataframe tbody tr th {\n",
       "        vertical-align: top;\n",
       "    }\n",
       "\n",
       "    .dataframe thead th {\n",
       "        text-align: right;\n",
       "    }\n",
       "</style>\n",
       "<table border=\"1\" class=\"dataframe\">\n",
       "  <thead>\n",
       "    <tr style=\"text-align: right;\">\n",
       "      <th></th>\n",
       "      <th>book_id</th>\n",
       "      <th>author_id</th>\n",
       "      <th>title</th>\n",
       "      <th>num_pages</th>\n",
       "      <th>publication_date</th>\n",
       "      <th>publisher_id</th>\n",
       "    </tr>\n",
       "  </thead>\n",
       "  <tbody>\n",
       "    <tr>\n",
       "      <th>0</th>\n",
       "      <td>1</td>\n",
       "      <td>546</td>\n",
       "      <td>'Salem's Lot</td>\n",
       "      <td>594</td>\n",
       "      <td>2005-11-01</td>\n",
       "      <td>93</td>\n",
       "    </tr>\n",
       "    <tr>\n",
       "      <th>1</th>\n",
       "      <td>2</td>\n",
       "      <td>465</td>\n",
       "      <td>1 000 Places to See Before You Die</td>\n",
       "      <td>992</td>\n",
       "      <td>2003-05-22</td>\n",
       "      <td>336</td>\n",
       "    </tr>\n",
       "    <tr>\n",
       "      <th>2</th>\n",
       "      <td>3</td>\n",
       "      <td>407</td>\n",
       "      <td>13 Little Blue Envelopes (Little Blue Envelope...</td>\n",
       "      <td>322</td>\n",
       "      <td>2010-12-21</td>\n",
       "      <td>135</td>\n",
       "    </tr>\n",
       "    <tr>\n",
       "      <th>3</th>\n",
       "      <td>4</td>\n",
       "      <td>82</td>\n",
       "      <td>1491: New Revelations of the Americas Before C...</td>\n",
       "      <td>541</td>\n",
       "      <td>2006-10-10</td>\n",
       "      <td>309</td>\n",
       "    </tr>\n",
       "    <tr>\n",
       "      <th>4</th>\n",
       "      <td>5</td>\n",
       "      <td>125</td>\n",
       "      <td>1776</td>\n",
       "      <td>386</td>\n",
       "      <td>2006-07-04</td>\n",
       "      <td>268</td>\n",
       "    </tr>\n",
       "  </tbody>\n",
       "</table>\n",
       "</div>"
      ],
      "text/plain": [
       "   book_id  author_id                                              title  \\\n",
       "0        1        546                                       'Salem's Lot   \n",
       "1        2        465                 1 000 Places to See Before You Die   \n",
       "2        3        407  13 Little Blue Envelopes (Little Blue Envelope...   \n",
       "3        4         82  1491: New Revelations of the Americas Before C...   \n",
       "4        5        125                                               1776   \n",
       "\n",
       "   num_pages publication_date  publisher_id  \n",
       "0        594       2005-11-01            93  \n",
       "1        992       2003-05-22           336  \n",
       "2        322       2010-12-21           135  \n",
       "3        541       2006-10-10           309  \n",
       "4        386       2006-07-04           268  "
      ]
     },
     "execution_count": 3,
     "metadata": {},
     "output_type": "execute_result"
    }
   ],
   "source": [
    "# Consulta SQL no data frame books (livros) e selecionando as 5 primeiras linhas\n",
    "query = \"SELECT * FROM books LIMIT 5\"\n",
    "pd.io.sql.read_sql(query, con=engine)"
   ]
  },
  {
   "cell_type": "code",
   "execution_count": 4,
   "metadata": {},
   "outputs": [
    {
     "data": {
      "text/html": [
       "<div>\n",
       "<style scoped>\n",
       "    .dataframe tbody tr th:only-of-type {\n",
       "        vertical-align: middle;\n",
       "    }\n",
       "\n",
       "    .dataframe tbody tr th {\n",
       "        vertical-align: top;\n",
       "    }\n",
       "\n",
       "    .dataframe thead th {\n",
       "        text-align: right;\n",
       "    }\n",
       "</style>\n",
       "<table border=\"1\" class=\"dataframe\">\n",
       "  <thead>\n",
       "    <tr style=\"text-align: right;\">\n",
       "      <th></th>\n",
       "      <th>author_id</th>\n",
       "      <th>author</th>\n",
       "    </tr>\n",
       "  </thead>\n",
       "  <tbody>\n",
       "    <tr>\n",
       "      <th>0</th>\n",
       "      <td>1</td>\n",
       "      <td>A.S. Byatt</td>\n",
       "    </tr>\n",
       "    <tr>\n",
       "      <th>1</th>\n",
       "      <td>2</td>\n",
       "      <td>Aesop/Laura Harris/Laura Gibbs</td>\n",
       "    </tr>\n",
       "    <tr>\n",
       "      <th>2</th>\n",
       "      <td>3</td>\n",
       "      <td>Agatha Christie</td>\n",
       "    </tr>\n",
       "    <tr>\n",
       "      <th>3</th>\n",
       "      <td>4</td>\n",
       "      <td>Alan Brennert</td>\n",
       "    </tr>\n",
       "    <tr>\n",
       "      <th>4</th>\n",
       "      <td>5</td>\n",
       "      <td>Alan Moore/David   Lloyd</td>\n",
       "    </tr>\n",
       "  </tbody>\n",
       "</table>\n",
       "</div>"
      ],
      "text/plain": [
       "   author_id                          author\n",
       "0          1                      A.S. Byatt\n",
       "1          2  Aesop/Laura Harris/Laura Gibbs\n",
       "2          3                 Agatha Christie\n",
       "3          4                   Alan Brennert\n",
       "4          5        Alan Moore/David   Lloyd"
      ]
     },
     "execution_count": 4,
     "metadata": {},
     "output_type": "execute_result"
    }
   ],
   "source": [
    "# Consulta SQL no data frame authors (autores) e selecionando as 5 primeiras linhas\n",
    "query = \"SELECT * FROM authors LIMIT 5\"\n",
    "pd.io.sql.read_sql(query, con=engine)"
   ]
  },
  {
   "cell_type": "code",
   "execution_count": 5,
   "metadata": {},
   "outputs": [
    {
     "data": {
      "text/html": [
       "<div>\n",
       "<style scoped>\n",
       "    .dataframe tbody tr th:only-of-type {\n",
       "        vertical-align: middle;\n",
       "    }\n",
       "\n",
       "    .dataframe tbody tr th {\n",
       "        vertical-align: top;\n",
       "    }\n",
       "\n",
       "    .dataframe thead th {\n",
       "        text-align: right;\n",
       "    }\n",
       "</style>\n",
       "<table border=\"1\" class=\"dataframe\">\n",
       "  <thead>\n",
       "    <tr style=\"text-align: right;\">\n",
       "      <th></th>\n",
       "      <th>publisher_id</th>\n",
       "      <th>publisher</th>\n",
       "    </tr>\n",
       "  </thead>\n",
       "  <tbody>\n",
       "    <tr>\n",
       "      <th>0</th>\n",
       "      <td>1</td>\n",
       "      <td>Ace</td>\n",
       "    </tr>\n",
       "    <tr>\n",
       "      <th>1</th>\n",
       "      <td>2</td>\n",
       "      <td>Ace Book</td>\n",
       "    </tr>\n",
       "    <tr>\n",
       "      <th>2</th>\n",
       "      <td>3</td>\n",
       "      <td>Ace Books</td>\n",
       "    </tr>\n",
       "    <tr>\n",
       "      <th>3</th>\n",
       "      <td>4</td>\n",
       "      <td>Ace Hardcover</td>\n",
       "    </tr>\n",
       "    <tr>\n",
       "      <th>4</th>\n",
       "      <td>5</td>\n",
       "      <td>Addison Wesley Publishing Company</td>\n",
       "    </tr>\n",
       "  </tbody>\n",
       "</table>\n",
       "</div>"
      ],
      "text/plain": [
       "   publisher_id                          publisher\n",
       "0             1                                Ace\n",
       "1             2                           Ace Book\n",
       "2             3                          Ace Books\n",
       "3             4                      Ace Hardcover\n",
       "4             5  Addison Wesley Publishing Company"
      ]
     },
     "execution_count": 5,
     "metadata": {},
     "output_type": "execute_result"
    }
   ],
   "source": [
    "# Consulta SQL no data frame publishers (editoras) e selecionando as 5 primeiras linhas\n",
    "query = \"SELECT * FROM publishers LIMIT 5\"\n",
    "pd.io.sql.read_sql(query, con=engine)"
   ]
  },
  {
   "cell_type": "code",
   "execution_count": 6,
   "metadata": {},
   "outputs": [
    {
     "data": {
      "text/html": [
       "<div>\n",
       "<style scoped>\n",
       "    .dataframe tbody tr th:only-of-type {\n",
       "        vertical-align: middle;\n",
       "    }\n",
       "\n",
       "    .dataframe tbody tr th {\n",
       "        vertical-align: top;\n",
       "    }\n",
       "\n",
       "    .dataframe thead th {\n",
       "        text-align: right;\n",
       "    }\n",
       "</style>\n",
       "<table border=\"1\" class=\"dataframe\">\n",
       "  <thead>\n",
       "    <tr style=\"text-align: right;\">\n",
       "      <th></th>\n",
       "      <th>rating_id</th>\n",
       "      <th>book_id</th>\n",
       "      <th>username</th>\n",
       "      <th>rating</th>\n",
       "    </tr>\n",
       "  </thead>\n",
       "  <tbody>\n",
       "    <tr>\n",
       "      <th>0</th>\n",
       "      <td>1</td>\n",
       "      <td>1</td>\n",
       "      <td>ryanfranco</td>\n",
       "      <td>4</td>\n",
       "    </tr>\n",
       "    <tr>\n",
       "      <th>1</th>\n",
       "      <td>2</td>\n",
       "      <td>1</td>\n",
       "      <td>grantpatricia</td>\n",
       "      <td>2</td>\n",
       "    </tr>\n",
       "    <tr>\n",
       "      <th>2</th>\n",
       "      <td>3</td>\n",
       "      <td>1</td>\n",
       "      <td>brandtandrea</td>\n",
       "      <td>5</td>\n",
       "    </tr>\n",
       "    <tr>\n",
       "      <th>3</th>\n",
       "      <td>4</td>\n",
       "      <td>2</td>\n",
       "      <td>lorichen</td>\n",
       "      <td>3</td>\n",
       "    </tr>\n",
       "    <tr>\n",
       "      <th>4</th>\n",
       "      <td>5</td>\n",
       "      <td>2</td>\n",
       "      <td>mariokeller</td>\n",
       "      <td>2</td>\n",
       "    </tr>\n",
       "  </tbody>\n",
       "</table>\n",
       "</div>"
      ],
      "text/plain": [
       "   rating_id  book_id       username  rating\n",
       "0          1        1     ryanfranco       4\n",
       "1          2        1  grantpatricia       2\n",
       "2          3        1   brandtandrea       5\n",
       "3          4        2       lorichen       3\n",
       "4          5        2    mariokeller       2"
      ]
     },
     "execution_count": 6,
     "metadata": {},
     "output_type": "execute_result"
    }
   ],
   "source": [
    "# Consulta SQL no data frame ratings (classificações) e selecionando as 5 primeiras linhas\n",
    "query = \"SELECT * FROM ratings LIMIT 5\"\n",
    "pd.io.sql.read_sql(query, con=engine)"
   ]
  },
  {
   "cell_type": "code",
   "execution_count": 7,
   "metadata": {},
   "outputs": [
    {
     "data": {
      "text/html": [
       "<div>\n",
       "<style scoped>\n",
       "    .dataframe tbody tr th:only-of-type {\n",
       "        vertical-align: middle;\n",
       "    }\n",
       "\n",
       "    .dataframe tbody tr th {\n",
       "        vertical-align: top;\n",
       "    }\n",
       "\n",
       "    .dataframe thead th {\n",
       "        text-align: right;\n",
       "    }\n",
       "</style>\n",
       "<table border=\"1\" class=\"dataframe\">\n",
       "  <thead>\n",
       "    <tr style=\"text-align: right;\">\n",
       "      <th></th>\n",
       "      <th>review_id</th>\n",
       "      <th>book_id</th>\n",
       "      <th>username</th>\n",
       "      <th>text</th>\n",
       "    </tr>\n",
       "  </thead>\n",
       "  <tbody>\n",
       "    <tr>\n",
       "      <th>0</th>\n",
       "      <td>1</td>\n",
       "      <td>1</td>\n",
       "      <td>brandtandrea</td>\n",
       "      <td>Mention society tell send professor analysis. ...</td>\n",
       "    </tr>\n",
       "    <tr>\n",
       "      <th>1</th>\n",
       "      <td>2</td>\n",
       "      <td>1</td>\n",
       "      <td>ryanfranco</td>\n",
       "      <td>Foot glass pretty audience hit themselves. Amo...</td>\n",
       "    </tr>\n",
       "    <tr>\n",
       "      <th>2</th>\n",
       "      <td>3</td>\n",
       "      <td>2</td>\n",
       "      <td>lorichen</td>\n",
       "      <td>Listen treat keep worry. Miss husband tax but ...</td>\n",
       "    </tr>\n",
       "    <tr>\n",
       "      <th>3</th>\n",
       "      <td>4</td>\n",
       "      <td>3</td>\n",
       "      <td>johnsonamanda</td>\n",
       "      <td>Finally month interesting blue could nature cu...</td>\n",
       "    </tr>\n",
       "    <tr>\n",
       "      <th>4</th>\n",
       "      <td>5</td>\n",
       "      <td>3</td>\n",
       "      <td>scotttamara</td>\n",
       "      <td>Nation purpose heavy give wait song will. List...</td>\n",
       "    </tr>\n",
       "  </tbody>\n",
       "</table>\n",
       "</div>"
      ],
      "text/plain": [
       "   review_id  book_id       username  \\\n",
       "0          1        1   brandtandrea   \n",
       "1          2        1     ryanfranco   \n",
       "2          3        2       lorichen   \n",
       "3          4        3  johnsonamanda   \n",
       "4          5        3    scotttamara   \n",
       "\n",
       "                                                text  \n",
       "0  Mention society tell send professor analysis. ...  \n",
       "1  Foot glass pretty audience hit themselves. Amo...  \n",
       "2  Listen treat keep worry. Miss husband tax but ...  \n",
       "3  Finally month interesting blue could nature cu...  \n",
       "4  Nation purpose heavy give wait song will. List...  "
      ]
     },
     "execution_count": 7,
     "metadata": {},
     "output_type": "execute_result"
    }
   ],
   "source": [
    "# Consulta SQL no data frame reviews (avaliações)  e selecionando as 5 primeiras linhas\n",
    "query = \"SELECT * FROM reviews  LIMIT 5\"\n",
    "pd.io.sql.read_sql(query, con=engine)\n"
   ]
  },
  {
   "cell_type": "code",
   "execution_count": 8,
   "metadata": {},
   "outputs": [
    {
     "name": "stdout",
     "output_type": "stream",
     "text": [
      " O número de livros lançados depois de 1 de janeiro de 2000 é 819\n"
     ]
    }
   ],
   "source": [
    "# Consulta SQL para contar o número de livros lançados após 1 de janeiro de 2000\n",
    "query = \"SELECT COUNT(*) as num_books FROM books WHERE publication_date > '2000-01-01'\"\n",
    "\n",
    "# Executando a consulta e armazena o resultado em um DataFrame\n",
    "result = pd.io.sql.read_sql(query, con=engine)\n",
    "\n",
    "num_books = result.iloc[0]['num_books']\n",
    "print(f\" O número de livros lançados depois de 1 de janeiro de 2000 é {num_books}\")\n"
   ]
  },
  {
   "cell_type": "code",
   "execution_count": 17,
   "metadata": {},
   "outputs": [
    {
     "data": {
      "text/html": [
       "<div>\n",
       "<style scoped>\n",
       "    .dataframe tbody tr th:only-of-type {\n",
       "        vertical-align: middle;\n",
       "    }\n",
       "\n",
       "    .dataframe tbody tr th {\n",
       "        vertical-align: top;\n",
       "    }\n",
       "\n",
       "    .dataframe thead th {\n",
       "        text-align: right;\n",
       "    }\n",
       "</style>\n",
       "<table border=\"1\" class=\"dataframe\">\n",
       "  <thead>\n",
       "    <tr style=\"text-align: right;\">\n",
       "      <th></th>\n",
       "      <th>book_id</th>\n",
       "      <th>author_id</th>\n",
       "      <th>title</th>\n",
       "      <th>num_pages</th>\n",
       "      <th>publication_date</th>\n",
       "      <th>publisher_id</th>\n",
       "      <th>num_reviews</th>\n",
       "      <th>avg_rating</th>\n",
       "    </tr>\n",
       "  </thead>\n",
       "  <tbody>\n",
       "    <tr>\n",
       "      <th>0</th>\n",
       "      <td>948</td>\n",
       "      <td>554</td>\n",
       "      <td>Twilight (Twilight  #1)</td>\n",
       "      <td>501</td>\n",
       "      <td>2006-09-06</td>\n",
       "      <td>176</td>\n",
       "      <td>7</td>\n",
       "      <td>3.662500</td>\n",
       "    </tr>\n",
       "    <tr>\n",
       "      <th>1</th>\n",
       "      <td>734</td>\n",
       "      <td>278</td>\n",
       "      <td>The Glass Castle</td>\n",
       "      <td>288</td>\n",
       "      <td>2006-01-17</td>\n",
       "      <td>258</td>\n",
       "      <td>6</td>\n",
       "      <td>4.206897</td>\n",
       "    </tr>\n",
       "    <tr>\n",
       "      <th>2</th>\n",
       "      <td>695</td>\n",
       "      <td>395</td>\n",
       "      <td>The Curious Incident of the Dog in the Night-Time</td>\n",
       "      <td>226</td>\n",
       "      <td>2004-05-18</td>\n",
       "      <td>309</td>\n",
       "      <td>6</td>\n",
       "      <td>4.081081</td>\n",
       "    </tr>\n",
       "    <tr>\n",
       "      <th>3</th>\n",
       "      <td>854</td>\n",
       "      <td>99</td>\n",
       "      <td>The Road</td>\n",
       "      <td>241</td>\n",
       "      <td>2006-09-26</td>\n",
       "      <td>9</td>\n",
       "      <td>6</td>\n",
       "      <td>3.772727</td>\n",
       "    </tr>\n",
       "    <tr>\n",
       "      <th>4</th>\n",
       "      <td>733</td>\n",
       "      <td>372</td>\n",
       "      <td>The Giver (The Giver  #1)</td>\n",
       "      <td>208</td>\n",
       "      <td>2006-01-24</td>\n",
       "      <td>101</td>\n",
       "      <td>6</td>\n",
       "      <td>3.750000</td>\n",
       "    </tr>\n",
       "  </tbody>\n",
       "</table>\n",
       "</div>"
      ],
      "text/plain": [
       "   book_id  author_id                                              title  \\\n",
       "0      948        554                            Twilight (Twilight  #1)   \n",
       "1      734        278                                   The Glass Castle   \n",
       "2      695        395  The Curious Incident of the Dog in the Night-Time   \n",
       "3      854         99                                           The Road   \n",
       "4      733        372                          The Giver (The Giver  #1)   \n",
       "\n",
       "   num_pages publication_date  publisher_id  num_reviews  avg_rating  \n",
       "0        501       2006-09-06           176            7    3.662500  \n",
       "1        288       2006-01-17           258            6    4.206897  \n",
       "2        226       2004-05-18           309            6    4.081081  \n",
       "3        241       2006-09-26             9            6    3.772727  \n",
       "4        208       2006-01-24           101            6    3.750000  "
      ]
     },
     "execution_count": 17,
     "metadata": {},
     "output_type": "execute_result"
    }
   ],
   "source": [
    "# Encontrando o número de avaliações e a classificação média para cada livro.\n",
    "query = \"\"\"\n",
    "SELECT b.book_id, \n",
    "       b.author_id, \n",
    "       b.title, \n",
    "       b.num_pages, \n",
    "       b.publication_date, \n",
    "       b.publisher_id,\n",
    "       COALESCE(rv.num_reviews, 0) as num_reviews, \n",
    "       COALESCE(rt.avg_rating, 0) as avg_rating\n",
    "FROM books b\n",
    "LEFT JOIN (\n",
    "    SELECT book_id, COUNT(DISTINCT review_id) as num_reviews\n",
    "    FROM reviews\n",
    "    GROUP BY book_id\n",
    ") rv ON b.book_id = rv.book_id\n",
    "LEFT JOIN (\n",
    "    SELECT book_id, AVG(rating) as avg_rating\n",
    "    FROM ratings\n",
    "    GROUP BY book_id\n",
    ") rt ON b.book_id = rt.book_id\n",
    "ORDER BY num_reviews DESC\n",
    "\"\"\"\n",
    "\n",
    "books_df = pd.read_sql(query, con=engine)\n",
    "\n",
    "books_df.head()\n"
   ]
  },
  {
   "cell_type": "markdown",
   "metadata": {},
   "source": [
    "* O data frame acima contêm os nomes dos livros, quantas avaliações eles tiveram e a classificação média para cada livro. \n",
    "* O data frame está ordenado pela quantidade de reviews em ordem decrescente."
   ]
  },
  {
   "cell_type": "code",
   "execution_count": 11,
   "metadata": {},
   "outputs": [
    {
     "data": {
      "text/html": [
       "<div>\n",
       "<style scoped>\n",
       "    .dataframe tbody tr th:only-of-type {\n",
       "        vertical-align: middle;\n",
       "    }\n",
       "\n",
       "    .dataframe tbody tr th {\n",
       "        vertical-align: top;\n",
       "    }\n",
       "\n",
       "    .dataframe thead th {\n",
       "        text-align: right;\n",
       "    }\n",
       "</style>\n",
       "<table border=\"1\" class=\"dataframe\">\n",
       "  <thead>\n",
       "    <tr style=\"text-align: right;\">\n",
       "      <th></th>\n",
       "      <th>publisher_id</th>\n",
       "      <th>publisher</th>\n",
       "      <th>num_books</th>\n",
       "    </tr>\n",
       "  </thead>\n",
       "  <tbody>\n",
       "    <tr>\n",
       "      <th>0</th>\n",
       "      <td>212</td>\n",
       "      <td>Penguin Books</td>\n",
       "      <td>42</td>\n",
       "    </tr>\n",
       "  </tbody>\n",
       "</table>\n",
       "</div>"
      ],
      "text/plain": [
       "   publisher_id      publisher  num_books\n",
       "0           212  Penguin Books         42"
      ]
     },
     "execution_count": 11,
     "metadata": {},
     "output_type": "execute_result"
    }
   ],
   "source": [
    "# Identificando a editora que lançou o maior número de livros com mais de 50 páginas\n",
    "query = \"\"\"\n",
    "SELECT p.publisher_id, p.publisher, COUNT(b.book_id) as num_books\n",
    "FROM books b\n",
    "JOIN publishers p ON b.publisher_id = p.publisher_id\n",
    "WHERE b.num_pages > 50\n",
    "GROUP BY p.publisher_id, p.publisher\n",
    "ORDER BY num_books DESC\n",
    "LIMIT 1\n",
    "\"\"\"\n",
    "pd.read_sql(query, con=engine)\n",
    "\n"
   ]
  },
  {
   "cell_type": "markdown",
   "metadata": {},
   "source": [
    "* A editora que lançou o maior número de livros com mais de 50 páginas foi a Penguin Books.\t"
   ]
  },
  {
   "cell_type": "code",
   "execution_count": 12,
   "metadata": {},
   "outputs": [
    {
     "data": {
      "text/html": [
       "<div>\n",
       "<style scoped>\n",
       "    .dataframe tbody tr th:only-of-type {\n",
       "        vertical-align: middle;\n",
       "    }\n",
       "\n",
       "    .dataframe tbody tr th {\n",
       "        vertical-align: top;\n",
       "    }\n",
       "\n",
       "    .dataframe thead th {\n",
       "        text-align: right;\n",
       "    }\n",
       "</style>\n",
       "<table border=\"1\" class=\"dataframe\">\n",
       "  <thead>\n",
       "    <tr style=\"text-align: right;\">\n",
       "      <th></th>\n",
       "      <th>author_id</th>\n",
       "      <th>author</th>\n",
       "      <th>author_avg_rating</th>\n",
       "    </tr>\n",
       "  </thead>\n",
       "  <tbody>\n",
       "    <tr>\n",
       "      <th>0</th>\n",
       "      <td>236</td>\n",
       "      <td>J.K. Rowling/Mary GrandPré</td>\n",
       "      <td>4.283844</td>\n",
       "    </tr>\n",
       "  </tbody>\n",
       "</table>\n",
       "</div>"
      ],
      "text/plain": [
       "   author_id                      author  author_avg_rating\n",
       "0        236  J.K. Rowling/Mary GrandPré           4.283844"
      ]
     },
     "execution_count": 12,
     "metadata": {},
     "output_type": "execute_result"
    }
   ],
   "source": [
    "# Identificando o autor com a média mais alta na classificação de livros em livros com pelo menos 50 classificações.\n",
    "query = \"\"\"\n",
    "WITH filtered_books AS (\n",
    "    SELECT r.book_id, b.author_id, AVG(r.rating) as avg_rating, COUNT(r.rating_id) as num_ratings\n",
    "    FROM ratings r\n",
    "    JOIN books b ON r.book_id = b.book_id\n",
    "    GROUP BY r.book_id, b.author_id\n",
    "    HAVING COUNT(r.rating_id) >= 50\n",
    "),\n",
    "author_ratings AS (\n",
    "    SELECT fb.author_id, AVG(fb.avg_rating) as author_avg_rating\n",
    "    FROM filtered_books fb\n",
    "    GROUP BY fb.author_id\n",
    ")\n",
    "SELECT a.author_id, a.author, ar.author_avg_rating\n",
    "FROM authors a\n",
    "JOIN author_ratings ar ON a.author_id = ar.author_id\n",
    "ORDER BY ar.author_avg_rating DESC\n",
    "LIMIT 1\n",
    "\"\"\"\n",
    "pd.read_sql(query, con=engine)\n"
   ]
  },
  {
   "cell_type": "code",
   "execution_count": 13,
   "metadata": {},
   "outputs": [
    {
     "name": "stdout",
     "output_type": "stream",
     "text": [
      "O número médio de avaliações entre usuários que classificaram mais do que 50 livros é 24.33\n"
     ]
    }
   ],
   "source": [
    "# Encontrando o número médio de avaliações entre usuários que classificaram mais do que 50 livros.\n",
    "query = \"\"\"\n",
    "WITH users_with_more_than_50_ratings AS (\n",
    "    SELECT username\n",
    "    FROM ratings\n",
    "    GROUP BY username\n",
    "    HAVING COUNT(rating_id) > 50\n",
    ")\n",
    "SELECT AVG(user_reviews.num_reviews) as avg_reviews\n",
    "FROM (\n",
    "    SELECT rv.username, COUNT(rv.review_id) as num_reviews\n",
    "    FROM users_with_more_than_50_ratings u\n",
    "    JOIN reviews rv ON u.username = rv.username\n",
    "    GROUP BY rv.username\n",
    ") user_reviews\n",
    "\"\"\"\n",
    "\n",
    "result = pd.read_sql(query, con=engine)\n",
    "\n",
    "avg_reviews = result.iloc[0, 0]\n",
    "print(f\"O número médio de avaliações entre usuários que classificaram mais do que 50 livros é {avg_reviews:.2f}\")\n"
   ]
  }
 ],
 "metadata": {
  "ExecuteTimeLog": [
   {
    "duration": 13,
    "start_time": "2024-06-18T18:21:07.675Z"
   },
   {
    "duration": 663,
    "start_time": "2024-06-18T18:21:13.746Z"
   },
   {
    "duration": 10,
    "start_time": "2024-06-18T18:21:20.066Z"
   },
   {
    "duration": 347,
    "start_time": "2024-06-18T18:21:37.187Z"
   },
   {
    "duration": 22,
    "start_time": "2024-06-18T18:21:58.516Z"
   },
   {
    "duration": 22,
    "start_time": "2024-06-18T18:22:32.489Z"
   },
   {
    "duration": 2853,
    "start_time": "2024-06-18T18:26:46.964Z"
   },
   {
    "duration": 995,
    "start_time": "2024-06-18T18:28:59.757Z"
   },
   {
    "duration": 738,
    "start_time": "2024-06-18T18:33:52.843Z"
   },
   {
    "duration": 740,
    "start_time": "2024-06-18T18:35:15.358Z"
   },
   {
    "duration": 743,
    "start_time": "2024-06-18T18:35:23.314Z"
   },
   {
    "duration": 742,
    "start_time": "2024-06-18T18:35:39.211Z"
   },
   {
    "duration": 745,
    "start_time": "2024-06-18T18:36:11.665Z"
   },
   {
    "duration": 735,
    "start_time": "2024-06-18T18:36:42.930Z"
   },
   {
    "duration": 741,
    "start_time": "2024-06-18T18:36:49.730Z"
   },
   {
    "duration": 738,
    "start_time": "2024-06-18T18:37:21.954Z"
   },
   {
    "duration": 737,
    "start_time": "2024-06-18T18:37:39.215Z"
   },
   {
    "duration": 736,
    "start_time": "2024-06-18T18:37:46.560Z"
   },
   {
    "duration": 742,
    "start_time": "2024-06-18T18:50:56.527Z"
   },
   {
    "duration": 745,
    "start_time": "2024-06-18T18:50:59.850Z"
   },
   {
    "duration": 747,
    "start_time": "2024-06-18T18:51:34.793Z"
   },
   {
    "duration": 741,
    "start_time": "2024-06-18T18:52:16.201Z"
   },
   {
    "duration": 766,
    "start_time": "2024-06-18T18:52:38.357Z"
   },
   {
    "duration": 769,
    "start_time": "2024-06-18T18:53:00.220Z"
   },
   {
    "duration": 742,
    "start_time": "2024-06-18T18:53:38.618Z"
   },
   {
    "duration": 736,
    "start_time": "2024-06-18T18:55:11.948Z"
   },
   {
    "duration": 924,
    "start_time": "2024-06-18T19:00:01.598Z"
   },
   {
    "duration": 875,
    "start_time": "2024-06-18T19:00:07.490Z"
   },
   {
    "duration": 204,
    "start_time": "2024-06-18T19:02:27.369Z"
   },
   {
    "duration": 1117,
    "start_time": "2024-06-18T19:02:40.370Z"
   },
   {
    "duration": 1122,
    "start_time": "2024-06-18T19:02:47.187Z"
   },
   {
    "duration": 1116,
    "start_time": "2024-06-18T19:05:17.092Z"
   },
   {
    "duration": 6,
    "start_time": "2024-06-18T19:11:43.062Z"
   },
   {
    "duration": 5,
    "start_time": "2024-06-18T19:12:00.613Z"
   },
   {
    "duration": 997,
    "start_time": "2024-06-18T19:12:07.222Z"
   },
   {
    "duration": 1690,
    "start_time": "2024-06-18T19:13:03.164Z"
   },
   {
    "duration": 998,
    "start_time": "2024-06-18T19:13:27.122Z"
   },
   {
    "duration": 744,
    "start_time": "2024-06-18T19:20:16.312Z"
   },
   {
    "duration": 1121,
    "start_time": "2024-06-18T19:21:33.667Z"
   },
   {
    "duration": 740,
    "start_time": "2024-06-18T19:32:00.809Z"
   },
   {
    "duration": 743,
    "start_time": "2024-06-18T19:32:07.894Z"
   },
   {
    "duration": 745,
    "start_time": "2024-06-18T19:33:05.532Z"
   },
   {
    "duration": 743,
    "start_time": "2024-06-18T19:42:36.868Z"
   },
   {
    "duration": 4,
    "start_time": "2024-06-18T19:42:50.094Z"
   },
   {
    "duration": 746,
    "start_time": "2024-06-18T19:43:04.489Z"
   },
   {
    "duration": 743,
    "start_time": "2024-06-18T19:52:09.545Z"
   },
   {
    "duration": 739,
    "start_time": "2024-06-18T19:54:08.594Z"
   },
   {
    "duration": 308,
    "start_time": "2024-06-19T12:59:42.927Z"
   },
   {
    "duration": 568,
    "start_time": "2024-06-19T12:59:48.575Z"
   },
   {
    "duration": 2889,
    "start_time": "2024-06-19T12:59:49.147Z"
   },
   {
    "duration": 827,
    "start_time": "2024-06-19T12:59:52.039Z"
   },
   {
    "duration": 825,
    "start_time": "2024-06-19T12:59:52.870Z"
   },
   {
    "duration": 829,
    "start_time": "2024-06-19T12:59:53.698Z"
   },
   {
    "duration": 827,
    "start_time": "2024-06-19T12:59:54.530Z"
   },
   {
    "duration": 823,
    "start_time": "2024-06-19T12:59:55.360Z"
   },
   {
    "duration": 1246,
    "start_time": "2024-06-19T12:59:56.186Z"
   },
   {
    "duration": 976,
    "start_time": "2024-06-19T12:59:57.436Z"
   },
   {
    "duration": 825,
    "start_time": "2024-06-19T12:59:58.418Z"
   },
   {
    "duration": 832,
    "start_time": "2024-06-19T12:59:59.246Z"
   },
   {
    "duration": 824,
    "start_time": "2024-06-19T13:00:00.081Z"
   },
   {
    "duration": 1246,
    "start_time": "2024-06-19T13:01:20.882Z"
   },
   {
    "duration": 1247,
    "start_time": "2024-06-19T13:02:53.238Z"
   },
   {
    "duration": 1249,
    "start_time": "2024-06-19T13:03:00.711Z"
   },
   {
    "duration": 1247,
    "start_time": "2024-06-19T13:03:08.003Z"
   }
  ],
  "kernelspec": {
   "display_name": "Python 3 (ipykernel)",
   "language": "python",
   "name": "python3"
  },
  "language_info": {
   "codemirror_mode": {
    "name": "ipython",
    "version": 3
   },
   "file_extension": ".py",
   "mimetype": "text/x-python",
   "name": "python",
   "nbconvert_exporter": "python",
   "pygments_lexer": "ipython3",
   "version": "3.9.19"
  },
  "toc": {
   "base_numbering": 1,
   "nav_menu": {},
   "number_sections": true,
   "sideBar": true,
   "skip_h1_title": true,
   "title_cell": "Table of Contents",
   "title_sidebar": "Contents",
   "toc_cell": false,
   "toc_position": {},
   "toc_section_display": true,
   "toc_window_display": false
  }
 },
 "nbformat": 4,
 "nbformat_minor": 2
}
