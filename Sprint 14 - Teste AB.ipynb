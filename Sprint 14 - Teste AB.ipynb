{
 "cells": [
  {
   "cell_type": "markdown",
   "metadata": {},
   "source": [
    "# Revisão de código \n",
    "\n",
    "Olá! \n",
    "\n",
    "Meu nome é Suelen. Estou feliz em revisar seu projeto hoje!\n",
    "\n",
    "Quando vejo um erro pela primeira vez, apenas aponto. Deixarei você encontrá-lo e corrigi-lo sozinho. Além disso, ao longo do texto, farei algumas observações sobre melhorias no código e também farei comentários sobre suas percepções sobre o assunto. Mas se você ainda não consegue lidar com essa tarefa, darei uma dica mais precisa na próxima iteração e também alguns exemplos práticos. Estarei aberta a feedbacks e discussões sobre o tema.\n",
    "\n",
    "Você pode encontrar meus comentários em caixas verdes, amarelas ou vermelhas como estas:\n",
    "\n",
    "\n",
    "<div class=\"alert alert-block alert-success\">\n",
    "<b>Comentário: </b> <a class=\"tocSkip\"></a>\n",
    "\n",
    "Sucesso. Tudo está correto.\n",
    "</div>\n",
    "\n",
    "<div class=\"alert alert-block alert-warning\">\n",
    "<b>Comentário: </b> <a class=\"tocSkip\"></a>\n",
    "\n",
    "Observações. Algumas recomendações.\n",
    "</div>\n",
    "\n",
    "<div class=\"alert alert-block alert-danger\">\n",
    "\n",
    "<b>Comentário: </b> <a class=\"tocSkip\"></a>\n",
    "\n",
    "O bloco requer algumas correções. O trabalho não pode ser aceito com os comentários vermelhos.\n",
    "</div>\n",
    "\n",
    "Você pode me responder usando isto:\n",
    "\n",
    "<div class=\"alert alert-block alert-info\">\n",
    "<b>Resposta do aluno</b> <a class=\"tocSkip\"></a>\n",
    "</div>\n",
    "Olá boa tarde Suelen, obri\n"
   ]
  },
  {
   "cell_type": "code",
   "execution_count": null,
   "metadata": {},
   "outputs": [],
   "source": []
  },
  {
   "cell_type": "markdown",
   "metadata": {},
   "source": [
    "<div class=\"alert alert-block alert-danger\">\n",
    "\n",
    "<b>Comentário da revisora V1: </b> <a class=\"tocSkip\"></a>\n",
    "\n",
    "Parabéns pela conclusão do projeto, Alexandre! \n",
    "\n",
    "O seu projeto apresenta pontos positivos, tais como: \n",
    "    - Código bem estruturado\n",
    "    - Comentários pertinentes a análise\n",
    "    - Gráficos de boa qualidade\n",
    "    \n",
    "O projeto necessita do ajuste no filtro de usuários da região EU. Adicionei um comentário para te auxiliar na resolução. \n",
    "\n",
    "Fico à disposição para eventuais dúvidas.\n",
    "\n",
    "Boa sorte!\n",
    "</div>"
   ]
  },
  {
   "cell_type": "markdown",
   "metadata": {},
   "source": [
    "<div class=\"alert alert-block alert-success\">\n",
    "<b>Comentário: </b> <a class=\"tocSkip\"></a>\n",
    "\n",
    "Obrigada pelos ajustes! O projeto está aprovado.\n",
    "</div>"
   ]
  },
  {
   "cell_type": "markdown",
   "metadata": {},
   "source": [
    "### Objetivo: O objetivo principal desta análise é avaliar o impacto de uma nova funcionalidade de sistema de recomendação em um site de e-commerce internacional. Especificamente, o estudo visa determinar se a nova funcionalidade melhora a conversão dos usuários nas seguintes etapas: \n",
    "1) Visualizações das páginas dos produtos;\n",
    "2) Adicionando itens ao carrinho;\n",
    "3) Compras;\n"
   ]
  },
  {
   "cell_type": "markdown",
   "metadata": {},
   "source": [
    "### Primeira parte: \n",
    "* Importação das bibliotecas.\n",
    "* Leitura dos data frames e criação de objetos com seu conteúdo.\n",
    "* Verificação e conversão (se necessária) dos tipos de dados de todos os data frames.\n",
    "* Análises de valores ausentes e duplicados em todos os data frames. "
   ]
  },
  {
   "cell_type": "code",
   "execution_count": 59,
   "metadata": {},
   "outputs": [],
   "source": [
    "# Importando as bibliotecas necessárias\n",
    "import pandas as pd\n",
    "import matplotlib.pyplot as plt\n",
    "from scipy import stats\n",
    "from statsmodels.stats.proportion import proportions_ztest"
   ]
  },
  {
   "cell_type": "code",
   "execution_count": 60,
   "metadata": {},
   "outputs": [],
   "source": [
    "# Lendo e armazenando os data frames\n",
    "\n",
    "marketing_events = pd.read_csv('/datasets/ab_project_marketing_events_us.csv')\n",
    "new_users = pd.read_csv('/datasets/final_ab_new_users_upd_us.csv')\n",
    "events = pd.read_csv('/datasets/final_ab_events_upd_us.csv')\n",
    "participants = pd.read_csv('/datasets/final_ab_participants_upd_us.csv')"
   ]
  },
  {
   "cell_type": "code",
   "execution_count": 61,
   "metadata": {},
   "outputs": [
    {
     "data": {
      "text/html": [
       "<div>\n",
       "<style scoped>\n",
       "    .dataframe tbody tr th:only-of-type {\n",
       "        vertical-align: middle;\n",
       "    }\n",
       "\n",
       "    .dataframe tbody tr th {\n",
       "        vertical-align: top;\n",
       "    }\n",
       "\n",
       "    .dataframe thead th {\n",
       "        text-align: right;\n",
       "    }\n",
       "</style>\n",
       "<table border=\"1\" class=\"dataframe\">\n",
       "  <thead>\n",
       "    <tr style=\"text-align: right;\">\n",
       "      <th></th>\n",
       "      <th>name</th>\n",
       "      <th>regions</th>\n",
       "      <th>start_dt</th>\n",
       "      <th>finish_dt</th>\n",
       "    </tr>\n",
       "  </thead>\n",
       "  <tbody>\n",
       "    <tr>\n",
       "      <th>0</th>\n",
       "      <td>Christmas&amp;New Year Promo</td>\n",
       "      <td>EU, N.America</td>\n",
       "      <td>2020-12-25</td>\n",
       "      <td>2021-01-03</td>\n",
       "    </tr>\n",
       "    <tr>\n",
       "      <th>1</th>\n",
       "      <td>St. Valentine's Day Giveaway</td>\n",
       "      <td>EU, CIS, APAC, N.America</td>\n",
       "      <td>2020-02-14</td>\n",
       "      <td>2020-02-16</td>\n",
       "    </tr>\n",
       "    <tr>\n",
       "      <th>2</th>\n",
       "      <td>St. Patric's Day Promo</td>\n",
       "      <td>EU, N.America</td>\n",
       "      <td>2020-03-17</td>\n",
       "      <td>2020-03-19</td>\n",
       "    </tr>\n",
       "    <tr>\n",
       "      <th>3</th>\n",
       "      <td>Easter Promo</td>\n",
       "      <td>EU, CIS, APAC, N.America</td>\n",
       "      <td>2020-04-12</td>\n",
       "      <td>2020-04-19</td>\n",
       "    </tr>\n",
       "    <tr>\n",
       "      <th>4</th>\n",
       "      <td>4th of July Promo</td>\n",
       "      <td>N.America</td>\n",
       "      <td>2020-07-04</td>\n",
       "      <td>2020-07-11</td>\n",
       "    </tr>\n",
       "  </tbody>\n",
       "</table>\n",
       "</div>"
      ],
      "text/plain": [
       "                           name                   regions    start_dt  \\\n",
       "0      Christmas&New Year Promo             EU, N.America  2020-12-25   \n",
       "1  St. Valentine's Day Giveaway  EU, CIS, APAC, N.America  2020-02-14   \n",
       "2        St. Patric's Day Promo             EU, N.America  2020-03-17   \n",
       "3                  Easter Promo  EU, CIS, APAC, N.America  2020-04-12   \n",
       "4             4th of July Promo                 N.America  2020-07-04   \n",
       "\n",
       "    finish_dt  \n",
       "0  2021-01-03  \n",
       "1  2020-02-16  \n",
       "2  2020-03-19  \n",
       "3  2020-04-19  \n",
       "4  2020-07-11  "
      ]
     },
     "execution_count": 61,
     "metadata": {},
     "output_type": "execute_result"
    }
   ],
   "source": [
    "# Começando o processamento dos dados do data frame marketing_events\n",
    "marketing_events.head()"
   ]
  },
  {
   "cell_type": "code",
   "execution_count": 62,
   "metadata": {},
   "outputs": [
    {
     "name": "stdout",
     "output_type": "stream",
     "text": [
      "<class 'pandas.core.frame.DataFrame'>\n",
      "RangeIndex: 14 entries, 0 to 13\n",
      "Data columns (total 4 columns):\n",
      " #   Column     Non-Null Count  Dtype \n",
      "---  ------     --------------  ----- \n",
      " 0   name       14 non-null     object\n",
      " 1   regions    14 non-null     object\n",
      " 2   start_dt   14 non-null     object\n",
      " 3   finish_dt  14 non-null     object\n",
      "dtypes: object(4)\n",
      "memory usage: 576.0+ bytes\n"
     ]
    }
   ],
   "source": [
    "# Conferindo os tipos de dados\n",
    "marketing_events.info()"
   ]
  },
  {
   "cell_type": "code",
   "execution_count": 63,
   "metadata": {},
   "outputs": [],
   "source": [
    "# No data frame marketing_events vamos converter o tipo de dados das colunas \"start_dt\" e \"finish_dt\" \n",
    "# para seu tipo correto, que é data. \n",
    "# Convertendo as colunas de data para o tipo datetime\n",
    "marketing_events['start_dt'] = pd.to_datetime(marketing_events['start_dt'])\n",
    "marketing_events['finish_dt'] = pd.to_datetime(marketing_events['finish_dt'])"
   ]
  },
  {
   "cell_type": "code",
   "execution_count": 64,
   "metadata": {},
   "outputs": [
    {
     "name": "stdout",
     "output_type": "stream",
     "text": [
      "<class 'pandas.core.frame.DataFrame'>\n",
      "RangeIndex: 14 entries, 0 to 13\n",
      "Data columns (total 4 columns):\n",
      " #   Column     Non-Null Count  Dtype         \n",
      "---  ------     --------------  -----         \n",
      " 0   name       14 non-null     object        \n",
      " 1   regions    14 non-null     object        \n",
      " 2   start_dt   14 non-null     datetime64[ns]\n",
      " 3   finish_dt  14 non-null     datetime64[ns]\n",
      "dtypes: datetime64[ns](2), object(2)\n",
      "memory usage: 576.0+ bytes\n"
     ]
    }
   ],
   "source": [
    "marketing_events.info()"
   ]
  },
  {
   "cell_type": "code",
   "execution_count": 65,
   "metadata": {},
   "outputs": [
    {
     "data": {
      "text/plain": [
       "0"
      ]
     },
     "execution_count": 65,
     "metadata": {},
     "output_type": "execute_result"
    }
   ],
   "source": [
    "# Conferindo se existem valores duplicados no data frame. \n",
    "marketing_events.duplicated().sum()"
   ]
  },
  {
   "cell_type": "markdown",
   "metadata": {},
   "source": [
    "* Não existem valores ausentes no data frame marketing_events\n",
    "* Não existem valores duplicados no data framme marketing_events\n",
    "* Os tipos de dados foram convertidos para seu tipo ideal. "
   ]
  },
  {
   "cell_type": "code",
   "execution_count": 66,
   "metadata": {},
   "outputs": [
    {
     "data": {
      "text/html": [
       "<div>\n",
       "<style scoped>\n",
       "    .dataframe tbody tr th:only-of-type {\n",
       "        vertical-align: middle;\n",
       "    }\n",
       "\n",
       "    .dataframe tbody tr th {\n",
       "        vertical-align: top;\n",
       "    }\n",
       "\n",
       "    .dataframe thead th {\n",
       "        text-align: right;\n",
       "    }\n",
       "</style>\n",
       "<table border=\"1\" class=\"dataframe\">\n",
       "  <thead>\n",
       "    <tr style=\"text-align: right;\">\n",
       "      <th></th>\n",
       "      <th>user_id</th>\n",
       "      <th>first_date</th>\n",
       "      <th>region</th>\n",
       "      <th>device</th>\n",
       "    </tr>\n",
       "  </thead>\n",
       "  <tbody>\n",
       "    <tr>\n",
       "      <th>0</th>\n",
       "      <td>D72A72121175D8BE</td>\n",
       "      <td>2020-12-07</td>\n",
       "      <td>EU</td>\n",
       "      <td>PC</td>\n",
       "    </tr>\n",
       "    <tr>\n",
       "      <th>1</th>\n",
       "      <td>F1C668619DFE6E65</td>\n",
       "      <td>2020-12-07</td>\n",
       "      <td>N.America</td>\n",
       "      <td>Android</td>\n",
       "    </tr>\n",
       "    <tr>\n",
       "      <th>2</th>\n",
       "      <td>2E1BF1D4C37EA01F</td>\n",
       "      <td>2020-12-07</td>\n",
       "      <td>EU</td>\n",
       "      <td>PC</td>\n",
       "    </tr>\n",
       "    <tr>\n",
       "      <th>3</th>\n",
       "      <td>50734A22C0C63768</td>\n",
       "      <td>2020-12-07</td>\n",
       "      <td>EU</td>\n",
       "      <td>iPhone</td>\n",
       "    </tr>\n",
       "    <tr>\n",
       "      <th>4</th>\n",
       "      <td>E1BDDCE0DAFA2679</td>\n",
       "      <td>2020-12-07</td>\n",
       "      <td>N.America</td>\n",
       "      <td>iPhone</td>\n",
       "    </tr>\n",
       "  </tbody>\n",
       "</table>\n",
       "</div>"
      ],
      "text/plain": [
       "            user_id  first_date     region   device\n",
       "0  D72A72121175D8BE  2020-12-07         EU       PC\n",
       "1  F1C668619DFE6E65  2020-12-07  N.America  Android\n",
       "2  2E1BF1D4C37EA01F  2020-12-07         EU       PC\n",
       "3  50734A22C0C63768  2020-12-07         EU   iPhone\n",
       "4  E1BDDCE0DAFA2679  2020-12-07  N.America   iPhone"
      ]
     },
     "execution_count": 66,
     "metadata": {},
     "output_type": "execute_result"
    }
   ],
   "source": [
    "# Começando o processamento dos dados do data frame new_users\n",
    "new_users.head()"
   ]
  },
  {
   "cell_type": "code",
   "execution_count": 67,
   "metadata": {},
   "outputs": [
    {
     "name": "stdout",
     "output_type": "stream",
     "text": [
      "<class 'pandas.core.frame.DataFrame'>\n",
      "RangeIndex: 58703 entries, 0 to 58702\n",
      "Data columns (total 4 columns):\n",
      " #   Column      Non-Null Count  Dtype \n",
      "---  ------      --------------  ----- \n",
      " 0   user_id     58703 non-null  object\n",
      " 1   first_date  58703 non-null  object\n",
      " 2   region      58703 non-null  object\n",
      " 3   device      58703 non-null  object\n",
      "dtypes: object(4)\n",
      "memory usage: 1.8+ MB\n"
     ]
    }
   ],
   "source": [
    "# Checando os tipos dos dados e se tem valores ausentes no data frame new_users\n",
    "new_users.info()"
   ]
  },
  {
   "cell_type": "code",
   "execution_count": 68,
   "metadata": {},
   "outputs": [],
   "source": [
    "# Convertendo a coluna \"first_date\" para o tipo correto\n",
    "new_users['first_date']= pd.to_datetime(new_users['first_date'])"
   ]
  },
  {
   "cell_type": "code",
   "execution_count": 69,
   "metadata": {},
   "outputs": [
    {
     "data": {
      "text/plain": [
       "Timestamp('2020-12-07 00:00:00')"
      ]
     },
     "execution_count": 69,
     "metadata": {},
     "output_type": "execute_result"
    }
   ],
   "source": [
    "new_users.first_date.min()"
   ]
  },
  {
   "cell_type": "code",
   "execution_count": 70,
   "metadata": {},
   "outputs": [
    {
     "data": {
      "text/plain": [
       "0"
      ]
     },
     "execution_count": 70,
     "metadata": {},
     "output_type": "execute_result"
    }
   ],
   "source": [
    "new_users.duplicated().sum()"
   ]
  },
  {
   "cell_type": "markdown",
   "metadata": {},
   "source": [
    "* O data frame \"new_users\" não tem valores ausentes e nem duplicados.\n",
    "* Os dados foram convertidos para o seu tipo correto."
   ]
  },
  {
   "cell_type": "code",
   "execution_count": 71,
   "metadata": {},
   "outputs": [
    {
     "data": {
      "text/html": [
       "<div>\n",
       "<style scoped>\n",
       "    .dataframe tbody tr th:only-of-type {\n",
       "        vertical-align: middle;\n",
       "    }\n",
       "\n",
       "    .dataframe tbody tr th {\n",
       "        vertical-align: top;\n",
       "    }\n",
       "\n",
       "    .dataframe thead th {\n",
       "        text-align: right;\n",
       "    }\n",
       "</style>\n",
       "<table border=\"1\" class=\"dataframe\">\n",
       "  <thead>\n",
       "    <tr style=\"text-align: right;\">\n",
       "      <th></th>\n",
       "      <th>user_id</th>\n",
       "      <th>event_dt</th>\n",
       "      <th>event_name</th>\n",
       "      <th>details</th>\n",
       "    </tr>\n",
       "  </thead>\n",
       "  <tbody>\n",
       "    <tr>\n",
       "      <th>0</th>\n",
       "      <td>E1BDDCE0DAFA2679</td>\n",
       "      <td>2020-12-07 20:22:03</td>\n",
       "      <td>purchase</td>\n",
       "      <td>99.99</td>\n",
       "    </tr>\n",
       "    <tr>\n",
       "      <th>1</th>\n",
       "      <td>7B6452F081F49504</td>\n",
       "      <td>2020-12-07 09:22:53</td>\n",
       "      <td>purchase</td>\n",
       "      <td>9.99</td>\n",
       "    </tr>\n",
       "    <tr>\n",
       "      <th>2</th>\n",
       "      <td>9CD9F34546DF254C</td>\n",
       "      <td>2020-12-07 12:59:29</td>\n",
       "      <td>purchase</td>\n",
       "      <td>4.99</td>\n",
       "    </tr>\n",
       "    <tr>\n",
       "      <th>3</th>\n",
       "      <td>96F27A054B191457</td>\n",
       "      <td>2020-12-07 04:02:40</td>\n",
       "      <td>purchase</td>\n",
       "      <td>4.99</td>\n",
       "    </tr>\n",
       "    <tr>\n",
       "      <th>4</th>\n",
       "      <td>1FD7660FDF94CA1F</td>\n",
       "      <td>2020-12-07 10:15:09</td>\n",
       "      <td>purchase</td>\n",
       "      <td>4.99</td>\n",
       "    </tr>\n",
       "  </tbody>\n",
       "</table>\n",
       "</div>"
      ],
      "text/plain": [
       "            user_id             event_dt event_name  details\n",
       "0  E1BDDCE0DAFA2679  2020-12-07 20:22:03   purchase    99.99\n",
       "1  7B6452F081F49504  2020-12-07 09:22:53   purchase     9.99\n",
       "2  9CD9F34546DF254C  2020-12-07 12:59:29   purchase     4.99\n",
       "3  96F27A054B191457  2020-12-07 04:02:40   purchase     4.99\n",
       "4  1FD7660FDF94CA1F  2020-12-07 10:15:09   purchase     4.99"
      ]
     },
     "execution_count": 71,
     "metadata": {},
     "output_type": "execute_result"
    }
   ],
   "source": [
    "# Iniciando o pré-processamento de dados do data frame \"events\"\n",
    "events.head()"
   ]
  },
  {
   "cell_type": "code",
   "execution_count": 72,
   "metadata": {},
   "outputs": [
    {
     "name": "stdout",
     "output_type": "stream",
     "text": [
      "<class 'pandas.core.frame.DataFrame'>\n",
      "RangeIndex: 423761 entries, 0 to 423760\n",
      "Data columns (total 4 columns):\n",
      " #   Column      Non-Null Count   Dtype  \n",
      "---  ------      --------------   -----  \n",
      " 0   user_id     423761 non-null  object \n",
      " 1   event_dt    423761 non-null  object \n",
      " 2   event_name  423761 non-null  object \n",
      " 3   details     60314 non-null   float64\n",
      "dtypes: float64(1), object(3)\n",
      "memory usage: 12.9+ MB\n"
     ]
    }
   ],
   "source": [
    "# Avaliando os tipos de dados e verificando valores ausentes\n",
    "events.info()"
   ]
  },
  {
   "cell_type": "code",
   "execution_count": 73,
   "metadata": {},
   "outputs": [
    {
     "name": "stdout",
     "output_type": "stream",
     "text": [
      "<class 'pandas.core.frame.DataFrame'>\n",
      "Int64Index: 60314 entries, 0 to 60313\n",
      "Data columns (total 4 columns):\n",
      " #   Column      Non-Null Count  Dtype  \n",
      "---  ------      --------------  -----  \n",
      " 0   user_id     60314 non-null  object \n",
      " 1   event_dt    60314 non-null  object \n",
      " 2   event_name  60314 non-null  object \n",
      " 3   details     60314 non-null  float64\n",
      "dtypes: float64(1), object(3)\n",
      "memory usage: 2.3+ MB\n"
     ]
    }
   ],
   "source": [
    "# Criei um data frame auxiliar e notei que todos os valores da coluna \"details\" são os valores de compra\n",
    "# dos clientes que compraram alguma coisa, então vou substituir os valores ausentes por 0.\n",
    "df_aux1= events[events['event_name'] == 'purchase']\n",
    "df_aux1.info()"
   ]
  },
  {
   "cell_type": "code",
   "execution_count": 74,
   "metadata": {},
   "outputs": [],
   "source": [
    "# Convertendo a coluna \"event_dt\" para o tipo correto\n",
    "events['event_dt']= pd.to_datetime(events['event_dt'])"
   ]
  },
  {
   "cell_type": "code",
   "execution_count": 75,
   "metadata": {},
   "outputs": [
    {
     "data": {
      "text/plain": [
       "0"
      ]
     },
     "execution_count": 75,
     "metadata": {},
     "output_type": "execute_result"
    }
   ],
   "source": [
    "# Verificando valores duplicados\n",
    "events.duplicated().sum()"
   ]
  },
  {
   "cell_type": "code",
   "execution_count": 76,
   "metadata": {},
   "outputs": [],
   "source": [
    "# A coluna \"details\" contêm valores ausentes, vamos substituí-los por 0 conforme explicado célula acima\n",
    "# Usando a função fillna para substituir os valores ausentes por 0\n",
    "events['details'].fillna(0, inplace = True)"
   ]
  },
  {
   "cell_type": "code",
   "execution_count": 77,
   "metadata": {},
   "outputs": [
    {
     "name": "stdout",
     "output_type": "stream",
     "text": [
      "<class 'pandas.core.frame.DataFrame'>\n",
      "RangeIndex: 423761 entries, 0 to 423760\n",
      "Data columns (total 4 columns):\n",
      " #   Column      Non-Null Count   Dtype         \n",
      "---  ------      --------------   -----         \n",
      " 0   user_id     423761 non-null  object        \n",
      " 1   event_dt    423761 non-null  datetime64[ns]\n",
      " 2   event_name  423761 non-null  object        \n",
      " 3   details     423761 non-null  float64       \n",
      "dtypes: datetime64[ns](1), float64(1), object(2)\n",
      "memory usage: 12.9+ MB\n"
     ]
    }
   ],
   "source": [
    "# Poodemos notar que não existem valores ausentes no data frame\n",
    "events.info()"
   ]
  },
  {
   "cell_type": "markdown",
   "metadata": {},
   "source": [
    "* Os valores ausentes no data frame \"events\" foram substituídos por 0.\n",
    "* A coluna \"event_dt\" foi convertida para o tipo certo.\n",
    "* Não existem valores duplicados no data frame. "
   ]
  },
  {
   "cell_type": "code",
   "execution_count": 78,
   "metadata": {},
   "outputs": [
    {
     "data": {
      "text/html": [
       "<div>\n",
       "<style scoped>\n",
       "    .dataframe tbody tr th:only-of-type {\n",
       "        vertical-align: middle;\n",
       "    }\n",
       "\n",
       "    .dataframe tbody tr th {\n",
       "        vertical-align: top;\n",
       "    }\n",
       "\n",
       "    .dataframe thead th {\n",
       "        text-align: right;\n",
       "    }\n",
       "</style>\n",
       "<table border=\"1\" class=\"dataframe\">\n",
       "  <thead>\n",
       "    <tr style=\"text-align: right;\">\n",
       "      <th></th>\n",
       "      <th>user_id</th>\n",
       "      <th>group</th>\n",
       "      <th>ab_test</th>\n",
       "    </tr>\n",
       "  </thead>\n",
       "  <tbody>\n",
       "    <tr>\n",
       "      <th>0</th>\n",
       "      <td>D1ABA3E2887B6A73</td>\n",
       "      <td>A</td>\n",
       "      <td>recommender_system_test</td>\n",
       "    </tr>\n",
       "    <tr>\n",
       "      <th>1</th>\n",
       "      <td>A7A3664BD6242119</td>\n",
       "      <td>A</td>\n",
       "      <td>recommender_system_test</td>\n",
       "    </tr>\n",
       "    <tr>\n",
       "      <th>2</th>\n",
       "      <td>DABC14FDDFADD29E</td>\n",
       "      <td>A</td>\n",
       "      <td>recommender_system_test</td>\n",
       "    </tr>\n",
       "    <tr>\n",
       "      <th>3</th>\n",
       "      <td>04988C5DF189632E</td>\n",
       "      <td>A</td>\n",
       "      <td>recommender_system_test</td>\n",
       "    </tr>\n",
       "    <tr>\n",
       "      <th>4</th>\n",
       "      <td>4FF2998A348C484F</td>\n",
       "      <td>A</td>\n",
       "      <td>recommender_system_test</td>\n",
       "    </tr>\n",
       "  </tbody>\n",
       "</table>\n",
       "</div>"
      ],
      "text/plain": [
       "            user_id group                  ab_test\n",
       "0  D1ABA3E2887B6A73     A  recommender_system_test\n",
       "1  A7A3664BD6242119     A  recommender_system_test\n",
       "2  DABC14FDDFADD29E     A  recommender_system_test\n",
       "3  04988C5DF189632E     A  recommender_system_test\n",
       "4  4FF2998A348C484F     A  recommender_system_test"
      ]
     },
     "execution_count": 78,
     "metadata": {},
     "output_type": "execute_result"
    }
   ],
   "source": [
    "# Pré-processando os dados do data frame \"participants\"\n",
    "participants.head()"
   ]
  },
  {
   "cell_type": "code",
   "execution_count": 79,
   "metadata": {},
   "outputs": [
    {
     "name": "stdout",
     "output_type": "stream",
     "text": [
      "<class 'pandas.core.frame.DataFrame'>\n",
      "RangeIndex: 14525 entries, 0 to 14524\n",
      "Data columns (total 3 columns):\n",
      " #   Column   Non-Null Count  Dtype \n",
      "---  ------   --------------  ----- \n",
      " 0   user_id  14525 non-null  object\n",
      " 1   group    14525 non-null  object\n",
      " 2   ab_test  14525 non-null  object\n",
      "dtypes: object(3)\n",
      "memory usage: 340.6+ KB\n"
     ]
    }
   ],
   "source": [
    "# Verificando o tipo de dados e se existem valores ausentes\n",
    "participants.info()"
   ]
  },
  {
   "cell_type": "code",
   "execution_count": 80,
   "metadata": {},
   "outputs": [
    {
     "data": {
      "text/plain": [
       "0"
      ]
     },
     "execution_count": 80,
     "metadata": {},
     "output_type": "execute_result"
    }
   ],
   "source": [
    "# Verificando se existem valores duplicados\n",
    "participants.duplicated().sum()"
   ]
  },
  {
   "cell_type": "markdown",
   "metadata": {},
   "source": [
    "* Não existem valores duplicados no data frame \"participants\".\n",
    "* Não existem valores ausentes no data frame \"participants\".\n",
    "* Os tipos dos dados estão corretos. "
   ]
  },
  {
   "cell_type": "markdown",
   "metadata": {},
   "source": [
    "<div class=\"alert alert-block alert-success\">\n",
    "<b>Comentário: </b> <a class=\"tocSkip\"></a>\n",
    "\n",
    "- Os dados foram carregados e processados corretamente   \n",
    "- Comentários foram adicionados explicando o racional do código  \n",
    "</div>"
   ]
  },
  {
   "cell_type": "markdown",
   "metadata": {},
   "source": [
    "### Segunda Parte:\n",
    "#### Nesta parte vamos responder as seguintes perguntas:\n",
    "* Estudar a conversão em diferentes etapas do funil;\n",
    "* O número de eventos por usuário é distribuído igualmente entre as amostras?\n",
    "* Os usuários de ambas as amostras estão presentes?\n",
    "* Como o número de eventos é distribuído entre os dias?\n",
    "* Existem quaisquer particularidades nos dados que você deve considerar antes de começar o teste A/B?"
   ]
  },
  {
   "cell_type": "code",
   "execution_count": 81,
   "metadata": {},
   "outputs": [
    {
     "data": {
      "text/html": [
       "<div>\n",
       "<style scoped>\n",
       "    .dataframe tbody tr th:only-of-type {\n",
       "        vertical-align: middle;\n",
       "    }\n",
       "\n",
       "    .dataframe tbody tr th {\n",
       "        vertical-align: top;\n",
       "    }\n",
       "\n",
       "    .dataframe thead th {\n",
       "        text-align: right;\n",
       "    }\n",
       "</style>\n",
       "<table border=\"1\" class=\"dataframe\">\n",
       "  <thead>\n",
       "    <tr style=\"text-align: right;\">\n",
       "      <th></th>\n",
       "      <th>name</th>\n",
       "      <th>regions</th>\n",
       "      <th>start_dt</th>\n",
       "      <th>finish_dt</th>\n",
       "    </tr>\n",
       "  </thead>\n",
       "  <tbody>\n",
       "    <tr>\n",
       "      <th>0</th>\n",
       "      <td>Christmas&amp;New Year Promo</td>\n",
       "      <td>EU, N.America</td>\n",
       "      <td>2020-12-25</td>\n",
       "      <td>2021-01-03</td>\n",
       "    </tr>\n",
       "    <tr>\n",
       "      <th>1</th>\n",
       "      <td>St. Valentine's Day Giveaway</td>\n",
       "      <td>EU, CIS, APAC, N.America</td>\n",
       "      <td>2020-02-14</td>\n",
       "      <td>2020-02-16</td>\n",
       "    </tr>\n",
       "    <tr>\n",
       "      <th>2</th>\n",
       "      <td>St. Patric's Day Promo</td>\n",
       "      <td>EU, N.America</td>\n",
       "      <td>2020-03-17</td>\n",
       "      <td>2020-03-19</td>\n",
       "    </tr>\n",
       "    <tr>\n",
       "      <th>3</th>\n",
       "      <td>Easter Promo</td>\n",
       "      <td>EU, CIS, APAC, N.America</td>\n",
       "      <td>2020-04-12</td>\n",
       "      <td>2020-04-19</td>\n",
       "    </tr>\n",
       "    <tr>\n",
       "      <th>4</th>\n",
       "      <td>4th of July Promo</td>\n",
       "      <td>N.America</td>\n",
       "      <td>2020-07-04</td>\n",
       "      <td>2020-07-11</td>\n",
       "    </tr>\n",
       "  </tbody>\n",
       "</table>\n",
       "</div>"
      ],
      "text/plain": [
       "                           name                   regions   start_dt  \\\n",
       "0      Christmas&New Year Promo             EU, N.America 2020-12-25   \n",
       "1  St. Valentine's Day Giveaway  EU, CIS, APAC, N.America 2020-02-14   \n",
       "2        St. Patric's Day Promo             EU, N.America 2020-03-17   \n",
       "3                  Easter Promo  EU, CIS, APAC, N.America 2020-04-12   \n",
       "4             4th of July Promo                 N.America 2020-07-04   \n",
       "\n",
       "   finish_dt  \n",
       "0 2021-01-03  \n",
       "1 2020-02-16  \n",
       "2 2020-03-19  \n",
       "3 2020-04-19  \n",
       "4 2020-07-11  "
      ]
     },
     "execution_count": 81,
     "metadata": {},
     "output_type": "execute_result"
    }
   ],
   "source": [
    "# primeiro data frame sobre eventos de markenting\n",
    "marketing_events.head()"
   ]
  },
  {
   "cell_type": "code",
   "execution_count": 82,
   "metadata": {},
   "outputs": [
    {
     "data": {
      "text/plain": [
       "Timestamp('2020-12-07 00:00:00')"
      ]
     },
     "execution_count": 82,
     "metadata": {},
     "output_type": "execute_result"
    }
   ],
   "source": [
    "new_users.first_date.min()"
   ]
  },
  {
   "cell_type": "code",
   "execution_count": 83,
   "metadata": {},
   "outputs": [
    {
     "data": {
      "text/html": [
       "<div>\n",
       "<style scoped>\n",
       "    .dataframe tbody tr th:only-of-type {\n",
       "        vertical-align: middle;\n",
       "    }\n",
       "\n",
       "    .dataframe tbody tr th {\n",
       "        vertical-align: top;\n",
       "    }\n",
       "\n",
       "    .dataframe thead th {\n",
       "        text-align: right;\n",
       "    }\n",
       "</style>\n",
       "<table border=\"1\" class=\"dataframe\">\n",
       "  <thead>\n",
       "    <tr style=\"text-align: right;\">\n",
       "      <th></th>\n",
       "      <th>user_id</th>\n",
       "      <th>first_date</th>\n",
       "      <th>region</th>\n",
       "      <th>device</th>\n",
       "    </tr>\n",
       "  </thead>\n",
       "  <tbody>\n",
       "    <tr>\n",
       "      <th>0</th>\n",
       "      <td>D72A72121175D8BE</td>\n",
       "      <td>2020-12-07</td>\n",
       "      <td>EU</td>\n",
       "      <td>PC</td>\n",
       "    </tr>\n",
       "    <tr>\n",
       "      <th>1</th>\n",
       "      <td>F1C668619DFE6E65</td>\n",
       "      <td>2020-12-07</td>\n",
       "      <td>N.America</td>\n",
       "      <td>Android</td>\n",
       "    </tr>\n",
       "    <tr>\n",
       "      <th>2</th>\n",
       "      <td>2E1BF1D4C37EA01F</td>\n",
       "      <td>2020-12-07</td>\n",
       "      <td>EU</td>\n",
       "      <td>PC</td>\n",
       "    </tr>\n",
       "    <tr>\n",
       "      <th>3</th>\n",
       "      <td>50734A22C0C63768</td>\n",
       "      <td>2020-12-07</td>\n",
       "      <td>EU</td>\n",
       "      <td>iPhone</td>\n",
       "    </tr>\n",
       "    <tr>\n",
       "      <th>4</th>\n",
       "      <td>E1BDDCE0DAFA2679</td>\n",
       "      <td>2020-12-07</td>\n",
       "      <td>N.America</td>\n",
       "      <td>iPhone</td>\n",
       "    </tr>\n",
       "  </tbody>\n",
       "</table>\n",
       "</div>"
      ],
      "text/plain": [
       "            user_id first_date     region   device\n",
       "0  D72A72121175D8BE 2020-12-07         EU       PC\n",
       "1  F1C668619DFE6E65 2020-12-07  N.America  Android\n",
       "2  2E1BF1D4C37EA01F 2020-12-07         EU       PC\n",
       "3  50734A22C0C63768 2020-12-07         EU   iPhone\n",
       "4  E1BDDCE0DAFA2679 2020-12-07  N.America   iPhone"
      ]
     },
     "execution_count": 83,
     "metadata": {},
     "output_type": "execute_result"
    }
   ],
   "source": [
    "# segundo data frame tem os usuários que se cadastraram na loja entre 7 e 21 de dezembro de 2020\n",
    "new_users.head()"
   ]
  },
  {
   "cell_type": "code",
   "execution_count": 84,
   "metadata": {},
   "outputs": [
    {
     "data": {
      "text/plain": [
       "Timestamp('2020-12-07 00:00:33')"
      ]
     },
     "execution_count": 84,
     "metadata": {},
     "output_type": "execute_result"
    }
   ],
   "source": [
    "events.event_dt.min()"
   ]
  },
  {
   "cell_type": "code",
   "execution_count": 85,
   "metadata": {},
   "outputs": [
    {
     "data": {
      "text/html": [
       "<div>\n",
       "<style scoped>\n",
       "    .dataframe tbody tr th:only-of-type {\n",
       "        vertical-align: middle;\n",
       "    }\n",
       "\n",
       "    .dataframe tbody tr th {\n",
       "        vertical-align: top;\n",
       "    }\n",
       "\n",
       "    .dataframe thead th {\n",
       "        text-align: right;\n",
       "    }\n",
       "</style>\n",
       "<table border=\"1\" class=\"dataframe\">\n",
       "  <thead>\n",
       "    <tr style=\"text-align: right;\">\n",
       "      <th></th>\n",
       "      <th>user_id</th>\n",
       "      <th>event_dt</th>\n",
       "      <th>event_name</th>\n",
       "      <th>details</th>\n",
       "    </tr>\n",
       "  </thead>\n",
       "  <tbody>\n",
       "    <tr>\n",
       "      <th>0</th>\n",
       "      <td>E1BDDCE0DAFA2679</td>\n",
       "      <td>2020-12-07 20:22:03</td>\n",
       "      <td>purchase</td>\n",
       "      <td>99.99</td>\n",
       "    </tr>\n",
       "    <tr>\n",
       "      <th>1</th>\n",
       "      <td>7B6452F081F49504</td>\n",
       "      <td>2020-12-07 09:22:53</td>\n",
       "      <td>purchase</td>\n",
       "      <td>9.99</td>\n",
       "    </tr>\n",
       "    <tr>\n",
       "      <th>2</th>\n",
       "      <td>9CD9F34546DF254C</td>\n",
       "      <td>2020-12-07 12:59:29</td>\n",
       "      <td>purchase</td>\n",
       "      <td>4.99</td>\n",
       "    </tr>\n",
       "    <tr>\n",
       "      <th>3</th>\n",
       "      <td>96F27A054B191457</td>\n",
       "      <td>2020-12-07 04:02:40</td>\n",
       "      <td>purchase</td>\n",
       "      <td>4.99</td>\n",
       "    </tr>\n",
       "    <tr>\n",
       "      <th>4</th>\n",
       "      <td>1FD7660FDF94CA1F</td>\n",
       "      <td>2020-12-07 10:15:09</td>\n",
       "      <td>purchase</td>\n",
       "      <td>4.99</td>\n",
       "    </tr>\n",
       "  </tbody>\n",
       "</table>\n",
       "</div>"
      ],
      "text/plain": [
       "            user_id            event_dt event_name  details\n",
       "0  E1BDDCE0DAFA2679 2020-12-07 20:22:03   purchase    99.99\n",
       "1  7B6452F081F49504 2020-12-07 09:22:53   purchase     9.99\n",
       "2  9CD9F34546DF254C 2020-12-07 12:59:29   purchase     4.99\n",
       "3  96F27A054B191457 2020-12-07 04:02:40   purchase     4.99\n",
       "4  1FD7660FDF94CA1F 2020-12-07 10:15:09   purchase     4.99"
      ]
     },
     "execution_count": 85,
     "metadata": {},
     "output_type": "execute_result"
    }
   ],
   "source": [
    "# O terceiro data frame tem todos os eventos dos novos usuários de 7 de dezembro a 1 de janeiro de 2021\n",
    "events.head()"
   ]
  },
  {
   "cell_type": "code",
   "execution_count": 86,
   "metadata": {},
   "outputs": [
    {
     "data": {
      "text/html": [
       "<div>\n",
       "<style scoped>\n",
       "    .dataframe tbody tr th:only-of-type {\n",
       "        vertical-align: middle;\n",
       "    }\n",
       "\n",
       "    .dataframe tbody tr th {\n",
       "        vertical-align: top;\n",
       "    }\n",
       "\n",
       "    .dataframe thead th {\n",
       "        text-align: right;\n",
       "    }\n",
       "</style>\n",
       "<table border=\"1\" class=\"dataframe\">\n",
       "  <thead>\n",
       "    <tr style=\"text-align: right;\">\n",
       "      <th></th>\n",
       "      <th>user_id</th>\n",
       "      <th>group</th>\n",
       "      <th>ab_test</th>\n",
       "    </tr>\n",
       "  </thead>\n",
       "  <tbody>\n",
       "    <tr>\n",
       "      <th>0</th>\n",
       "      <td>D1ABA3E2887B6A73</td>\n",
       "      <td>A</td>\n",
       "      <td>recommender_system_test</td>\n",
       "    </tr>\n",
       "    <tr>\n",
       "      <th>1</th>\n",
       "      <td>A7A3664BD6242119</td>\n",
       "      <td>A</td>\n",
       "      <td>recommender_system_test</td>\n",
       "    </tr>\n",
       "    <tr>\n",
       "      <th>2</th>\n",
       "      <td>DABC14FDDFADD29E</td>\n",
       "      <td>A</td>\n",
       "      <td>recommender_system_test</td>\n",
       "    </tr>\n",
       "    <tr>\n",
       "      <th>3</th>\n",
       "      <td>04988C5DF189632E</td>\n",
       "      <td>A</td>\n",
       "      <td>recommender_system_test</td>\n",
       "    </tr>\n",
       "    <tr>\n",
       "      <th>4</th>\n",
       "      <td>4FF2998A348C484F</td>\n",
       "      <td>A</td>\n",
       "      <td>recommender_system_test</td>\n",
       "    </tr>\n",
       "  </tbody>\n",
       "</table>\n",
       "</div>"
      ],
      "text/plain": [
       "            user_id group                  ab_test\n",
       "0  D1ABA3E2887B6A73     A  recommender_system_test\n",
       "1  A7A3664BD6242119     A  recommender_system_test\n",
       "2  DABC14FDDFADD29E     A  recommender_system_test\n",
       "3  04988C5DF189632E     A  recommender_system_test\n",
       "4  4FF2998A348C484F     A  recommender_system_test"
      ]
     },
     "execution_count": 86,
     "metadata": {},
     "output_type": "execute_result"
    }
   ],
   "source": [
    "# O quarto data frame tem uma tabela com os participantes do teste\n",
    "participants.head()"
   ]
  },
  {
   "cell_type": "code",
   "execution_count": 87,
   "metadata": {},
   "outputs": [
    {
     "data": {
      "text/html": [
       "<div>\n",
       "<style scoped>\n",
       "    .dataframe tbody tr th:only-of-type {\n",
       "        vertical-align: middle;\n",
       "    }\n",
       "\n",
       "    .dataframe tbody tr th {\n",
       "        vertical-align: top;\n",
       "    }\n",
       "\n",
       "    .dataframe thead th {\n",
       "        text-align: right;\n",
       "    }\n",
       "</style>\n",
       "<table border=\"1\" class=\"dataframe\">\n",
       "  <thead>\n",
       "    <tr style=\"text-align: right;\">\n",
       "      <th></th>\n",
       "      <th>user_id</th>\n",
       "      <th>event_dt</th>\n",
       "      <th>event_name</th>\n",
       "      <th>details</th>\n",
       "      <th>group</th>\n",
       "      <th>ab_test</th>\n",
       "    </tr>\n",
       "  </thead>\n",
       "  <tbody>\n",
       "    <tr>\n",
       "      <th>0</th>\n",
       "      <td>E1BDDCE0DAFA2679</td>\n",
       "      <td>2020-12-07 20:22:03</td>\n",
       "      <td>purchase</td>\n",
       "      <td>99.99</td>\n",
       "      <td>NaN</td>\n",
       "      <td>NaN</td>\n",
       "    </tr>\n",
       "    <tr>\n",
       "      <th>1</th>\n",
       "      <td>7B6452F081F49504</td>\n",
       "      <td>2020-12-07 09:22:53</td>\n",
       "      <td>purchase</td>\n",
       "      <td>9.99</td>\n",
       "      <td>NaN</td>\n",
       "      <td>NaN</td>\n",
       "    </tr>\n",
       "    <tr>\n",
       "      <th>2</th>\n",
       "      <td>9CD9F34546DF254C</td>\n",
       "      <td>2020-12-07 12:59:29</td>\n",
       "      <td>purchase</td>\n",
       "      <td>4.99</td>\n",
       "      <td>NaN</td>\n",
       "      <td>NaN</td>\n",
       "    </tr>\n",
       "    <tr>\n",
       "      <th>3</th>\n",
       "      <td>96F27A054B191457</td>\n",
       "      <td>2020-12-07 04:02:40</td>\n",
       "      <td>purchase</td>\n",
       "      <td>4.99</td>\n",
       "      <td>B</td>\n",
       "      <td>interface_eu_test</td>\n",
       "    </tr>\n",
       "    <tr>\n",
       "      <th>4</th>\n",
       "      <td>1FD7660FDF94CA1F</td>\n",
       "      <td>2020-12-07 10:15:09</td>\n",
       "      <td>purchase</td>\n",
       "      <td>4.99</td>\n",
       "      <td>NaN</td>\n",
       "      <td>NaN</td>\n",
       "    </tr>\n",
       "  </tbody>\n",
       "</table>\n",
       "</div>"
      ],
      "text/plain": [
       "            user_id            event_dt event_name  details group  \\\n",
       "0  E1BDDCE0DAFA2679 2020-12-07 20:22:03   purchase    99.99   NaN   \n",
       "1  7B6452F081F49504 2020-12-07 09:22:53   purchase     9.99   NaN   \n",
       "2  9CD9F34546DF254C 2020-12-07 12:59:29   purchase     4.99   NaN   \n",
       "3  96F27A054B191457 2020-12-07 04:02:40   purchase     4.99     B   \n",
       "4  1FD7660FDF94CA1F 2020-12-07 10:15:09   purchase     4.99   NaN   \n",
       "\n",
       "             ab_test  \n",
       "0                NaN  \n",
       "1                NaN  \n",
       "2                NaN  \n",
       "3  interface_eu_test  \n",
       "4                NaN  "
      ]
     },
     "execution_count": 87,
     "metadata": {},
     "output_type": "execute_result"
    }
   ],
   "source": [
    "# Mesclando os data frames events e participants \n",
    "merged_df = events.merge(participants, on = 'user_id', how = 'left')\n",
    "merged_df.head()"
   ]
  },
  {
   "cell_type": "markdown",
   "metadata": {},
   "source": [
    "<div class=\"alert alert-block alert-danger\">\n",
    "\n",
    "<b>Comentário: </b> <a class=\"tocSkip\"></a>\n",
    "\n",
    "O teste requer os seguintes critérios: \n",
    "    Grupos: A (controle)m B (funil de novos pagamentos)   \n",
    "    Data de início: 07-12-2020   \n",
    "    Data de quando paparam de receber novos usuários: 21-12-2020   \n",
    "    Data de término: 01-01-2021     \n",
    "    **Público: 15% de novos usuários da região da UE** - É necessário garantir que 15% dos novos usuários sejam da região da UE.   \n",
    "    \n",
    "Para isso, é recomendado um código semelhante a esse:  \n",
    "            \n",
    "    novos_usuarios_UE = usuarios[(usuarios['region'] == 'EU') & (usuarios['first_date'] >= '2020-12-07') &     (usuarios['first_date'] <= '2020-12-21')]\n",
    "                                                                                                                                           \n",
    "    total_novos_usuarios = len(novos_usuarios_UE)\n",
    "\n",
    "    porcentagem_novos_usuarios_UE = (total_novos_usuarios / len(usuarios)) * 100\n",
    "\n",
    "    print(\"Porcentagem de novos usuários da UE:\", porcentagem_novos_usuarios_UE)\n",
    "</div>"
   ]
  },
  {
   "cell_type": "code",
   "execution_count": 88,
   "metadata": {},
   "outputs": [
    {
     "name": "stdout",
     "output_type": "stream",
     "text": [
      "Porcentagem de novos usuários da UE: 67.22995417610684\n"
     ]
    }
   ],
   "source": [
    "new_users_UE = new_users[(new_users['region'] == 'EU') & (new_users['first_date'] >= '2020-12-07') &  (new_users['first_date'] <= '2020-12-21')]\n",
    "\n",
    "total_novos_usuarios = len(new_users_UE)\n",
    "\n",
    "porcentagem_novos_usuarios_UE = (total_novos_usuarios / len(new_users)) * 100\n",
    "\n",
    "print(\"Porcentagem de novos usuários da UE:\", porcentagem_novos_usuarios_UE)"
   ]
  },
  {
   "cell_type": "markdown",
   "metadata": {},
   "source": []
  },
  {
   "cell_type": "code",
   "execution_count": null,
   "metadata": {},
   "outputs": [],
   "source": [
    "Voce iria adicionar algum comentário nessa parte?"
   ]
  },
  {
   "cell_type": "code",
   "execution_count": 89,
   "metadata": {},
   "outputs": [
    {
     "data": {
      "text/html": [
       "<div>\n",
       "<style scoped>\n",
       "    .dataframe tbody tr th:only-of-type {\n",
       "        vertical-align: middle;\n",
       "    }\n",
       "\n",
       "    .dataframe tbody tr th {\n",
       "        vertical-align: top;\n",
       "    }\n",
       "\n",
       "    .dataframe thead th {\n",
       "        text-align: right;\n",
       "    }\n",
       "</style>\n",
       "<table border=\"1\" class=\"dataframe\">\n",
       "  <thead>\n",
       "    <tr style=\"text-align: right;\">\n",
       "      <th></th>\n",
       "      <th>event_name</th>\n",
       "      <th>visits</th>\n",
       "      <th>visits_shifted</th>\n",
       "      <th>conversion</th>\n",
       "    </tr>\n",
       "  </thead>\n",
       "  <tbody>\n",
       "    <tr>\n",
       "      <th>0</th>\n",
       "      <td>login</td>\n",
       "      <td>8272</td>\n",
       "      <td>NaN</td>\n",
       "      <td>NaN</td>\n",
       "    </tr>\n",
       "    <tr>\n",
       "      <th>1</th>\n",
       "      <td>product_page</td>\n",
       "      <td>5328</td>\n",
       "      <td>8272.0</td>\n",
       "      <td>0.644101</td>\n",
       "    </tr>\n",
       "    <tr>\n",
       "      <th>2</th>\n",
       "      <td>product_cart</td>\n",
       "      <td>2482</td>\n",
       "      <td>5328.0</td>\n",
       "      <td>0.465841</td>\n",
       "    </tr>\n",
       "    <tr>\n",
       "      <th>3</th>\n",
       "      <td>purchase</td>\n",
       "      <td>2545</td>\n",
       "      <td>2482.0</td>\n",
       "      <td>1.025383</td>\n",
       "    </tr>\n",
       "  </tbody>\n",
       "</table>\n",
       "</div>"
      ],
      "text/plain": [
       "     event_name  visits  visits_shifted  conversion\n",
       "0         login    8272             NaN         NaN\n",
       "1  product_page    5328          8272.0    0.644101\n",
       "2  product_cart    2482          5328.0    0.465841\n",
       "3      purchase    2545          2482.0    1.025383"
      ]
     },
     "execution_count": 89,
     "metadata": {},
     "output_type": "execute_result"
    }
   ],
   "source": [
    "# Criando um funil de conversão para todos os usuários do grupo A e do teste recommender_system_test\n",
    "funil_df_A = (merged_df[(merged_df['group'] == 'A') & (merged_df['ab_test'] == 'recommender_system_test')]\n",
    "              .groupby('event_name').size()\n",
    "              .reindex(['login', 'product_page', 'product_cart', 'purchase']))\n",
    "\n",
    "funil_df_A = funil_df_A.reset_index(name='visits')\n",
    "\n",
    "funil_df_A['visits_shifted'] = funil_df_A['visits'].shift(1)\n",
    "funil_df_A['conversion'] = funil_df_A['visits'].div(funil_df_A['visits_shifted'])\n",
    "\n",
    "funil_df_A\n"
   ]
  },
  {
   "cell_type": "markdown",
   "metadata": {},
   "source": [
    "* Na célula acima existe uma curiosidade que deve ser mencionada, os valores de purchase são maiores do que os valores de product_cart, ou seja, tem que ser averiguado se é possível o cliente ir direto da página do produto para a compra, sem passar pelo evento product_cart.\n",
    "* A coluna conversion mostra a taxa de conversão para cada etapa do funil do grupo A.\n"
   ]
  },
  {
   "cell_type": "code",
   "execution_count": 111,
   "metadata": {},
   "outputs": [
    {
     "data": {
      "text/plain": [
       "58705"
      ]
     },
     "execution_count": 111,
     "metadata": {},
     "output_type": "execute_result"
    }
   ],
   "source": [
    "# Calcular o número total de usuários em cada grupo\n",
    "len(merged_df[merged_df['group'] == 'A'])"
   ]
  },
  {
   "cell_type": "code",
   "execution_count": 90,
   "metadata": {},
   "outputs": [
    {
     "data": {
      "text/html": [
       "<div>\n",
       "<style scoped>\n",
       "    .dataframe tbody tr th:only-of-type {\n",
       "        vertical-align: middle;\n",
       "    }\n",
       "\n",
       "    .dataframe tbody tr th {\n",
       "        vertical-align: top;\n",
       "    }\n",
       "\n",
       "    .dataframe thead th {\n",
       "        text-align: right;\n",
       "    }\n",
       "</style>\n",
       "<table border=\"1\" class=\"dataframe\">\n",
       "  <thead>\n",
       "    <tr style=\"text-align: right;\">\n",
       "      <th></th>\n",
       "      <th>event_name</th>\n",
       "      <th>visits</th>\n",
       "      <th>visits_shifted</th>\n",
       "      <th>conversion</th>\n",
       "    </tr>\n",
       "  </thead>\n",
       "  <tbody>\n",
       "    <tr>\n",
       "      <th>0</th>\n",
       "      <td>login</td>\n",
       "      <td>2565</td>\n",
       "      <td>NaN</td>\n",
       "      <td>NaN</td>\n",
       "    </tr>\n",
       "    <tr>\n",
       "      <th>1</th>\n",
       "      <td>product_page</td>\n",
       "      <td>1374</td>\n",
       "      <td>2565.0</td>\n",
       "      <td>0.535673</td>\n",
       "    </tr>\n",
       "    <tr>\n",
       "      <th>2</th>\n",
       "      <td>product_cart</td>\n",
       "      <td>678</td>\n",
       "      <td>1374.0</td>\n",
       "      <td>0.493450</td>\n",
       "    </tr>\n",
       "    <tr>\n",
       "      <th>3</th>\n",
       "      <td>purchase</td>\n",
       "      <td>665</td>\n",
       "      <td>678.0</td>\n",
       "      <td>0.980826</td>\n",
       "    </tr>\n",
       "  </tbody>\n",
       "</table>\n",
       "</div>"
      ],
      "text/plain": [
       "     event_name  visits  visits_shifted  conversion\n",
       "0         login    2565             NaN         NaN\n",
       "1  product_page    1374          2565.0    0.535673\n",
       "2  product_cart     678          1374.0    0.493450\n",
       "3      purchase     665           678.0    0.980826"
      ]
     },
     "execution_count": 90,
     "metadata": {},
     "output_type": "execute_result"
    }
   ],
   "source": [
    "# Criando um funil de conversão para todos os usuários do grupo B\n",
    "funil_df_B = (merged_df[(merged_df['group'] == 'B') & (merged_df['ab_test'] == 'recommender_system_test')]\n",
    "              .groupby(['event_name']).size()\n",
    "              .reindex(['login', 'product_page', 'product_cart', 'purchase']))\n",
    "\n",
    "funil_df_B = funil_df_B.reset_index(name='visits')\n",
    "\n",
    "funil_df_B['visits_shifted'] = funil_df_B['visits'].shift(1)\n",
    "funil_df_B['conversion'] = funil_df_B['visits'].div(funil_df_B['visits_shifted'])\n",
    "\n",
    "funil_df_B\n"
   ]
  },
  {
   "cell_type": "markdown",
   "metadata": {},
   "source": [
    "* O funil do grupo B apresenta bem menos usuários do que o funil do grupo A para o teste 'recommender_system_test', que é o que está sendo analisado.\n",
    "* Contudo a conversão do evento product_page para o evento product_cart\té maior para o grupo B.\n",
    "* A conversão do evento product_cart para purchase é menor para o grupo B."
   ]
  },
  {
   "cell_type": "code",
   "execution_count": 91,
   "metadata": {},
   "outputs": [
    {
     "data": {
      "text/html": [
       "<div>\n",
       "<style scoped>\n",
       "    .dataframe tbody tr th:only-of-type {\n",
       "        vertical-align: middle;\n",
       "    }\n",
       "\n",
       "    .dataframe tbody tr th {\n",
       "        vertical-align: top;\n",
       "    }\n",
       "\n",
       "    .dataframe thead th {\n",
       "        text-align: right;\n",
       "    }\n",
       "</style>\n",
       "<table border=\"1\" class=\"dataframe\">\n",
       "  <thead>\n",
       "    <tr style=\"text-align: right;\">\n",
       "      <th></th>\n",
       "      <th>user_id</th>\n",
       "      <th>first_date</th>\n",
       "      <th>region</th>\n",
       "      <th>device</th>\n",
       "      <th>group</th>\n",
       "      <th>ab_test</th>\n",
       "    </tr>\n",
       "  </thead>\n",
       "  <tbody>\n",
       "    <tr>\n",
       "      <th>0</th>\n",
       "      <td>D72A72121175D8BE</td>\n",
       "      <td>2020-12-07</td>\n",
       "      <td>EU</td>\n",
       "      <td>PC</td>\n",
       "      <td>A</td>\n",
       "      <td>recommender_system_test</td>\n",
       "    </tr>\n",
       "    <tr>\n",
       "      <th>1</th>\n",
       "      <td>F1C668619DFE6E65</td>\n",
       "      <td>2020-12-07</td>\n",
       "      <td>N.America</td>\n",
       "      <td>Android</td>\n",
       "      <td>NaN</td>\n",
       "      <td>NaN</td>\n",
       "    </tr>\n",
       "    <tr>\n",
       "      <th>2</th>\n",
       "      <td>2E1BF1D4C37EA01F</td>\n",
       "      <td>2020-12-07</td>\n",
       "      <td>EU</td>\n",
       "      <td>PC</td>\n",
       "      <td>A</td>\n",
       "      <td>interface_eu_test</td>\n",
       "    </tr>\n",
       "    <tr>\n",
       "      <th>3</th>\n",
       "      <td>50734A22C0C63768</td>\n",
       "      <td>2020-12-07</td>\n",
       "      <td>EU</td>\n",
       "      <td>iPhone</td>\n",
       "      <td>B</td>\n",
       "      <td>interface_eu_test</td>\n",
       "    </tr>\n",
       "    <tr>\n",
       "      <th>4</th>\n",
       "      <td>E1BDDCE0DAFA2679</td>\n",
       "      <td>2020-12-07</td>\n",
       "      <td>N.America</td>\n",
       "      <td>iPhone</td>\n",
       "      <td>NaN</td>\n",
       "      <td>NaN</td>\n",
       "    </tr>\n",
       "  </tbody>\n",
       "</table>\n",
       "</div>"
      ],
      "text/plain": [
       "            user_id first_date     region   device group  \\\n",
       "0  D72A72121175D8BE 2020-12-07         EU       PC     A   \n",
       "1  F1C668619DFE6E65 2020-12-07  N.America  Android   NaN   \n",
       "2  2E1BF1D4C37EA01F 2020-12-07         EU       PC     A   \n",
       "3  50734A22C0C63768 2020-12-07         EU   iPhone     B   \n",
       "4  E1BDDCE0DAFA2679 2020-12-07  N.America   iPhone   NaN   \n",
       "\n",
       "                   ab_test  \n",
       "0  recommender_system_test  \n",
       "1                      NaN  \n",
       "2        interface_eu_test  \n",
       "3        interface_eu_test  \n",
       "4                      NaN  "
      ]
     },
     "execution_count": 91,
     "metadata": {},
     "output_type": "execute_result"
    }
   ],
   "source": [
    "merged_df_2 = pd.merge(new_users,participants, on='user_id', how='left')\n",
    "merged_df_2.head()"
   ]
  },
  {
   "cell_type": "code",
   "execution_count": 92,
   "metadata": {},
   "outputs": [
    {
     "data": {
      "text/html": [
       "<div>\n",
       "<style scoped>\n",
       "    .dataframe tbody tr th:only-of-type {\n",
       "        vertical-align: middle;\n",
       "    }\n",
       "\n",
       "    .dataframe tbody tr th {\n",
       "        vertical-align: top;\n",
       "    }\n",
       "\n",
       "    .dataframe thead th {\n",
       "        text-align: right;\n",
       "    }\n",
       "</style>\n",
       "<table border=\"1\" class=\"dataframe\">\n",
       "  <thead>\n",
       "    <tr style=\"text-align: right;\">\n",
       "      <th></th>\n",
       "      <th>user_id</th>\n",
       "      <th>group</th>\n",
       "      <th>num_events</th>\n",
       "    </tr>\n",
       "  </thead>\n",
       "  <tbody>\n",
       "    <tr>\n",
       "      <th>0</th>\n",
       "      <td>0002CE61FF2C4011</td>\n",
       "      <td>A</td>\n",
       "      <td>12</td>\n",
       "    </tr>\n",
       "    <tr>\n",
       "      <th>1</th>\n",
       "      <td>001064FEAAB631A1</td>\n",
       "      <td>B</td>\n",
       "      <td>12</td>\n",
       "    </tr>\n",
       "    <tr>\n",
       "      <th>2</th>\n",
       "      <td>0010A1C096941592</td>\n",
       "      <td>A</td>\n",
       "      <td>12</td>\n",
       "    </tr>\n",
       "    <tr>\n",
       "      <th>3</th>\n",
       "      <td>001E72F50D1C48FA</td>\n",
       "      <td>B</td>\n",
       "      <td>6</td>\n",
       "    </tr>\n",
       "    <tr>\n",
       "      <th>4</th>\n",
       "      <td>002412F1EB3F6E38</td>\n",
       "      <td>A</td>\n",
       "      <td>6</td>\n",
       "    </tr>\n",
       "  </tbody>\n",
       "</table>\n",
       "</div>"
      ],
      "text/plain": [
       "            user_id group  num_events\n",
       "0  0002CE61FF2C4011     A          12\n",
       "1  001064FEAAB631A1     B          12\n",
       "2  0010A1C096941592     A          12\n",
       "3  001E72F50D1C48FA     B           6\n",
       "4  002412F1EB3F6E38     A           6"
      ]
     },
     "execution_count": 92,
     "metadata": {},
     "output_type": "execute_result"
    }
   ],
   "source": [
    "# Verificando se o número de eventos por usuário é distribuído igualmente entre as amostras\n",
    "# Contando o número de eventos por usuário\n",
    "events_per_user = merged_df.groupby(['user_id', 'group']).size().reset_index(name='num_events')\n",
    "events_per_user.head()\n"
   ]
  },
  {
   "cell_type": "code",
   "execution_count": 93,
   "metadata": {},
   "outputs": [
    {
     "data": {
      "text/html": [
       "<div>\n",
       "<style scoped>\n",
       "    .dataframe tbody tr th:only-of-type {\n",
       "        vertical-align: middle;\n",
       "    }\n",
       "\n",
       "    .dataframe tbody tr th {\n",
       "        vertical-align: top;\n",
       "    }\n",
       "\n",
       "    .dataframe thead th {\n",
       "        text-align: right;\n",
       "    }\n",
       "</style>\n",
       "<table border=\"1\" class=\"dataframe\">\n",
       "  <thead>\n",
       "    <tr style=\"text-align: right;\">\n",
       "      <th></th>\n",
       "      <th>group</th>\n",
       "      <th>mean_events</th>\n",
       "      <th>total_users</th>\n",
       "      <th>total_events</th>\n",
       "      <th>std_events</th>\n",
       "    </tr>\n",
       "  </thead>\n",
       "  <tbody>\n",
       "    <tr>\n",
       "      <th>0</th>\n",
       "      <td>A</td>\n",
       "      <td>7.45555</td>\n",
       "      <td>7874</td>\n",
       "      <td>58705</td>\n",
       "      <td>4.475159</td>\n",
       "    </tr>\n",
       "    <tr>\n",
       "      <th>1</th>\n",
       "      <td>B</td>\n",
       "      <td>7.11249</td>\n",
       "      <td>6205</td>\n",
       "      <td>44133</td>\n",
       "      <td>4.246201</td>\n",
       "    </tr>\n",
       "  </tbody>\n",
       "</table>\n",
       "</div>"
      ],
      "text/plain": [
       "  group  mean_events  total_users  total_events  std_events\n",
       "0     A      7.45555         7874         58705    4.475159\n",
       "1     B      7.11249         6205         44133    4.246201"
      ]
     },
     "execution_count": 93,
     "metadata": {},
     "output_type": "execute_result"
    }
   ],
   "source": [
    "# Calculando a média de eventos por usuário para cada grupo\n",
    "mean_events_per_user = events_per_user.groupby('group')['num_events'].mean().reset_index(name='mean_events')\n",
    "\n",
    "# Calculando outras métricas úteis, como o número total de usuários por grupo e o desvio padrão dos eventos\n",
    "additional_metrics = (events_per_user.groupby('group')['num_events']\n",
    "                      .agg(total_users='count', total_events='sum', std_events='std')\n",
    "                      .reset_index())\n",
    "group_metrics = mean_events_per_user.merge(additional_metrics, on='group')\n",
    "group_metrics\n"
   ]
  },
  {
   "cell_type": "markdown",
   "metadata": {},
   "source": [
    "* Notamos que o grupo A tem mais usuários, tem mais eventos, e consequentemente tem uma maior média de eventos por usuário."
   ]
  },
  {
   "cell_type": "code",
   "execution_count": 94,
   "metadata": {},
   "outputs": [
    {
     "data": {
      "image/png": "[encoded data removed]",
      "text/plain": [
       "<Figure size 600x400 with 1 Axes>"
      ]
     },
     "metadata": {},
     "output_type": "display_data"
    }
   ],
   "source": [
    "# Plotando um histograma para a distribuição do número de eventos por usuário\n",
    "plt.figure(figsize=(6, 4))\n",
    "plt.hist(events_per_user['num_events'], bins=20, color='skyblue', edgecolor='black', alpha=0.7)\n",
    "plt.title('Distribuição do Número de Eventos por Usuário')\n",
    "plt.xlabel('Número de Eventos')\n",
    "plt.ylabel('Frequência')\n",
    "plt.grid(True)\n",
    "plt.show()\n"
   ]
  },
  {
   "cell_type": "code",
   "execution_count": 95,
   "metadata": {},
   "outputs": [],
   "source": [
    "# Analisando números de eventos para cada grupo\n",
    "# Separando os dados por grupo\n",
    "events_per_user_A = events_per_user[events_per_user['group'] == 'A']['num_events']\n",
    "events_per_user_B = events_per_user[events_per_user['group'] == 'B']['num_events']"
   ]
  },
  {
   "cell_type": "code",
   "execution_count": 96,
   "metadata": {},
   "outputs": [
    {
     "data": {
      "image/png": "[encoded data removed]",
      "text/plain": [
       "<Figure size 600x400 with 1 Axes>"
      ]
     },
     "metadata": {},
     "output_type": "display_data"
    }
   ],
   "source": [
    "# Histograma da distribuição de eventos para o grupo A\n",
    "plt.figure(figsize=(6, 4))\n",
    "plt.hist(events_per_user_A, bins=20, color='skyblue', edgecolor='black', alpha=0.7)\n",
    "plt.title('Distribuição do Número de Eventos por Usuário - Grupo A')\n",
    "plt.xlabel('Número de Eventos')\n",
    "plt.ylabel('Frequência')\n",
    "plt.grid(True)\n",
    "plt.show()"
   ]
  },
  {
   "cell_type": "code",
   "execution_count": 97,
   "metadata": {},
   "outputs": [
    {
     "data": {
      "image/png": "[encoded data removed]",
      "text/plain": [
       "<Figure size 600x400 with 1 Axes>"
      ]
     },
     "metadata": {},
     "output_type": "display_data"
    }
   ],
   "source": [
    "# Histograma da distribuição de eventos para o grupo B\n",
    "plt.figure(figsize=(6, 4))\n",
    "plt.hist(events_per_user_B, bins=20, color='salmon', edgecolor='black', alpha=0.7)\n",
    "plt.title('Distribuição do Número de Eventos por Usuário - Grupo B')\n",
    "plt.xlabel('Número de Eventos')\n",
    "plt.ylabel('Frequência')\n",
    "plt.grid(True)\n",
    "plt.show()\n"
   ]
  },
  {
   "cell_type": "code",
   "execution_count": 98,
   "metadata": {},
   "outputs": [
    {
     "data": {
      "text/html": [
       "<div>\n",
       "<style scoped>\n",
       "    .dataframe tbody tr th:only-of-type {\n",
       "        vertical-align: middle;\n",
       "    }\n",
       "\n",
       "    .dataframe tbody tr th {\n",
       "        vertical-align: top;\n",
       "    }\n",
       "\n",
       "    .dataframe thead th {\n",
       "        text-align: right;\n",
       "    }\n",
       "</style>\n",
       "<table border=\"1\" class=\"dataframe\">\n",
       "  <thead>\n",
       "    <tr style=\"text-align: right;\">\n",
       "      <th></th>\n",
       "      <th>event_date</th>\n",
       "      <th>número de eventos por dia</th>\n",
       "    </tr>\n",
       "  </thead>\n",
       "  <tbody>\n",
       "    <tr>\n",
       "      <th>0</th>\n",
       "      <td>2020-12-07</td>\n",
       "      <td>11570</td>\n",
       "    </tr>\n",
       "    <tr>\n",
       "      <th>1</th>\n",
       "      <td>2020-12-08</td>\n",
       "      <td>12690</td>\n",
       "    </tr>\n",
       "    <tr>\n",
       "      <th>2</th>\n",
       "      <td>2020-12-09</td>\n",
       "      <td>12299</td>\n",
       "    </tr>\n",
       "    <tr>\n",
       "      <th>3</th>\n",
       "      <td>2020-12-10</td>\n",
       "      <td>14229</td>\n",
       "    </tr>\n",
       "    <tr>\n",
       "      <th>4</th>\n",
       "      <td>2020-12-11</td>\n",
       "      <td>14002</td>\n",
       "    </tr>\n",
       "  </tbody>\n",
       "</table>\n",
       "</div>"
      ],
      "text/plain": [
       "   event_date  número de eventos por dia\n",
       "0  2020-12-07                      11570\n",
       "1  2020-12-08                      12690\n",
       "2  2020-12-09                      12299\n",
       "3  2020-12-10                      14229\n",
       "4  2020-12-11                      14002"
      ]
     },
     "execution_count": 98,
     "metadata": {},
     "output_type": "execute_result"
    }
   ],
   "source": [
    "# Descobrindo o número de eventos por dia\n",
    "\n",
    "# Extraindo somente o dia da coluna event_dt e atribuindo a uma nova coluna event_date\n",
    "merged_df['event_date'] = merged_df['event_dt'].dt.date\n",
    "\n",
    "# Contando o número de eventos por dia\n",
    "events_per_day = merged_df.groupby('event_date').size().reset_index(name='número de eventos por dia')\n",
    "events_per_day.head()\n"
   ]
  },
  {
   "cell_type": "code",
   "execution_count": 99,
   "metadata": {},
   "outputs": [
    {
     "data": {
      "image/png": "[encoded data removed]",
      "text/plain": [
       "<Figure size 600x400 with 1 Axes>"
      ]
     },
     "metadata": {},
     "output_type": "display_data"
    }
   ],
   "source": [
    "# Histograma para a distribuição do número de eventos por dia\n",
    "plt.figure(figsize=(6, 4))\n",
    "plt.bar(events_per_day['event_date'], events_per_day['número de eventos por dia'], color='skyblue')\n",
    "plt.title('Distribuição do Número de Eventos por Dia')\n",
    "plt.xlabel('Dia')\n",
    "plt.ylabel('Número de Eventos')\n",
    "plt.xticks(rotation=45)\n",
    "plt.tight_layout()\n",
    "plt.show()"
   ]
  },
  {
   "cell_type": "markdown",
   "metadata": {},
   "source": [
    "* A célula acima mostra a distribuição de eventos por dia.\n",
    "* Nota-se que no natal não teve nenhum evento. "
   ]
  },
  {
   "cell_type": "code",
   "execution_count": 100,
   "metadata": {},
   "outputs": [
    {
     "data": {
      "text/plain": [
       "{'0082295A41A867B5',\n",
       " '00E68F103C66C1F7',\n",
       " '02313B9E82255F47',\n",
       " '04F2CF340B4F3822',\n",
       " '051D59BC38C3B3AA',\n",
       " '067D05BD30F04F2E',\n",
       " '08589AA89496453B',\n",
       " '0980BF24051C806A',\n",
       " '0A0141A363E2E051',\n",
       " '0ADFFFE9C0D60092',\n",
       " '0B0D84A866817D84',\n",
       " '0BA00E790AA510C1',\n",
       " '0BC7C730D40D19D3',\n",
       " '0C2E77C6A381704A',\n",
       " '0CA93D3A4A1D8389',\n",
       " '0CC466ED84E0756D',\n",
       " '0D77D907C24CDAC1',\n",
       " '0DABE6F3956778ED',\n",
       " '0DB417842D3B79A2',\n",
       " '0EA9AB1C2A159C77',\n",
       " '0EBE4BDE16D19DC0',\n",
       " '0EE3092A08562765',\n",
       " '0FBF679EA1340786',\n",
       " '10779B9305942526',\n",
       " '10F028FB8193F8C1',\n",
       " '115ABCFDBDDB5950',\n",
       " '123C3AC236BE84F0',\n",
       " '124B6B7F19141CCC',\n",
       " '12A77BCF101643B5',\n",
       " '133F64DC5E24F047',\n",
       " '1381632DA8AD52C0',\n",
       " '1382E5D05428EBCD',\n",
       " '13AA9B89A2885F8E',\n",
       " '13AE4DFAC67ACEB3',\n",
       " '13B7E3DA955377BA',\n",
       " '13FBEB715F4AAE10',\n",
       " '14AEC962812EB706',\n",
       " '1675B921AC721DBE',\n",
       " '16BE66466549CD42',\n",
       " '1796009027406E06',\n",
       " '17DD74F263374528',\n",
       " '198FEF39910DCF76',\n",
       " '1A4A33FE1C0FDD90',\n",
       " '1AD9F88DA92AC4E5',\n",
       " '1B52830A832D33F5',\n",
       " '1C5874DE0D952A0D',\n",
       " '1C711C65356BCFBF',\n",
       " '1C7C7C34158EB086',\n",
       " '1D831F7D0F539AFA',\n",
       " '1E7B931452B2F965',\n",
       " '1E8329A6915FB27E',\n",
       " '1E8855206E49EFF8',\n",
       " '213C96A57E70B18F',\n",
       " '2170CB76798D36EE',\n",
       " '21AEB217BA764EAB',\n",
       " '21E6AD81A122B126',\n",
       " '224F9E7FA339E6A9',\n",
       " '23E633E92EDCD195',\n",
       " '23F10CDFF7372B06',\n",
       " '23F551153080EBAB',\n",
       " '24D3AAA91EFD597F',\n",
       " '24FB1A84E1C30291',\n",
       " '25CE0629AC6B6971',\n",
       " '275A5125510426EB',\n",
       " '27736FDA67EF07CB',\n",
       " '27802765D2458B2B',\n",
       " '2828E6688DC580C4',\n",
       " '29DF5A79ECFED897',\n",
       " '2A12B7DB3C6E84D6',\n",
       " '2AE10F8C21B66E8E',\n",
       " '2B8243043C2CD72F',\n",
       " '2C662D285ED4136C',\n",
       " '2CA426D092054330',\n",
       " '2CDFC246EAEEAB13',\n",
       " '2D6A6472D7F46812',\n",
       " '2DC0C9E9D89D2352',\n",
       " '2ED365A23D725DB0',\n",
       " '2F28A3B279E5494A',\n",
       " '2F46396B6766CFDB',\n",
       " '2F52D15FF20EE730',\n",
       " '30DEB75B33B92DC8',\n",
       " '3279592816F7F6D2',\n",
       " '329E3207708990E1',\n",
       " '32E13C1C0F6AC96E',\n",
       " '3340B98CBEAEE766',\n",
       " '33CEAE52626CA99E',\n",
       " '340D9C518D3CBB8D',\n",
       " '341E8DBCD6C8B223',\n",
       " '3656B8F3DEF02DA0',\n",
       " '37E78FED858E7061',\n",
       " '38189578561F38CB',\n",
       " '3981FFA649C17699',\n",
       " '3A6D88AB973BD99D',\n",
       " '3AE5E3EE2C8A8727',\n",
       " '3B3F68DC5779E517',\n",
       " '3B62EE83708770A5',\n",
       " '3C37EE92E7960750',\n",
       " '3D89F6FEA1926F70',\n",
       " '3DEA2F9B3EDA8B91',\n",
       " '3E286601D309601C',\n",
       " '3F52D53AB33C9FD6',\n",
       " '3F6CAEC76651E5AC',\n",
       " '3FAA6AD64C3B47E8',\n",
       " '3FC3BE7BAA35F33F',\n",
       " '4122B8F30EB2271C',\n",
       " '412F5C9F04EE8F69',\n",
       " '430C998549E88DAE',\n",
       " '43525009898D1143',\n",
       " '4409E20FCD07CD14',\n",
       " '44EB15AD423DC31C',\n",
       " '4764F95CF4989E46',\n",
       " '47ADBF580CF107E1',\n",
       " '4803D52DB8782CC2',\n",
       " '48CFE37563932DC2',\n",
       " '4949578BF1954CF5',\n",
       " '495E506B3D29645B',\n",
       " '49C45D71BDCE2F69',\n",
       " '49D69A4901413D82',\n",
       " '4A55475E078F40DC',\n",
       " '4A61A28F35795FD1',\n",
       " '4B34A5BD1D1AEF0D',\n",
       " '4BDA6084191118DF',\n",
       " '4C3B9B6D59E98D59',\n",
       " '4CCE583A34A8362C',\n",
       " '4CF756542084F860',\n",
       " '4D921165CD2825D1',\n",
       " '4DAD6F609E7D7328',\n",
       " '4E43940B0CF8D947',\n",
       " '4F37FAAD74FB679C',\n",
       " '4FE90CB247C78EC5',\n",
       " '502902B3C32C72FF',\n",
       " '505555B3CCA490C8',\n",
       " '507ADD5337970C14',\n",
       " '51DA2C882D0D7508',\n",
       " '5207E56E697027E9',\n",
       " '52667DF0F366C919',\n",
       " '526BA4A669CC6CC2',\n",
       " '52828376E649CA27',\n",
       " '52EC082510DA513B',\n",
       " '53732758D90FB1E4',\n",
       " '5424E9D321EC3567',\n",
       " '544EE0E8D5E36FDA',\n",
       " '549A5092FD1BD5D9',\n",
       " '565EF59DDD36B95B',\n",
       " '56F9D84470F97FF0',\n",
       " '573EF5CB449265BE',\n",
       " '5813B74E3ED6094E',\n",
       " '59390C0379937AB0',\n",
       " '59D9BD2A3172D3F4',\n",
       " '5A26996E38367C70',\n",
       " '5A47441C0AC5FAEE',\n",
       " '5AD2A85FFA7D7EBE',\n",
       " '5B1F39B5D751B669',\n",
       " '5B4EFE916AD19741',\n",
       " '5BDF2A772826F42C',\n",
       " '5D0240D20EA50D8C',\n",
       " '5D72D0AEF96C50FD',\n",
       " '5EBCE7B573FA0578',\n",
       " '5EC32E17A02C2131',\n",
       " '5F89649C6337CE7D',\n",
       " '60D456E636F6C031',\n",
       " '61D3434CE0D95AB7',\n",
       " '63F5FC15B31DB5A6',\n",
       " '649CE5D5A38BFA8B',\n",
       " '64CD9350DEEE01B6',\n",
       " '65678C4C3E6AF563',\n",
       " '65A30CEC01FAB999',\n",
       " '65A33D1E2F637CE6',\n",
       " '6610064A4B2303D1',\n",
       " '6655D192F953E7CE',\n",
       " '66821339106C8891',\n",
       " '676A58D41A3E0A47',\n",
       " '6786C23A54D59DD4',\n",
       " '68373F4331DDD2E6',\n",
       " '68B3C70F0C0B4550',\n",
       " '697F116B31D05FCF',\n",
       " '6A2064F288EF094F',\n",
       " '6A581C74EF4D5F44',\n",
       " '6B0B075EA63618BE',\n",
       " '6B72CFAE1935C789',\n",
       " '6CAA4AF4C12A22B9',\n",
       " '6DFDC639B8B85EF7',\n",
       " '701B5B6292603C20',\n",
       " '70CE04E185154AD7',\n",
       " '71D1FF7218FB3F1E',\n",
       " '72742C5F312A1FEC',\n",
       " '739656E0D7B50B30',\n",
       " '73CE2DE1253D58B4',\n",
       " '74285DE881A72F4C',\n",
       " '743EFA16F928E18B',\n",
       " '748DD5E33B6F98C3',\n",
       " '74C5CCDA7DF761EE',\n",
       " '75013CAAF42E90A9',\n",
       " '75AC3DC6E14554D0',\n",
       " '770B5C9E0E546E44',\n",
       " '783A96FF14C40478',\n",
       " '79656F14758D76BA',\n",
       " '79DF9D6EDC7A58CE',\n",
       " '7A4A6B4CC6FDB0FF',\n",
       " '7AFFAFC4121EB5B2',\n",
       " '7B5B4C6306A09430',\n",
       " '7C9CA3F88B8755F1',\n",
       " '7CBA351852B6F25C',\n",
       " '7D8970118A695D48',\n",
       " '7F2C298110AA73B4',\n",
       " '803230F1D8216380',\n",
       " '8094961C0D414366',\n",
       " '814DF3DA9DD71B8A',\n",
       " '81AA83FBC31B6C0B',\n",
       " '8285135A01FF5488',\n",
       " '82F72EC6CDC1BA8F',\n",
       " '83E9CFC64D61108E',\n",
       " '84AAB026310D49C4',\n",
       " '84DC74ED5E60BA6A',\n",
       " '8683850A677DCC7A',\n",
       " '886E52074D084B18',\n",
       " '88EEB8C6C37A0521',\n",
       " '88FB1EDF3E249223',\n",
       " '894A2506B3A50D03',\n",
       " '8A26EBC1BA92524B',\n",
       " '8A2FACABB19EDC70',\n",
       " '8B2134D31A514E4E',\n",
       " '8B6B98D9A40E0A42',\n",
       " '8BD80DB1522F7120',\n",
       " '8C69C35FB5E142F8',\n",
       " '8CE0BDF8F59A752E',\n",
       " '8D4D2425F80F6A74',\n",
       " '8E2FDE8953DB6A48',\n",
       " '8EB3AE898305A358',\n",
       " '8F1195B887A60121',\n",
       " '8F5D7DE5A7B06249',\n",
       " '8FB9E95B030D25C5',\n",
       " '8FC9D1BB3017BE66',\n",
       " '8FF91E21E27A330D',\n",
       " '8FFA1D6F89AAEA40',\n",
       " '902F92052587344F',\n",
       " '90AC003E691D70D4',\n",
       " '9270DB42112E3B14',\n",
       " '928364C4C9F13FA8',\n",
       " '934134714E66295F',\n",
       " '9429C337BF221E89',\n",
       " '9431D6C9475CFD3A',\n",
       " '94464DF2E5398E26',\n",
       " '944C88D5DF108AED',\n",
       " '94BE60EF959D177D',\n",
       " '95401934D6D6D4FC',\n",
       " '958426148AFA05C5',\n",
       " '96749D41A2185B46',\n",
       " '96BDD55846D1F7F6',\n",
       " '97AD409895906A32',\n",
       " '98D45D3A9D7E3911',\n",
       " '9918D1C354A1383A',\n",
       " '993BDE69A0DE0391',\n",
       " '9A5549A4A85FCF06',\n",
       " '9A8CD4B32D7511F1',\n",
       " '9C99E4676D6A8B44',\n",
       " '9E0A3633886C080E',\n",
       " '9E656B4D34C68949',\n",
       " '9E68AB5C5C7FEFF4',\n",
       " '9F0571C70D4BD33B',\n",
       " '9F32866BD479E689',\n",
       " '9FB7D7666F50835C',\n",
       " 'A0028F574B5E5DC6',\n",
       " 'A2212CF79158D340',\n",
       " 'A352755099619F01',\n",
       " 'A35BD08F60AC00B8',\n",
       " 'A3D5BA3E276CD84C',\n",
       " 'A4312FFD172A4998',\n",
       " 'A48676A84719B3A7',\n",
       " 'A4D5B31067614B05',\n",
       " 'A4F18DF9C484EDC0',\n",
       " 'A6E6ECF8E4924633',\n",
       " 'A731AAAEA9F5C533',\n",
       " 'A791C2D62B213C96',\n",
       " 'A7EE379599B38AE0',\n",
       " 'A800CDEA85871EEF',\n",
       " 'A8C25A605F613665',\n",
       " 'A8C57C0D4118F4D7',\n",
       " 'A9E0A8057A5F07D1',\n",
       " 'AA825CB62FB0EC0B',\n",
       " 'AAE1914BDB419328',\n",
       " 'AB94ADBD1345E896',\n",
       " 'ABB61823786179CC',\n",
       " 'ABFF0B9BAD11BB5D',\n",
       " 'AC7F4C4BDAD56C17',\n",
       " 'ACDFC703CACAC820',\n",
       " 'AE49EDDFB9DABE03',\n",
       " 'AEB9B39AE54D3598',\n",
       " 'AF72679D1CB8C3A5',\n",
       " 'AFFC4117AC279D49',\n",
       " 'B05232A00CE7DA9B',\n",
       " 'B06B45B7C3E5E721',\n",
       " 'B06BF284879EED23',\n",
       " 'B150C94FFD64D8B0',\n",
       " 'B19324D874BEE1A5',\n",
       " 'B242B046BC32ADDA',\n",
       " 'B2716998187D5D74',\n",
       " 'B2BB6F16652B21BF',\n",
       " 'B3059CB4FD2DE0FA',\n",
       " 'B42748BA986E4163',\n",
       " 'B582D211C1BE1FFD',\n",
       " 'B6E4E414699EFC1F',\n",
       " 'B7DBE079E5AB148E',\n",
       " 'B854154628803E46',\n",
       " 'B931BC5D6FE1416C',\n",
       " 'B997F98ED3AA6104',\n",
       " 'BA98FD8F84C838C7',\n",
       " 'BA9906DF9975512E',\n",
       " 'BAAEE6D68FB90D22',\n",
       " 'BBE0583F0240AABB',\n",
       " 'BD31CABB6D5C6561',\n",
       " 'BD5317D49443EA5E',\n",
       " 'BE0FDC8CC0D5455D',\n",
       " 'BE3C02D74A664180',\n",
       " 'BEF16764A13AEC34',\n",
       " 'BF1EB8E6FA3F19B8',\n",
       " 'BF6D4EF4B54B3E94',\n",
       " 'C04E36E535A6F740',\n",
       " 'C0924D3FF1BEAA05',\n",
       " 'C0DDE3AA2A89024F',\n",
       " 'C165E8C0C5DE19FF',\n",
       " 'C176364EF5C025EA',\n",
       " 'C1E43A9B1D675927',\n",
       " 'C1FFA9A2B049B203',\n",
       " 'C26CED3FB9AFF742',\n",
       " 'C26D3BB63817A267',\n",
       " 'C286A270CFB9925D',\n",
       " 'C2E79843ED511E13',\n",
       " 'C33D8C1C81C7AA23',\n",
       " 'C389958204955C98',\n",
       " 'C474F67E2204321C',\n",
       " 'C4F3A9D7BB596E6E',\n",
       " 'C573C24EF423143C',\n",
       " 'C57E6C4AFF4FF31A',\n",
       " 'C5AD06762E628169',\n",
       " 'C5AE17CBD0B33628',\n",
       " 'C6C4C814B7B202E7',\n",
       " 'C74B6E95352ADE79',\n",
       " 'C7750723906C925A',\n",
       " 'C77D7125A7F73F33',\n",
       " 'C7CE76E3DBDC7533',\n",
       " 'C86F0150DA3B10F2',\n",
       " 'C89E24F4C723CEF4',\n",
       " 'C93F18A3865E93D6',\n",
       " 'CA6F4DAED160E5B1',\n",
       " 'CA9D3DEA00836355',\n",
       " 'CBA33B9DE421A616',\n",
       " 'CBDE46A45FD5E6A4',\n",
       " 'CC705D51C74418AD',\n",
       " 'CCE74CB0FBDD3533',\n",
       " 'CD650095FD201699',\n",
       " 'CDED0FACF20CA716',\n",
       " 'CE27C7943C1BB6ED',\n",
       " 'CE48F47093B03425',\n",
       " 'CF03E97B314C5632',\n",
       " 'CFDED9167B27A57F',\n",
       " 'D0562837FBB58AC5',\n",
       " 'D0ECAB9DA4FE2E00',\n",
       " 'D1DFCE26FF3C713F',\n",
       " 'D1FA009C9B514DD7',\n",
       " 'D266B29CC73DD0F9',\n",
       " 'D2D8E67B7D0DE2D2',\n",
       " 'D2F6FB926A64D196',\n",
       " 'D3A4F3513CC0AA2F',\n",
       " 'D40A89E14F1C10BD',\n",
       " 'D5DD44281759F7C8',\n",
       " 'D649423E43336656',\n",
       " 'D7933558E33BF7D5',\n",
       " 'D82DD23742E57665',\n",
       " 'D9128C07E09FF452',\n",
       " 'D9BAC4C97F9C107F',\n",
       " 'D9C92EC5F9478381',\n",
       " 'DA4D24731C8CCEB8',\n",
       " 'DA7D4CF1CBBADE49',\n",
       " 'DA8DABF19A0203FD',\n",
       " 'DAD6760631314417',\n",
       " 'DC41AFF8213BE01A',\n",
       " 'DD4352CDCF8C3D57',\n",
       " 'DD9DDDB53DA30E40',\n",
       " 'DD9FB2652AE4ACBA',\n",
       " 'DE078758B0515023',\n",
       " 'DECA5C05A77980A1',\n",
       " 'DF72BA6A526F714F',\n",
       " 'DF7F485FA44A60AF',\n",
       " 'DF9C2411ADA62C66',\n",
       " 'E02247CEF572ACCA',\n",
       " 'E0272BC86CC88DC7',\n",
       " 'E0DF3060D454B5AF',\n",
       " 'E0EEE04D9FDB4931',\n",
       " 'E17D1ABC377C38CA',\n",
       " 'E1EA339E17C0D568',\n",
       " 'E32D4C0315D6BFBE',\n",
       " 'E3780F6861A69868',\n",
       " 'E391353FC3A4056D',\n",
       " 'E40FA02A8A53F693',\n",
       " 'E594B711ADD81DD8',\n",
       " 'E68002AA33773AD5',\n",
       " 'E6FE73B8B903B31B',\n",
       " 'E7CC63BF20618321',\n",
       " 'E7F4B5EBC0495D72',\n",
       " 'E7F87F9FBA3269B1',\n",
       " 'EA8341F38EFFE04C',\n",
       " 'EABF946459C4DA3A',\n",
       " 'EAFB9027A27D510C',\n",
       " 'EB215155BA578253',\n",
       " 'ECC76B90EB71C492',\n",
       " 'ED11170D5BB9D744',\n",
       " 'ED61DF6AA1B81F5B',\n",
       " 'EE25BC8FA059151D',\n",
       " 'EE8401B631ED63CE',\n",
       " 'EE9E527A761299B2',\n",
       " 'EEFDF8577ED817C0',\n",
       " 'EF058AAD0A56A298',\n",
       " 'EF449601C94D2496',\n",
       " 'EF6DBFA129654B41',\n",
       " 'F0B92123E5142CBB',\n",
       " 'F10551276E3FDD53',\n",
       " 'F13CC3EF6739F4C0',\n",
       " 'F195464E8F2E0267',\n",
       " 'F1B93BAE75EE0FB2',\n",
       " 'F507CB8030C885FB',\n",
       " 'F5B4B562971760C6',\n",
       " 'F68F7886D0BCE784',\n",
       " 'F69BC50D9CC2A47B',\n",
       " 'F71DD44DAB783CEB',\n",
       " 'F7E2CAFE32DB0B14',\n",
       " 'F8564F547AFFC0B9',\n",
       " 'F85FD73AAF991283',\n",
       " 'F97D8746923ABA37',\n",
       " 'F9B39A46A299971D',\n",
       " 'FAA7192A42F9F8DA',\n",
       " 'FB158B12F907E8FB',\n",
       " 'FB6F6BC119E1DBD5',\n",
       " 'FB9FFB4BA8695C78',\n",
       " 'FC2DA0D7EF375B27',\n",
       " 'FC3F3E4DA7C85F88',\n",
       " 'FE2AF0E94DBD470E',\n",
       " 'FE8F9858BBE502D9',\n",
       " 'FEA0C585A53E7027',\n",
       " 'FEC0BCA6C323872F',\n",
       " 'FFF28D02B1EACBE1'}"
      ]
     },
     "execution_count": 100,
     "metadata": {},
     "output_type": "execute_result"
    }
   ],
   "source": [
    "# Aqui vamos descobrir os usuários que estão nos dois grupos A e B\n",
    "usuarios_A = merged_df[merged_df['group']=='A']['user_id']\n",
    "usuarios_B = merged_df[merged_df['group']=='B']['user_id']\n",
    "set(set(usuarios_A) & set(usuarios_B))"
   ]
  },
  {
   "cell_type": "code",
   "execution_count": 101,
   "metadata": {},
   "outputs": [
    {
     "data": {
      "text/plain": [
       "441"
      ]
     },
     "execution_count": 101,
     "metadata": {},
     "output_type": "execute_result"
    }
   ],
   "source": [
    "# Descobrindo a quantidade de usuários que estão nos dois grupos\n",
    "len(set(usuarios_A) & set(usuarios_B))"
   ]
  },
  {
   "cell_type": "code",
   "execution_count": 102,
   "metadata": {},
   "outputs": [
    {
     "data": {
      "text/html": [
       "<div>\n",
       "<style scoped>\n",
       "    .dataframe tbody tr th:only-of-type {\n",
       "        vertical-align: middle;\n",
       "    }\n",
       "\n",
       "    .dataframe tbody tr th {\n",
       "        vertical-align: top;\n",
       "    }\n",
       "\n",
       "    .dataframe thead th {\n",
       "        text-align: right;\n",
       "    }\n",
       "</style>\n",
       "<table border=\"1\" class=\"dataframe\">\n",
       "  <thead>\n",
       "    <tr style=\"text-align: right;\">\n",
       "      <th></th>\n",
       "      <th>user_id</th>\n",
       "      <th>event_dt</th>\n",
       "      <th>event_name</th>\n",
       "      <th>details</th>\n",
       "      <th>group</th>\n",
       "      <th>ab_test</th>\n",
       "      <th>event_date</th>\n",
       "    </tr>\n",
       "  </thead>\n",
       "  <tbody>\n",
       "    <tr>\n",
       "      <th>3</th>\n",
       "      <td>96F27A054B191457</td>\n",
       "      <td>2020-12-07 04:02:40</td>\n",
       "      <td>purchase</td>\n",
       "      <td>4.99</td>\n",
       "      <td>B</td>\n",
       "      <td>interface_eu_test</td>\n",
       "      <td>2020-12-07</td>\n",
       "    </tr>\n",
       "    <tr>\n",
       "      <th>5</th>\n",
       "      <td>831887FE7F2D6CBA</td>\n",
       "      <td>2020-12-07 06:50:29</td>\n",
       "      <td>purchase</td>\n",
       "      <td>4.99</td>\n",
       "      <td>A</td>\n",
       "      <td>recommender_system_test</td>\n",
       "      <td>2020-12-07</td>\n",
       "    </tr>\n",
       "    <tr>\n",
       "      <th>9</th>\n",
       "      <td>A92195E3CFB83DBD</td>\n",
       "      <td>2020-12-07 00:32:07</td>\n",
       "      <td>purchase</td>\n",
       "      <td>4.99</td>\n",
       "      <td>A</td>\n",
       "      <td>interface_eu_test</td>\n",
       "      <td>2020-12-07</td>\n",
       "    </tr>\n",
       "    <tr>\n",
       "      <th>11</th>\n",
       "      <td>354D653172FF2A2D</td>\n",
       "      <td>2020-12-07 15:45:11</td>\n",
       "      <td>purchase</td>\n",
       "      <td>4.99</td>\n",
       "      <td>A</td>\n",
       "      <td>interface_eu_test</td>\n",
       "      <td>2020-12-07</td>\n",
       "    </tr>\n",
       "    <tr>\n",
       "      <th>12</th>\n",
       "      <td>7FCD34F47C13A9AC</td>\n",
       "      <td>2020-12-07 22:06:13</td>\n",
       "      <td>purchase</td>\n",
       "      <td>9.99</td>\n",
       "      <td>B</td>\n",
       "      <td>interface_eu_test</td>\n",
       "      <td>2020-12-07</td>\n",
       "    </tr>\n",
       "    <tr>\n",
       "      <th>...</th>\n",
       "      <td>...</td>\n",
       "      <td>...</td>\n",
       "      <td>...</td>\n",
       "      <td>...</td>\n",
       "      <td>...</td>\n",
       "      <td>...</td>\n",
       "      <td>...</td>\n",
       "    </tr>\n",
       "    <tr>\n",
       "      <th>429448</th>\n",
       "      <td>75845C83258FBF73</td>\n",
       "      <td>2020-12-30 06:42:52</td>\n",
       "      <td>login</td>\n",
       "      <td>0.00</td>\n",
       "      <td>B</td>\n",
       "      <td>recommender_system_test</td>\n",
       "      <td>2020-12-30</td>\n",
       "    </tr>\n",
       "    <tr>\n",
       "      <th>429450</th>\n",
       "      <td>4584E51B99DE51AE</td>\n",
       "      <td>2020-12-30 07:39:32</td>\n",
       "      <td>login</td>\n",
       "      <td>0.00</td>\n",
       "      <td>A</td>\n",
       "      <td>interface_eu_test</td>\n",
       "      <td>2020-12-30</td>\n",
       "    </tr>\n",
       "    <tr>\n",
       "      <th>429451</th>\n",
       "      <td>9DF4F595A906A0BA</td>\n",
       "      <td>2020-12-30 18:28:55</td>\n",
       "      <td>login</td>\n",
       "      <td>0.00</td>\n",
       "      <td>B</td>\n",
       "      <td>interface_eu_test</td>\n",
       "      <td>2020-12-30</td>\n",
       "    </tr>\n",
       "    <tr>\n",
       "      <th>429470</th>\n",
       "      <td>6181F3835EBE66BF</td>\n",
       "      <td>2020-12-30 12:00:00</td>\n",
       "      <td>login</td>\n",
       "      <td>0.00</td>\n",
       "      <td>A</td>\n",
       "      <td>interface_eu_test</td>\n",
       "      <td>2020-12-30</td>\n",
       "    </tr>\n",
       "    <tr>\n",
       "      <th>429474</th>\n",
       "      <td>F80C9BDDEA02E53C</td>\n",
       "      <td>2020-12-30 09:53:39</td>\n",
       "      <td>login</td>\n",
       "      <td>0.00</td>\n",
       "      <td>A</td>\n",
       "      <td>interface_eu_test</td>\n",
       "      <td>2020-12-30</td>\n",
       "    </tr>\n",
       "  </tbody>\n",
       "</table>\n",
       "<p>97456 rows × 7 columns</p>\n",
       "</div>"
      ],
      "text/plain": [
       "                 user_id            event_dt event_name  details group  \\\n",
       "3       96F27A054B191457 2020-12-07 04:02:40   purchase     4.99     B   \n",
       "5       831887FE7F2D6CBA 2020-12-07 06:50:29   purchase     4.99     A   \n",
       "9       A92195E3CFB83DBD 2020-12-07 00:32:07   purchase     4.99     A   \n",
       "11      354D653172FF2A2D 2020-12-07 15:45:11   purchase     4.99     A   \n",
       "12      7FCD34F47C13A9AC 2020-12-07 22:06:13   purchase     9.99     B   \n",
       "...                  ...                 ...        ...      ...   ...   \n",
       "429448  75845C83258FBF73 2020-12-30 06:42:52      login     0.00     B   \n",
       "429450  4584E51B99DE51AE 2020-12-30 07:39:32      login     0.00     A   \n",
       "429451  9DF4F595A906A0BA 2020-12-30 18:28:55      login     0.00     B   \n",
       "429470  6181F3835EBE66BF 2020-12-30 12:00:00      login     0.00     A   \n",
       "429474  F80C9BDDEA02E53C 2020-12-30 09:53:39      login     0.00     A   \n",
       "\n",
       "                        ab_test  event_date  \n",
       "3             interface_eu_test  2020-12-07  \n",
       "5       recommender_system_test  2020-12-07  \n",
       "9             interface_eu_test  2020-12-07  \n",
       "11            interface_eu_test  2020-12-07  \n",
       "12            interface_eu_test  2020-12-07  \n",
       "...                         ...         ...  \n",
       "429448  recommender_system_test  2020-12-30  \n",
       "429450        interface_eu_test  2020-12-30  \n",
       "429451        interface_eu_test  2020-12-30  \n",
       "429470        interface_eu_test  2020-12-30  \n",
       "429474        interface_eu_test  2020-12-30  \n",
       "\n",
       "[97456 rows x 7 columns]"
      ]
     },
     "execution_count": 102,
     "metadata": {},
     "output_type": "execute_result"
    }
   ],
   "source": [
    "# Removendo usuários que estão nos dois grupos \n",
    "usuarios_A = merged_df[merged_df['group']=='A']['user_id']\n",
    "usuarios_B = merged_df[merged_df['group']=='B']['user_id']\n",
    "\n",
    "df_aux_1 = merged_df[(~merged_df['user_id'].isin(set(usuarios_A) & set(usuarios_B))) &\n",
    "          (merged_df['ab_test'].notna())]\n",
    "df_aux_1\n"
   ]
  },
  {
   "cell_type": "markdown",
   "metadata": {},
   "source": [
    "* Uma particularidade que notei antes de começar o teste A/B, é que existiam 441 usuários que estavam tanto no grupo A quanto no grupo B, ou seja, isso não deveria acontecer.\n",
    "* Sendo assim, esses usuários foram removidos para que não exerçam influência nos resultados do teste.\n",
    "* Outra particularidade, é que existem dois testes no mesmo conjunhto de dados, o interface_eu_test e o recommender_system_test, dessa forma, usaremos os dados para o teste A/B dos usuários provenientes do teste recommender_system_test, que é o foco da nossa análise. "
   ]
  },
  {
   "cell_type": "code",
   "execution_count": 103,
   "metadata": {},
   "outputs": [
    {
     "data": {
      "text/html": [
       "<div>\n",
       "<style scoped>\n",
       "    .dataframe tbody tr th:only-of-type {\n",
       "        vertical-align: middle;\n",
       "    }\n",
       "\n",
       "    .dataframe tbody tr th {\n",
       "        vertical-align: top;\n",
       "    }\n",
       "\n",
       "    .dataframe thead th {\n",
       "        text-align: right;\n",
       "    }\n",
       "</style>\n",
       "<table border=\"1\" class=\"dataframe\">\n",
       "  <thead>\n",
       "    <tr style=\"text-align: right;\">\n",
       "      <th></th>\n",
       "      <th>user_id</th>\n",
       "      <th>event_dt</th>\n",
       "      <th>event_name</th>\n",
       "      <th>details</th>\n",
       "      <th>group</th>\n",
       "      <th>ab_test</th>\n",
       "      <th>event_date</th>\n",
       "    </tr>\n",
       "  </thead>\n",
       "  <tbody>\n",
       "    <tr>\n",
       "      <th>3</th>\n",
       "      <td>96F27A054B191457</td>\n",
       "      <td>2020-12-07 04:02:40</td>\n",
       "      <td>purchase</td>\n",
       "      <td>4.99</td>\n",
       "      <td>B</td>\n",
       "      <td>interface_eu_test</td>\n",
       "      <td>2020-12-07</td>\n",
       "    </tr>\n",
       "    <tr>\n",
       "      <th>5</th>\n",
       "      <td>831887FE7F2D6CBA</td>\n",
       "      <td>2020-12-07 06:50:29</td>\n",
       "      <td>purchase</td>\n",
       "      <td>4.99</td>\n",
       "      <td>A</td>\n",
       "      <td>recommender_system_test</td>\n",
       "      <td>2020-12-07</td>\n",
       "    </tr>\n",
       "    <tr>\n",
       "      <th>9</th>\n",
       "      <td>A92195E3CFB83DBD</td>\n",
       "      <td>2020-12-07 00:32:07</td>\n",
       "      <td>purchase</td>\n",
       "      <td>4.99</td>\n",
       "      <td>A</td>\n",
       "      <td>interface_eu_test</td>\n",
       "      <td>2020-12-07</td>\n",
       "    </tr>\n",
       "    <tr>\n",
       "      <th>11</th>\n",
       "      <td>354D653172FF2A2D</td>\n",
       "      <td>2020-12-07 15:45:11</td>\n",
       "      <td>purchase</td>\n",
       "      <td>4.99</td>\n",
       "      <td>A</td>\n",
       "      <td>interface_eu_test</td>\n",
       "      <td>2020-12-07</td>\n",
       "    </tr>\n",
       "    <tr>\n",
       "      <th>12</th>\n",
       "      <td>7FCD34F47C13A9AC</td>\n",
       "      <td>2020-12-07 22:06:13</td>\n",
       "      <td>purchase</td>\n",
       "      <td>9.99</td>\n",
       "      <td>B</td>\n",
       "      <td>interface_eu_test</td>\n",
       "      <td>2020-12-07</td>\n",
       "    </tr>\n",
       "  </tbody>\n",
       "</table>\n",
       "</div>"
      ],
      "text/plain": [
       "             user_id            event_dt event_name  details group  \\\n",
       "3   96F27A054B191457 2020-12-07 04:02:40   purchase     4.99     B   \n",
       "5   831887FE7F2D6CBA 2020-12-07 06:50:29   purchase     4.99     A   \n",
       "9   A92195E3CFB83DBD 2020-12-07 00:32:07   purchase     4.99     A   \n",
       "11  354D653172FF2A2D 2020-12-07 15:45:11   purchase     4.99     A   \n",
       "12  7FCD34F47C13A9AC 2020-12-07 22:06:13   purchase     9.99     B   \n",
       "\n",
       "                    ab_test  event_date  \n",
       "3         interface_eu_test  2020-12-07  \n",
       "5   recommender_system_test  2020-12-07  \n",
       "9         interface_eu_test  2020-12-07  \n",
       "11        interface_eu_test  2020-12-07  \n",
       "12        interface_eu_test  2020-12-07  "
      ]
     },
     "execution_count": 103,
     "metadata": {},
     "output_type": "execute_result"
    }
   ],
   "source": [
    "df_aux_1.head()"
   ]
  },
  {
   "cell_type": "markdown",
   "metadata": {},
   "source": []
  },
  {
   "cell_type": "markdown",
   "metadata": {},
   "source": [
    "#### Terceira Parte: Teste de Hipóteses\n",
    "* Testaremos duas hipóteses nesta parte do projeto.\n",
    " 1) Hipótese 1: O valor médio de compras do grupo A é igual aos valores do grupo B.\n",
    " 2) Hipótese 2: O grupo A tem a taxa de conversão igual a do o grupo B.\n",
    "* Será aplicado também um teste Z para verificar a significância estatística das proporções."
   ]
  },
  {
   "cell_type": "code",
   "execution_count": 104,
   "metadata": {},
   "outputs": [
    {
     "data": {
      "text/html": [
       "<div>\n",
       "<style scoped>\n",
       "    .dataframe tbody tr th:only-of-type {\n",
       "        vertical-align: middle;\n",
       "    }\n",
       "\n",
       "    .dataframe tbody tr th {\n",
       "        vertical-align: top;\n",
       "    }\n",
       "\n",
       "    .dataframe thead th {\n",
       "        text-align: right;\n",
       "    }\n",
       "</style>\n",
       "<table border=\"1\" class=\"dataframe\">\n",
       "  <thead>\n",
       "    <tr style=\"text-align: right;\">\n",
       "      <th></th>\n",
       "      <th>user_id</th>\n",
       "      <th>event_dt</th>\n",
       "      <th>event_name</th>\n",
       "      <th>details</th>\n",
       "      <th>group</th>\n",
       "      <th>ab_test</th>\n",
       "      <th>event_date</th>\n",
       "    </tr>\n",
       "  </thead>\n",
       "  <tbody>\n",
       "    <tr>\n",
       "      <th>5</th>\n",
       "      <td>831887FE7F2D6CBA</td>\n",
       "      <td>2020-12-07 06:50:29</td>\n",
       "      <td>purchase</td>\n",
       "      <td>4.99</td>\n",
       "      <td>A</td>\n",
       "      <td>recommender_system_test</td>\n",
       "      <td>2020-12-07</td>\n",
       "    </tr>\n",
       "    <tr>\n",
       "      <th>17</th>\n",
       "      <td>3C5DD0288AC4FE23</td>\n",
       "      <td>2020-12-07 19:42:40</td>\n",
       "      <td>purchase</td>\n",
       "      <td>4.99</td>\n",
       "      <td>A</td>\n",
       "      <td>recommender_system_test</td>\n",
       "      <td>2020-12-07</td>\n",
       "    </tr>\n",
       "    <tr>\n",
       "      <th>58</th>\n",
       "      <td>49EA242586C87836</td>\n",
       "      <td>2020-12-07 06:31:24</td>\n",
       "      <td>purchase</td>\n",
       "      <td>99.99</td>\n",
       "      <td>B</td>\n",
       "      <td>recommender_system_test</td>\n",
       "      <td>2020-12-07</td>\n",
       "    </tr>\n",
       "    <tr>\n",
       "      <th>71</th>\n",
       "      <td>2B06EB547B7AAD08</td>\n",
       "      <td>2020-12-07 21:36:38</td>\n",
       "      <td>purchase</td>\n",
       "      <td>4.99</td>\n",
       "      <td>A</td>\n",
       "      <td>recommender_system_test</td>\n",
       "      <td>2020-12-07</td>\n",
       "    </tr>\n",
       "    <tr>\n",
       "      <th>75</th>\n",
       "      <td>A640F31CAC7823A6</td>\n",
       "      <td>2020-12-07 18:48:26</td>\n",
       "      <td>purchase</td>\n",
       "      <td>4.99</td>\n",
       "      <td>B</td>\n",
       "      <td>recommender_system_test</td>\n",
       "      <td>2020-12-07</td>\n",
       "    </tr>\n",
       "  </tbody>\n",
       "</table>\n",
       "</div>"
      ],
      "text/plain": [
       "             user_id            event_dt event_name  details group  \\\n",
       "5   831887FE7F2D6CBA 2020-12-07 06:50:29   purchase     4.99     A   \n",
       "17  3C5DD0288AC4FE23 2020-12-07 19:42:40   purchase     4.99     A   \n",
       "58  49EA242586C87836 2020-12-07 06:31:24   purchase    99.99     B   \n",
       "71  2B06EB547B7AAD08 2020-12-07 21:36:38   purchase     4.99     A   \n",
       "75  A640F31CAC7823A6 2020-12-07 18:48:26   purchase     4.99     B   \n",
       "\n",
       "                    ab_test  event_date  \n",
       "5   recommender_system_test  2020-12-07  \n",
       "17  recommender_system_test  2020-12-07  \n",
       "58  recommender_system_test  2020-12-07  \n",
       "71  recommender_system_test  2020-12-07  \n",
       "75  recommender_system_test  2020-12-07  "
      ]
     },
     "execution_count": 104,
     "metadata": {},
     "output_type": "execute_result"
    }
   ],
   "source": [
    "# Filtrando o data frame para permanecer somente os usuários do teste recommender_system_test\t\n",
    "final_df= df_aux_1[df_aux_1['ab_test'] == 'recommender_system_test']\n",
    "final_df.head()"
   ]
  },
  {
   "cell_type": "code",
   "execution_count": 105,
   "metadata": {},
   "outputs": [
    {
     "name": "stdout",
     "output_type": "stream",
     "text": [
      "Média do grupo A: 3.1759454886082072\n",
      "Média do grupo B: 2.9659687433097845\n",
      "P-value: 0.3203203905147278\n",
      "Não rejeitamos a hipótese nula: não há evidência suficiente de que a média de compra do grupo A é diferente da média de compra do grupo B.\n"
     ]
    }
   ],
   "source": [
    "# Aplicando o teste estatístico\n",
    "# Testando a hipótese que a média de compras do grupo A é igual a média de compras do grupo B.\n",
    "\n",
    "grupo_A = final_df[final_df['group'] == 'A']['details']\n",
    "grupo_B = final_df[final_df['group'] == 'B']['details']\n",
    "\n",
    "# Calculando as médias de compras dos dois grupos\n",
    "media_A = grupo_A.mean()\n",
    "media_B = grupo_B.mean()\n",
    "\n",
    "print(f'Média do grupo A: {media_A}')\n",
    "print(f'Média do grupo B: {media_B}')\n",
    "\n",
    "\n",
    "# Realizando o teste t \n",
    "t_stat, p_value = stats.ttest_ind(grupo_A, grupo_B, alternative='greater')\n",
    "\n",
    "print(f'P-value: {p_value}')\n",
    "\n",
    "if p_value < 0.05:\n",
    "    print(\"Rejeitamos a hipótese nula: a média de compra do grupo A não é igual a média de compra do grupo B.\")\n",
    "else:\n",
    "    print(\"Não rejeitamos a hipótese nula: não há evidência suficiente de que a média de compra do grupo A é diferente da média de compra do grupo B.\")\n"
   ]
  },
  {
   "cell_type": "markdown",
   "metadata": {},
   "source": [
    "* Aplicando o teste estatístico, podemos verificar que não existem diferenças significativas na média de compras do grupo A e do grupo B."
   ]
  },
  {
   "cell_type": "code",
   "execution_count": null,
   "metadata": {},
   "outputs": [],
   "source": []
  },
  {
   "cell_type": "code",
   "execution_count": 106,
   "metadata": {},
   "outputs": [
    {
     "name": "stdout",
     "output_type": "stream",
     "text": [
      "Total de usuários no grupo A: 2422\n",
      "Total de usuários no grupo B: 812\n",
      "Número de conversões no grupo A: 773\n",
      "Número de conversões no grupo B: 228\n",
      "Taxa de conversão do grupo A: 0.3191577208918249\n",
      "Taxa de conversão do grupo B: 0.28078817733990147\n",
      "Z-statistic: 2.0467289116192875\n",
      "P-value: 0.02034235445026142\n",
      "Rejeitamos a hipótese nula: a taxa de conversão do grupo A é maior do que a taxa de conversão do grupo B.\n"
     ]
    }
   ],
   "source": [
    "# Aplicando o teste estatístico e verificando se as taxas de conversão tem diferença significativa\n",
    "\n",
    "# Contando o número total de usuários em cada grupo\n",
    "total_usuarios_A = final_df[final_df['group'] == 'A']['user_id'].nunique()\n",
    "total_usuarios_B = final_df[final_df['group'] == 'B']['user_id'].nunique()\n",
    "\n",
    "print(f'Total de usuários no grupo A: {total_usuarios_A}')\n",
    "print(f'Total de usuários no grupo B: {total_usuarios_B}')\n",
    "\n",
    "# Contando o número de conversões em cada grupo\n",
    "conversoes_A = final_df[(final_df['group'] == 'A') & (final_df['event_name'] == 'purchase')]['user_id'].nunique()\n",
    "conversoes_B = final_df[(final_df['group'] == 'B') & (final_df['event_name'] == 'purchase')]['user_id'].nunique()\n",
    "\n",
    "print(f'Número de conversões no grupo A: {conversoes_A}')\n",
    "print(f'Número de conversões no grupo B: {conversoes_B}')\n",
    "\n",
    "# Calculando a taxa de conversão para cada grupo\n",
    "taxa_conversao_A = conversoes_A / total_usuarios_A\n",
    "taxa_conversao_B = conversoes_B / total_usuarios_B\n",
    "\n",
    "print(f'Taxa de conversão do grupo A: {taxa_conversao_A}')\n",
    "print(f'Taxa de conversão do grupo B: {taxa_conversao_B}')\n",
    "\n",
    "# Contagens de conversões e usuários\n",
    "count = [conversoes_A, conversoes_B]\n",
    "nobs = [total_usuarios_A, total_usuarios_B]\n",
    "\n",
    "# Realizando o teste z para proporções \n",
    "stat, p_value = proportions_ztest(count, nobs, alternative='larger')\n",
    "\n",
    "print(f'Z-statistic: {stat}')\n",
    "print(f'P-value: {p_value}')\n",
    "\n",
    "if p_value < 0.05:\n",
    "    print(\"Rejeitamos a hipótese nula: a taxa de conversão do grupo A é maior do que a taxa de conversão do grupo B.\")\n",
    "else:\n",
    "    print(\"Não rejeitamos a hipótese nula: não há evidência suficiente de que a taxa de conversão do grupo A é maior do que a taxa de conversão do grupo B.\")\n"
   ]
  },
  {
   "attachments": {
    "image.png": {
     "image/png": "[encoded data removed]"
    }
   },
   "cell_type": "markdown",
   "metadata": {},
   "source": [
    "<div class=\"alert alert-block alert-warning\">\n",
    "<b>Comentário: </b> <a class=\"tocSkip\"></a>\n",
    "\n",
    "Sugestão: Após o cálculo de taxa de conversão, é possível gerar um gráfico semelhante a esse: \n",
    "    ![image.png](attachment:image.png)\n",
    "\n",
    "\n",
    "</div>"
   ]
  },
  {
   "cell_type": "markdown",
   "metadata": {},
   "source": [
    "* Após aplicar o teste z e verificarmos se existe uma diferença significativa entre as proporções de conversões dos dois grupos, notamos que o grupo A tem uma melhor taxa de conversão do que o grupo B, e que existe diferença significativa entre as duas proporções. "
   ]
  },
  {
   "cell_type": "markdown",
   "metadata": {},
   "source": [
    "#### Conclusões Gerais:\n",
    "* O grupo A demonstra ter atraído uma maior quantidade de usuários.\n",
    "* O grupo A tem uma média de eventos por usuário maior do que o grupo B.\n",
    "* O grupo A tem um total de eventos maior do que o grupo B.\n",
    "* Em todas as etapas do funil, existem mais usuários do grupo A do que do grupo B.\n",
    "* A taxa de conversão entre os eventos product_page e product_cart é ligeiramente maior no grupo B, contudo no grupo A existem clientes que vão direto da página do produto para a compra. \n",
    "* Não existe diferença significativa entre o valor médio de compras dos dois grupos. \n",
    "* Existe uma diferença significativa na conversão do grupo A em comparação com o grupo B.\n",
    "* "
   ]
  }
 ],
 "metadata": {
  "ExecuteTimeLog": [
   {
    "duration": 467,
    "start_time": "2024-06-14T12:56:31.104Z"
   },
   {
    "duration": 13,
    "start_time": "2024-06-14T12:56:50.112Z"
   },
   {
    "duration": 19,
    "start_time": "2024-06-14T12:56:59.163Z"
   },
   {
    "duration": 485,
    "start_time": "2024-06-15T17:29:39.117Z"
   },
   {
    "duration": 17,
    "start_time": "2024-06-15T17:29:39.605Z"
   },
   {
    "duration": 19,
    "start_time": "2024-06-15T17:29:39.627Z"
   },
   {
    "duration": 4,
    "start_time": "2024-06-15T17:32:29.994Z"
   },
   {
    "duration": 9,
    "start_time": "2024-06-15T17:32:30.002Z"
   },
   {
    "duration": 20,
    "start_time": "2024-06-15T17:32:30.015Z"
   },
   {
    "duration": 709,
    "start_time": "2024-06-15T17:41:47.090Z"
   },
   {
    "duration": 13,
    "start_time": "2024-06-15T17:41:54.543Z"
   },
   {
    "duration": 17,
    "start_time": "2024-06-15T17:48:23.919Z"
   },
   {
    "duration": 14,
    "start_time": "2024-06-15T17:51:22.966Z"
   },
   {
    "duration": 15,
    "start_time": "2024-06-15T17:51:32.947Z"
   },
   {
    "duration": 13,
    "start_time": "2024-06-15T17:51:48.303Z"
   },
   {
    "duration": 7,
    "start_time": "2024-06-15T17:53:20.138Z"
   },
   {
    "duration": 15,
    "start_time": "2024-06-15T17:53:26.259Z"
   },
   {
    "duration": 138,
    "start_time": "2024-06-15T17:53:55.050Z"
   },
   {
    "duration": 7,
    "start_time": "2024-06-15T17:54:05.611Z"
   },
   {
    "duration": 16,
    "start_time": "2024-06-15T17:55:31.922Z"
   },
   {
    "duration": 8,
    "start_time": "2024-06-15T17:55:32.266Z"
   },
   {
    "duration": 12,
    "start_time": "2024-06-15T17:56:20.218Z"
   },
   {
    "duration": 16,
    "start_time": "2024-06-15T17:56:20.622Z"
   },
   {
    "duration": 8,
    "start_time": "2024-06-15T17:56:20.946Z"
   },
   {
    "duration": 16,
    "start_time": "2024-06-15T17:56:21.280Z"
   },
   {
    "duration": 8,
    "start_time": "2024-06-15T17:56:21.846Z"
   },
   {
    "duration": 12,
    "start_time": "2024-06-15T17:56:54.935Z"
   },
   {
    "duration": 21,
    "start_time": "2024-06-15T17:58:06.249Z"
   },
   {
    "duration": 6,
    "start_time": "2024-06-15T18:11:59.935Z"
   },
   {
    "duration": 15,
    "start_time": "2024-06-15T18:12:00.423Z"
   },
   {
    "duration": 15,
    "start_time": "2024-06-15T18:12:06.286Z"
   },
   {
    "duration": 20,
    "start_time": "2024-06-15T18:12:12.554Z"
   },
   {
    "duration": 40,
    "start_time": "2024-06-15T18:12:34.655Z"
   },
   {
    "duration": 11,
    "start_time": "2024-06-15T18:14:33.998Z"
   },
   {
    "duration": 64,
    "start_time": "2024-06-15T18:15:06.971Z"
   },
   {
    "duration": 71,
    "start_time": "2024-06-15T18:15:49.054Z"
   },
   {
    "duration": 109,
    "start_time": "2024-06-15T18:16:47.782Z"
   },
   {
    "duration": 51,
    "start_time": "2024-06-15T18:16:54.946Z"
   },
   {
    "duration": 209,
    "start_time": "2024-06-15T18:17:28.155Z"
   },
   {
    "duration": 17,
    "start_time": "2024-06-15T18:17:57.775Z"
   },
   {
    "duration": 18,
    "start_time": "2024-06-15T18:18:09.734Z"
   },
   {
    "duration": 8,
    "start_time": "2024-06-15T18:20:30.343Z"
   },
   {
    "duration": 68,
    "start_time": "2024-06-15T18:20:38.686Z"
   },
   {
    "duration": 50,
    "start_time": "2024-06-15T18:21:34.827Z"
   },
   {
    "duration": 53,
    "start_time": "2024-06-15T18:21:40.676Z"
   },
   {
    "duration": 60,
    "start_time": "2024-06-15T18:23:08.343Z"
   },
   {
    "duration": 17,
    "start_time": "2024-06-15T18:23:09.576Z"
   },
   {
    "duration": 214,
    "start_time": "2024-06-15T18:23:10.778Z"
   },
   {
    "duration": 7,
    "start_time": "2024-06-15T18:23:51.547Z"
   },
   {
    "duration": 196,
    "start_time": "2024-06-15T18:23:56.738Z"
   },
   {
    "duration": 19,
    "start_time": "2024-06-15T18:24:24.206Z"
   },
   {
    "duration": 4,
    "start_time": "2024-06-15T18:25:56.355Z"
   },
   {
    "duration": 48,
    "start_time": "2024-06-15T18:26:41.937Z"
   },
   {
    "duration": 10,
    "start_time": "2024-06-15T18:28:55.748Z"
   },
   {
    "duration": 14,
    "start_time": "2024-06-15T18:29:42.459Z"
   },
   {
    "duration": 13,
    "start_time": "2024-06-15T18:30:07.711Z"
   },
   {
    "duration": 12,
    "start_time": "2024-06-15T18:39:48.975Z"
   },
   {
    "duration": 11,
    "start_time": "2024-06-15T18:41:08.434Z"
   },
   {
    "duration": 12,
    "start_time": "2024-06-15T18:42:26.635Z"
   },
   {
    "duration": 9,
    "start_time": "2024-06-15T18:43:13.921Z"
   },
   {
    "duration": 13,
    "start_time": "2024-06-15T18:43:17.683Z"
   },
   {
    "duration": 10,
    "start_time": "2024-06-15T18:43:29.255Z"
   },
   {
    "duration": 124,
    "start_time": "2024-06-15T18:50:31.219Z"
   },
   {
    "duration": 202,
    "start_time": "2024-06-15T18:54:41.616Z"
   },
   {
    "duration": 160,
    "start_time": "2024-06-15T18:59:58.821Z"
   },
   {
    "duration": 160,
    "start_time": "2024-06-15T19:01:01.395Z"
   },
   {
    "duration": 156,
    "start_time": "2024-06-15T19:01:28.599Z"
   },
   {
    "duration": 196,
    "start_time": "2024-06-15T19:01:33.351Z"
   },
   {
    "duration": 180,
    "start_time": "2024-06-15T19:06:45.967Z"
   },
   {
    "duration": 184,
    "start_time": "2024-06-15T19:06:52.520Z"
   },
   {
    "duration": 160,
    "start_time": "2024-06-15T19:07:01.483Z"
   },
   {
    "duration": 173,
    "start_time": "2024-06-15T19:07:07.888Z"
   },
   {
    "duration": 59,
    "start_time": "2024-06-15T19:09:45.363Z"
   },
   {
    "duration": 62,
    "start_time": "2024-06-15T19:10:11.435Z"
   },
   {
    "duration": 17,
    "start_time": "2024-06-15T19:10:56.128Z"
   },
   {
    "duration": 15,
    "start_time": "2024-06-15T19:11:32.739Z"
   },
   {
    "duration": 49,
    "start_time": "2024-06-15T19:13:00.316Z"
   },
   {
    "duration": 18,
    "start_time": "2024-06-15T19:13:32.117Z"
   },
   {
    "duration": 17,
    "start_time": "2024-06-15T19:13:49.371Z"
   },
   {
    "duration": 18,
    "start_time": "2024-06-15T19:14:03.611Z"
   },
   {
    "duration": 4324,
    "start_time": "2024-06-15T19:18:39.153Z"
   },
   {
    "duration": 3,
    "start_time": "2024-06-15T19:19:10.028Z"
   },
   {
    "duration": 659,
    "start_time": "2024-06-15T19:19:10.040Z"
   },
   {
    "duration": 12,
    "start_time": "2024-06-15T19:19:10.702Z"
   },
   {
    "duration": 16,
    "start_time": "2024-06-15T19:19:10.725Z"
   },
   {
    "duration": 7,
    "start_time": "2024-06-15T19:19:10.744Z"
   },
   {
    "duration": 14,
    "start_time": "2024-06-15T19:19:10.756Z"
   },
   {
    "duration": 8,
    "start_time": "2024-06-15T19:19:10.773Z"
   },
   {
    "duration": 12,
    "start_time": "2024-06-15T19:19:10.826Z"
   },
   {
    "duration": 22,
    "start_time": "2024-06-15T19:19:10.842Z"
   },
   {
    "duration": 16,
    "start_time": "2024-06-15T19:19:10.867Z"
   },
   {
    "duration": 80,
    "start_time": "2024-06-15T19:19:10.887Z"
   },
   {
    "duration": 14,
    "start_time": "2024-06-15T19:19:10.970Z"
   },
   {
    "duration": 94,
    "start_time": "2024-06-15T19:19:10.987Z"
   },
   {
    "duration": 77,
    "start_time": "2024-06-15T19:19:11.085Z"
   },
   {
    "duration": 114,
    "start_time": "2024-06-15T19:19:11.168Z"
   },
   {
    "duration": 213,
    "start_time": "2024-06-15T19:19:11.285Z"
   },
   {
    "duration": 6,
    "start_time": "2024-06-15T19:19:11.500Z"
   },
   {
    "duration": 58,
    "start_time": "2024-06-15T19:19:11.509Z"
   },
   {
    "duration": 11,
    "start_time": "2024-06-15T19:19:11.570Z"
   },
   {
    "duration": 44,
    "start_time": "2024-06-15T19:19:11.585Z"
   },
   {
    "duration": 13,
    "start_time": "2024-06-15T19:19:11.632Z"
   },
   {
    "duration": 12,
    "start_time": "2024-06-15T19:19:11.648Z"
   },
   {
    "duration": 14,
    "start_time": "2024-06-15T19:19:11.662Z"
   },
   {
    "duration": 48,
    "start_time": "2024-06-15T19:19:11.679Z"
   },
   {
    "duration": 11,
    "start_time": "2024-06-15T19:19:11.730Z"
   },
   {
    "duration": 196,
    "start_time": "2024-06-15T19:19:11.744Z"
   },
   {
    "duration": 80,
    "start_time": "2024-06-15T19:19:11.943Z"
   },
   {
    "duration": 17,
    "start_time": "2024-06-15T19:19:12.026Z"
   },
   {
    "duration": 79,
    "start_time": "2024-06-15T19:19:12.046Z"
   },
   {
    "duration": 306,
    "start_time": "2024-06-15T19:19:12.128Z"
   },
   {
    "duration": 20,
    "start_time": "2024-06-15T19:19:12.436Z"
   },
   {
    "duration": 345,
    "start_time": "2024-06-15T19:19:25.311Z"
   },
   {
    "duration": 553,
    "start_time": "2024-06-15T19:22:58.379Z"
   },
   {
    "duration": 547,
    "start_time": "2024-06-15T19:23:17.583Z"
   },
   {
    "duration": 508,
    "start_time": "2024-06-15T19:24:31.515Z"
   },
   {
    "duration": 548,
    "start_time": "2024-06-15T19:24:59.071Z"
   },
   {
    "duration": 426,
    "start_time": "2024-06-15T19:25:12.859Z"
   },
   {
    "duration": 1014,
    "start_time": "2024-06-15T19:25:24.512Z"
   },
   {
    "duration": 537,
    "start_time": "2024-06-15T19:25:49.387Z"
   },
   {
    "duration": 547,
    "start_time": "2024-06-15T19:26:04.980Z"
   },
   {
    "duration": 572,
    "start_time": "2024-06-15T19:26:34.639Z"
   },
   {
    "duration": 612,
    "start_time": "2024-06-15T19:27:01.900Z"
   },
   {
    "duration": 568,
    "start_time": "2024-06-15T19:27:16.139Z"
   },
   {
    "duration": 506,
    "start_time": "2024-06-15T19:27:57.117Z"
   },
   {
    "duration": 49,
    "start_time": "2024-06-15T19:40:04.187Z"
   },
   {
    "duration": 21,
    "start_time": "2024-06-15T19:43:53.464Z"
   },
   {
    "duration": 69,
    "start_time": "2024-06-15T19:45:29.907Z"
   },
   {
    "duration": 59,
    "start_time": "2024-06-15T19:46:59.107Z"
   },
   {
    "duration": 134,
    "start_time": "2024-06-15T19:49:14.078Z"
   },
   {
    "duration": 601,
    "start_time": "2024-06-15T19:50:10.267Z"
   },
   {
    "duration": 311,
    "start_time": "2024-06-15T19:50:46.595Z"
   },
   {
    "duration": 280,
    "start_time": "2024-06-15T19:51:02.863Z"
   },
   {
    "duration": 294,
    "start_time": "2024-06-15T19:51:09.812Z"
   },
   {
    "duration": 379,
    "start_time": "2024-06-15T19:51:17.128Z"
   },
   {
    "duration": 279,
    "start_time": "2024-06-15T19:51:23.699Z"
   },
   {
    "duration": 414,
    "start_time": "2024-06-15T19:51:33.676Z"
   },
   {
    "duration": 470,
    "start_time": "2024-06-15T19:51:42.339Z"
   },
   {
    "duration": 279,
    "start_time": "2024-06-15T19:52:33.445Z"
   },
   {
    "duration": 258,
    "start_time": "2024-06-15T19:54:21.911Z"
   },
   {
    "duration": 468,
    "start_time": "2024-06-15T19:55:42.519Z"
   },
   {
    "duration": 419,
    "start_time": "2024-06-15T19:55:51.823Z"
   },
   {
    "duration": 65,
    "start_time": "2024-06-15T19:56:08.630Z"
   },
   {
    "duration": 380,
    "start_time": "2024-06-15T19:56:21.803Z"
   },
   {
    "duration": 4338,
    "start_time": "2024-06-16T02:06:25.529Z"
   },
   {
    "duration": 715,
    "start_time": "2024-06-16T02:06:29.870Z"
   },
   {
    "duration": 16,
    "start_time": "2024-06-16T02:06:30.588Z"
   },
   {
    "duration": 17,
    "start_time": "2024-06-16T02:06:30.607Z"
   },
   {
    "duration": 9,
    "start_time": "2024-06-16T02:06:30.629Z"
   },
   {
    "duration": 14,
    "start_time": "2024-06-16T02:06:30.641Z"
   },
   {
    "duration": 7,
    "start_time": "2024-06-16T02:06:30.658Z"
   },
   {
    "duration": 56,
    "start_time": "2024-06-16T02:06:30.669Z"
   },
   {
    "duration": 23,
    "start_time": "2024-06-16T02:06:30.728Z"
   },
   {
    "duration": 14,
    "start_time": "2024-06-16T02:06:30.754Z"
   },
   {
    "duration": 75,
    "start_time": "2024-06-16T02:06:30.771Z"
   },
   {
    "duration": 12,
    "start_time": "2024-06-16T02:06:30.848Z"
   },
   {
    "duration": 86,
    "start_time": "2024-06-16T02:06:30.864Z"
   },
   {
    "duration": 74,
    "start_time": "2024-06-16T02:06:30.956Z"
   },
   {
    "duration": 128,
    "start_time": "2024-06-16T02:06:31.033Z"
   },
   {
    "duration": 212,
    "start_time": "2024-06-16T02:06:31.163Z"
   },
   {
    "duration": 5,
    "start_time": "2024-06-16T02:06:31.378Z"
   },
   {
    "duration": 69,
    "start_time": "2024-06-16T02:06:31.386Z"
   },
   {
    "duration": 11,
    "start_time": "2024-06-16T02:06:31.458Z"
   },
   {
    "duration": 14,
    "start_time": "2024-06-16T02:06:31.473Z"
   },
   {
    "duration": 43,
    "start_time": "2024-06-16T02:06:31.490Z"
   },
   {
    "duration": 11,
    "start_time": "2024-06-16T02:06:31.538Z"
   },
   {
    "duration": 11,
    "start_time": "2024-06-16T02:06:31.552Z"
   },
   {
    "duration": 11,
    "start_time": "2024-06-16T02:06:31.567Z"
   },
   {
    "duration": 12,
    "start_time": "2024-06-16T02:06:31.623Z"
   },
   {
    "duration": 199,
    "start_time": "2024-06-16T02:06:31.638Z"
   },
   {
    "duration": 68,
    "start_time": "2024-06-16T02:06:31.839Z"
   },
   {
    "duration": 47,
    "start_time": "2024-06-16T02:06:31.924Z"
   },
   {
    "duration": 286,
    "start_time": "2024-06-16T02:06:31.974Z"
   },
   {
    "duration": 21,
    "start_time": "2024-06-16T02:06:32.263Z"
   },
   {
    "duration": 321,
    "start_time": "2024-06-16T02:06:32.288Z"
   },
   {
    "duration": 285,
    "start_time": "2024-06-16T02:06:32.612Z"
   },
   {
    "duration": 68,
    "start_time": "2024-06-16T02:06:32.901Z"
   },
   {
    "duration": 407,
    "start_time": "2024-06-16T02:06:32.971Z"
   },
   {
    "duration": 8,
    "start_time": "2024-06-16T02:07:13.328Z"
   },
   {
    "duration": 7,
    "start_time": "2024-06-16T02:07:28.620Z"
   },
   {
    "duration": 4321,
    "start_time": "2024-06-16T12:28:58.792Z"
   },
   {
    "duration": 743,
    "start_time": "2024-06-16T12:29:03.117Z"
   },
   {
    "duration": 17,
    "start_time": "2024-06-16T12:29:03.864Z"
   },
   {
    "duration": 14,
    "start_time": "2024-06-16T12:29:03.887Z"
   },
   {
    "duration": 19,
    "start_time": "2024-06-16T12:29:03.904Z"
   },
   {
    "duration": 13,
    "start_time": "2024-06-16T12:29:03.927Z"
   },
   {
    "duration": 8,
    "start_time": "2024-06-16T12:29:03.943Z"
   },
   {
    "duration": 11,
    "start_time": "2024-06-16T12:29:03.954Z"
   },
   {
    "duration": 61,
    "start_time": "2024-06-16T12:29:03.968Z"
   },
   {
    "duration": 15,
    "start_time": "2024-06-16T12:29:04.034Z"
   },
   {
    "duration": 39,
    "start_time": "2024-06-16T12:29:04.052Z"
   },
   {
    "duration": 41,
    "start_time": "2024-06-16T12:29:04.093Z"
   },
   {
    "duration": 88,
    "start_time": "2024-06-16T12:29:04.136Z"
   },
   {
    "duration": 56,
    "start_time": "2024-06-16T12:29:04.226Z"
   },
   {
    "duration": 137,
    "start_time": "2024-06-16T12:29:04.285Z"
   },
   {
    "duration": 200,
    "start_time": "2024-06-16T12:29:04.425Z"
   },
   {
    "duration": 4,
    "start_time": "2024-06-16T12:29:04.628Z"
   },
   {
    "duration": 52,
    "start_time": "2024-06-16T12:29:04.635Z"
   },
   {
    "duration": 39,
    "start_time": "2024-06-16T12:29:04.690Z"
   },
   {
    "duration": 15,
    "start_time": "2024-06-16T12:29:04.732Z"
   },
   {
    "duration": 13,
    "start_time": "2024-06-16T12:29:04.750Z"
   },
   {
    "duration": 59,
    "start_time": "2024-06-16T12:29:04.766Z"
   },
   {
    "duration": 15,
    "start_time": "2024-06-16T12:29:04.828Z"
   },
   {
    "duration": 15,
    "start_time": "2024-06-16T12:29:04.848Z"
   },
   {
    "duration": 8,
    "start_time": "2024-06-16T12:29:04.867Z"
   },
   {
    "duration": 45,
    "start_time": "2024-06-16T12:29:04.878Z"
   },
   {
    "duration": 10,
    "start_time": "2024-06-16T12:29:04.926Z"
   },
   {
    "duration": 195,
    "start_time": "2024-06-16T12:29:04.945Z"
   },
   {
    "duration": 81,
    "start_time": "2024-06-16T12:29:05.142Z"
   },
   {
    "duration": 51,
    "start_time": "2024-06-16T12:29:05.226Z"
   },
   {
    "duration": 279,
    "start_time": "2024-06-16T12:29:05.280Z"
   },
   {
    "duration": 19,
    "start_time": "2024-06-16T12:29:05.562Z"
   },
   {
    "duration": 276,
    "start_time": "2024-06-16T12:29:05.584Z"
   },
   {
    "duration": 277,
    "start_time": "2024-06-16T12:29:05.863Z"
   },
   {
    "duration": 60,
    "start_time": "2024-06-16T12:29:06.143Z"
   },
   {
    "duration": 454,
    "start_time": "2024-06-16T12:29:06.206Z"
   },
   {
    "duration": 8,
    "start_time": "2024-06-16T12:33:12.522Z"
   },
   {
    "duration": 9,
    "start_time": "2024-06-16T12:33:24.764Z"
   },
   {
    "duration": 53,
    "start_time": "2024-06-16T12:34:11.893Z"
   },
   {
    "duration": 36,
    "start_time": "2024-06-16T12:50:50.631Z"
   },
   {
    "duration": 9,
    "start_time": "2024-06-16T12:52:16.333Z"
   },
   {
    "duration": 9,
    "start_time": "2024-06-16T12:52:56.805Z"
   },
   {
    "duration": 44,
    "start_time": "2024-06-16T13:31:47.144Z"
   },
   {
    "duration": 192,
    "start_time": "2024-06-16T13:32:46.364Z"
   },
   {
    "duration": 84,
    "start_time": "2024-06-16T13:32:47.888Z"
   },
   {
    "duration": 211,
    "start_time": "2024-06-16T13:33:19.719Z"
   },
   {
    "duration": 112,
    "start_time": "2024-06-16T13:35:51.594Z"
   },
   {
    "duration": 106,
    "start_time": "2024-06-16T13:36:16.081Z"
   },
   {
    "duration": 187,
    "start_time": "2024-06-16T13:42:12.621Z"
   },
   {
    "duration": 146,
    "start_time": "2024-06-16T13:43:51.100Z"
   },
   {
    "duration": 48,
    "start_time": "2024-06-16T15:15:50.890Z"
   },
   {
    "duration": 388,
    "start_time": "2024-06-16T15:20:15.793Z"
   },
   {
    "duration": 44,
    "start_time": "2024-06-16T15:20:38.820Z"
   },
   {
    "duration": 44,
    "start_time": "2024-06-16T15:21:29.547Z"
   },
   {
    "duration": 45,
    "start_time": "2024-06-16T15:23:02.132Z"
   },
   {
    "duration": 207,
    "start_time": "2024-06-16T15:25:03.355Z"
   },
   {
    "duration": 392,
    "start_time": "2024-06-16T15:32:44.355Z"
   },
   {
    "duration": 45,
    "start_time": "2024-06-16T15:33:14.161Z"
   },
   {
    "duration": 204,
    "start_time": "2024-06-16T15:34:16.652Z"
   },
   {
    "duration": 194,
    "start_time": "2024-06-16T15:34:25.571Z"
   },
   {
    "duration": 92,
    "start_time": "2024-06-16T15:35:17.851Z"
   },
   {
    "duration": 151,
    "start_time": "2024-06-16T15:36:49.916Z"
   },
   {
    "duration": 57,
    "start_time": "2024-06-16T15:37:54.622Z"
   },
   {
    "duration": 10,
    "start_time": "2024-06-16T15:41:04.065Z"
   },
   {
    "duration": 14,
    "start_time": "2024-06-16T15:41:13.863Z"
   },
   {
    "duration": 14,
    "start_time": "2024-06-16T15:43:22.125Z"
   },
   {
    "duration": 24,
    "start_time": "2024-06-16T15:43:37.687Z"
   },
   {
    "duration": 11,
    "start_time": "2024-06-16T15:46:14.215Z"
   },
   {
    "duration": 24,
    "start_time": "2024-06-16T15:48:47.528Z"
   },
   {
    "duration": 24,
    "start_time": "2024-06-16T15:49:03.658Z"
   },
   {
    "duration": 77,
    "start_time": "2024-06-16T15:49:10.196Z"
   },
   {
    "duration": 403,
    "start_time": "2024-06-16T15:52:26.644Z"
   },
   {
    "duration": 38,
    "start_time": "2024-06-16T15:52:40.707Z"
   },
   {
    "duration": 37,
    "start_time": "2024-06-16T15:53:56.731Z"
   },
   {
    "duration": 25,
    "start_time": "2024-06-16T15:54:19.699Z"
   },
   {
    "duration": 134,
    "start_time": "2024-06-16T15:54:53.622Z"
   },
   {
    "duration": 37,
    "start_time": "2024-06-16T15:54:54.356Z"
   },
   {
    "duration": 15,
    "start_time": "2024-06-16T15:54:56.869Z"
   },
   {
    "duration": 42,
    "start_time": "2024-06-16T15:55:27.357Z"
   },
   {
    "duration": 4,
    "start_time": "2024-06-16T15:55:41.585Z"
   },
   {
    "duration": 644,
    "start_time": "2024-06-16T15:55:41.592Z"
   },
   {
    "duration": 11,
    "start_time": "2024-06-16T15:55:42.240Z"
   },
   {
    "duration": 13,
    "start_time": "2024-06-16T15:55:42.255Z"
   },
   {
    "duration": 7,
    "start_time": "2024-06-16T15:55:42.273Z"
   },
   {
    "duration": 51,
    "start_time": "2024-06-16T15:55:42.283Z"
   },
   {
    "duration": 10,
    "start_time": "2024-06-16T15:55:42.336Z"
   },
   {
    "duration": 12,
    "start_time": "2024-06-16T15:55:42.349Z"
   },
   {
    "duration": 59,
    "start_time": "2024-06-16T15:55:42.363Z"
   },
   {
    "duration": 14,
    "start_time": "2024-06-16T15:55:42.425Z"
   },
   {
    "duration": 38,
    "start_time": "2024-06-16T15:55:42.444Z"
   },
   {
    "duration": 39,
    "start_time": "2024-06-16T15:55:42.484Z"
   },
   {
    "duration": 64,
    "start_time": "2024-06-16T15:55:42.526Z"
   },
   {
    "duration": 77,
    "start_time": "2024-06-16T15:55:42.594Z"
   },
   {
    "duration": 119,
    "start_time": "2024-06-16T15:55:42.674Z"
   },
   {
    "duration": 209,
    "start_time": "2024-06-16T15:55:42.796Z"
   },
   {
    "duration": 5,
    "start_time": "2024-06-16T15:55:43.008Z"
   },
   {
    "duration": 51,
    "start_time": "2024-06-16T15:55:43.023Z"
   },
   {
    "duration": 14,
    "start_time": "2024-06-16T15:55:43.078Z"
   },
   {
    "duration": 15,
    "start_time": "2024-06-16T15:55:43.123Z"
   },
   {
    "duration": 15,
    "start_time": "2024-06-16T15:55:43.142Z"
   },
   {
    "duration": 14,
    "start_time": "2024-06-16T15:55:43.162Z"
   },
   {
    "duration": 50,
    "start_time": "2024-06-16T15:55:43.179Z"
   },
   {
    "duration": 12,
    "start_time": "2024-06-16T15:55:43.232Z"
   },
   {
    "duration": 10,
    "start_time": "2024-06-16T15:55:43.247Z"
   },
   {
    "duration": 236,
    "start_time": "2024-06-16T15:55:43.260Z"
   },
   {
    "duration": 98,
    "start_time": "2024-06-16T15:55:43.500Z"
   },
   {
    "duration": 75,
    "start_time": "2024-06-16T15:55:43.601Z"
   },
   {
    "duration": 76,
    "start_time": "2024-06-16T15:55:43.685Z"
   },
   {
    "duration": 218,
    "start_time": "2024-06-16T15:55:43.764Z"
   },
   {
    "duration": 38,
    "start_time": "2024-06-16T15:55:43.986Z"
   },
   {
    "duration": 275,
    "start_time": "2024-06-16T15:55:44.027Z"
   },
   {
    "duration": 20,
    "start_time": "2024-06-16T15:55:44.305Z"
   },
   {
    "duration": 335,
    "start_time": "2024-06-16T15:55:44.328Z"
   },
   {
    "duration": 270,
    "start_time": "2024-06-16T15:55:44.666Z"
   },
   {
    "duration": 219,
    "start_time": "2024-06-16T15:55:44.939Z"
   },
   {
    "duration": 398,
    "start_time": "2024-06-16T15:55:45.161Z"
   },
   {
    "duration": 139,
    "start_time": "2024-06-16T15:55:45.562Z"
   },
   {
    "duration": 31,
    "start_time": "2024-06-16T15:55:45.705Z"
   },
   {
    "duration": 157,
    "start_time": "2024-06-16T15:55:45.739Z"
   },
   {
    "duration": 45,
    "start_time": "2024-06-16T15:55:45.899Z"
   },
   {
    "duration": 15,
    "start_time": "2024-06-16T15:55:45.947Z"
   },
   {
    "duration": 136,
    "start_time": "2024-06-16T15:56:38.277Z"
   },
   {
    "duration": 15,
    "start_time": "2024-06-16T15:56:46.734Z"
   },
   {
    "duration": 15,
    "start_time": "2024-06-16T15:56:51.676Z"
   },
   {
    "duration": 491,
    "start_time": "2024-06-16T16:00:59.105Z"
   },
   {
    "duration": 74,
    "start_time": "2024-06-16T16:02:12.466Z"
   },
   {
    "duration": 4782,
    "start_time": "2024-06-17T12:59:24.296Z"
   },
   {
    "duration": 782,
    "start_time": "2024-06-17T12:59:29.084Z"
   },
   {
    "duration": 17,
    "start_time": "2024-06-17T12:59:29.870Z"
   },
   {
    "duration": 16,
    "start_time": "2024-06-17T12:59:29.892Z"
   },
   {
    "duration": 7,
    "start_time": "2024-06-17T12:59:29.911Z"
   },
   {
    "duration": 15,
    "start_time": "2024-06-17T12:59:29.922Z"
   },
   {
    "duration": 8,
    "start_time": "2024-06-17T12:59:29.941Z"
   },
   {
    "duration": 57,
    "start_time": "2024-06-17T12:59:29.953Z"
   },
   {
    "duration": 23,
    "start_time": "2024-06-17T12:59:30.013Z"
   },
   {
    "duration": 19,
    "start_time": "2024-06-17T12:59:30.043Z"
   },
   {
    "duration": 85,
    "start_time": "2024-06-17T12:59:30.065Z"
   },
   {
    "duration": 12,
    "start_time": "2024-06-17T12:59:30.153Z"
   },
   {
    "duration": 94,
    "start_time": "2024-06-17T12:59:30.168Z"
   },
   {
    "duration": 70,
    "start_time": "2024-06-17T12:59:30.266Z"
   },
   {
    "duration": 130,
    "start_time": "2024-06-17T12:59:30.339Z"
   },
   {
    "duration": 253,
    "start_time": "2024-06-17T12:59:30.472Z"
   },
   {
    "duration": 6,
    "start_time": "2024-06-17T12:59:30.730Z"
   },
   {
    "duration": 65,
    "start_time": "2024-06-17T12:59:30.739Z"
   },
   {
    "duration": 12,
    "start_time": "2024-06-17T12:59:30.808Z"
   },
   {
    "duration": 14,
    "start_time": "2024-06-17T12:59:30.822Z"
   },
   {
    "duration": 13,
    "start_time": "2024-06-17T12:59:30.840Z"
   },
   {
    "duration": 48,
    "start_time": "2024-06-17T12:59:30.856Z"
   },
   {
    "duration": 11,
    "start_time": "2024-06-17T12:59:30.907Z"
   },
   {
    "duration": 13,
    "start_time": "2024-06-17T12:59:30.921Z"
   },
   {
    "duration": 10,
    "start_time": "2024-06-17T12:59:30.938Z"
   },
   {
    "duration": 257,
    "start_time": "2024-06-17T12:59:30.951Z"
   },
   {
    "duration": 101,
    "start_time": "2024-06-17T12:59:31.211Z"
   },
   {
    "duration": 55,
    "start_time": "2024-06-17T12:59:31.321Z"
   },
   {
    "duration": 51,
    "start_time": "2024-06-17T12:59:31.401Z"
   },
   {
    "duration": 234,
    "start_time": "2024-06-17T12:59:31.454Z"
   },
   {
    "duration": 31,
    "start_time": "2024-06-17T12:59:31.692Z"
   },
   {
    "duration": 339,
    "start_time": "2024-06-17T12:59:31.726Z"
   },
   {
    "duration": 11,
    "start_time": "2024-06-17T12:59:32.068Z"
   },
   {
    "duration": 304,
    "start_time": "2024-06-17T12:59:32.101Z"
   },
   {
    "duration": 277,
    "start_time": "2024-06-17T12:59:32.408Z"
   },
   {
    "duration": 235,
    "start_time": "2024-06-17T12:59:32.689Z"
   },
   {
    "duration": 433,
    "start_time": "2024-06-17T12:59:32.928Z"
   },
   {
    "duration": 150,
    "start_time": "2024-06-17T12:59:33.364Z"
   },
   {
    "duration": 23,
    "start_time": "2024-06-17T12:59:33.517Z"
   },
   {
    "duration": 163,
    "start_time": "2024-06-17T12:59:33.544Z"
   },
   {
    "duration": 16,
    "start_time": "2024-06-17T12:59:33.710Z"
   },
   {
    "duration": 456,
    "start_time": "2024-06-17T12:59:33.729Z"
   },
   {
    "duration": 81,
    "start_time": "2024-06-17T12:59:34.189Z"
   },
   {
    "duration": 157,
    "start_time": "2024-06-17T13:02:28.801Z"
   },
   {
    "duration": 16,
    "start_time": "2024-06-17T13:02:34.274Z"
   },
   {
    "duration": 15,
    "start_time": "2024-06-17T13:03:08.986Z"
   },
   {
    "duration": 32,
    "start_time": "2024-06-17T13:03:16.720Z"
   },
   {
    "duration": 25,
    "start_time": "2024-06-17T13:03:21.913Z"
   },
   {
    "duration": 32,
    "start_time": "2024-06-17T13:04:01.388Z"
   },
   {
    "duration": 26,
    "start_time": "2024-06-17T13:04:07.081Z"
   },
   {
    "duration": 28,
    "start_time": "2024-06-17T13:04:09.848Z"
   },
   {
    "duration": 23,
    "start_time": "2024-06-17T13:07:54.048Z"
   },
   {
    "duration": 20,
    "start_time": "2024-06-17T13:08:39.696Z"
   },
   {
    "duration": 26,
    "start_time": "2024-06-17T13:09:47.074Z"
   },
   {
    "duration": 3,
    "start_time": "2024-06-17T13:11:37.044Z"
   },
   {
    "duration": 639,
    "start_time": "2024-06-17T13:11:37.052Z"
   },
   {
    "duration": 12,
    "start_time": "2024-06-17T13:11:37.694Z"
   },
   {
    "duration": 13,
    "start_time": "2024-06-17T13:11:37.710Z"
   },
   {
    "duration": 7,
    "start_time": "2024-06-17T13:11:37.727Z"
   },
   {
    "duration": 14,
    "start_time": "2024-06-17T13:11:37.737Z"
   },
   {
    "duration": 8,
    "start_time": "2024-06-17T13:11:37.803Z"
   },
   {
    "duration": 11,
    "start_time": "2024-06-17T13:11:37.815Z"
   },
   {
    "duration": 22,
    "start_time": "2024-06-17T13:11:37.830Z"
   },
   {
    "duration": 50,
    "start_time": "2024-06-17T13:11:37.855Z"
   },
   {
    "duration": 38,
    "start_time": "2024-06-17T13:11:37.910Z"
   },
   {
    "duration": 12,
    "start_time": "2024-06-17T13:11:37.951Z"
   },
   {
    "duration": 63,
    "start_time": "2024-06-17T13:11:38.001Z"
   },
   {
    "duration": 63,
    "start_time": "2024-06-17T13:11:38.067Z"
   },
   {
    "duration": 128,
    "start_time": "2024-06-17T13:11:38.133Z"
   },
   {
    "duration": 215,
    "start_time": "2024-06-17T13:11:38.264Z"
   },
   {
    "duration": 5,
    "start_time": "2024-06-17T13:11:38.482Z"
   },
   {
    "duration": 48,
    "start_time": "2024-06-17T13:11:38.502Z"
   },
   {
    "duration": 10,
    "start_time": "2024-06-17T13:11:38.553Z"
   },
   {
    "duration": 44,
    "start_time": "2024-06-17T13:11:38.567Z"
   },
   {
    "duration": 13,
    "start_time": "2024-06-17T13:11:38.614Z"
   },
   {
    "duration": 13,
    "start_time": "2024-06-17T13:11:38.630Z"
   },
   {
    "duration": 13,
    "start_time": "2024-06-17T13:11:38.646Z"
   },
   {
    "duration": 49,
    "start_time": "2024-06-17T13:11:38.662Z"
   },
   {
    "duration": 11,
    "start_time": "2024-06-17T13:11:38.714Z"
   },
   {
    "duration": 238,
    "start_time": "2024-06-17T13:11:38.727Z"
   },
   {
    "duration": 97,
    "start_time": "2024-06-17T13:11:38.967Z"
   },
   {
    "duration": 67,
    "start_time": "2024-06-17T13:11:39.067Z"
   },
   {
    "duration": 67,
    "start_time": "2024-06-17T13:11:39.141Z"
   },
   {
    "duration": 232,
    "start_time": "2024-06-17T13:11:39.211Z"
   },
   {
    "duration": 25,
    "start_time": "2024-06-17T13:11:39.446Z"
   },
   {
    "duration": 341,
    "start_time": "2024-06-17T13:11:39.474Z"
   },
   {
    "duration": 10,
    "start_time": "2024-06-17T13:11:39.818Z"
   },
   {
    "duration": 270,
    "start_time": "2024-06-17T13:11:39.831Z"
   },
   {
    "duration": 255,
    "start_time": "2024-06-17T13:11:40.104Z"
   },
   {
    "duration": 211,
    "start_time": "2024-06-17T13:11:40.364Z"
   },
   {
    "duration": 375,
    "start_time": "2024-06-17T13:11:40.579Z"
   },
   {
    "duration": 141,
    "start_time": "2024-06-17T13:11:40.957Z"
   },
   {
    "duration": 23,
    "start_time": "2024-06-17T13:11:41.103Z"
   },
   {
    "duration": 156,
    "start_time": "2024-06-17T13:11:41.129Z"
   },
   {
    "duration": 24,
    "start_time": "2024-06-17T13:11:41.288Z"
   },
   {
    "duration": 25,
    "start_time": "2024-06-17T13:11:41.316Z"
   },
   {
    "duration": 19,
    "start_time": "2024-06-17T13:11:41.344Z"
   },
   {
    "duration": 18,
    "start_time": "2024-06-17T13:12:05.119Z"
   },
   {
    "duration": 44,
    "start_time": "2024-06-17T13:14:42.987Z"
   },
   {
    "duration": 45,
    "start_time": "2024-06-17T13:41:34.359Z"
   },
   {
    "duration": 52,
    "start_time": "2024-06-17T13:42:58.163Z"
   },
   {
    "duration": 27,
    "start_time": "2024-06-17T13:46:28.564Z"
   },
   {
    "duration": 16,
    "start_time": "2024-06-17T13:47:22.565Z"
   },
   {
    "duration": 16,
    "start_time": "2024-06-17T13:47:40.696Z"
   },
   {
    "duration": 17,
    "start_time": "2024-06-17T13:50:23.609Z"
   },
   {
    "duration": 47,
    "start_time": "2024-06-17T13:53:38.797Z"
   },
   {
    "duration": 40,
    "start_time": "2024-06-17T13:57:10.028Z"
   },
   {
    "duration": 4850,
    "start_time": "2024-06-17T15:26:34.382Z"
   },
   {
    "duration": 741,
    "start_time": "2024-06-17T15:26:39.236Z"
   },
   {
    "duration": 15,
    "start_time": "2024-06-17T15:26:39.980Z"
   },
   {
    "duration": 13,
    "start_time": "2024-06-17T15:26:39.998Z"
   },
   {
    "duration": 8,
    "start_time": "2024-06-17T15:26:40.022Z"
   },
   {
    "duration": 16,
    "start_time": "2024-06-17T15:26:40.033Z"
   },
   {
    "duration": 14,
    "start_time": "2024-06-17T15:26:40.051Z"
   },
   {
    "duration": 12,
    "start_time": "2024-06-17T15:26:40.069Z"
   },
   {
    "duration": 54,
    "start_time": "2024-06-17T15:26:40.084Z"
   },
   {
    "duration": 16,
    "start_time": "2024-06-17T15:26:40.140Z"
   },
   {
    "duration": 42,
    "start_time": "2024-06-17T15:26:40.159Z"
   },
   {
    "duration": 15,
    "start_time": "2024-06-17T15:26:40.223Z"
   },
   {
    "duration": 84,
    "start_time": "2024-06-17T15:26:40.240Z"
   },
   {
    "duration": 56,
    "start_time": "2024-06-17T15:26:40.336Z"
   },
   {
    "duration": 131,
    "start_time": "2024-06-17T15:26:40.395Z"
   },
   {
    "duration": 206,
    "start_time": "2024-06-17T15:26:40.529Z"
   },
   {
    "duration": 7,
    "start_time": "2024-06-17T15:26:40.737Z"
   },
   {
    "duration": 65,
    "start_time": "2024-06-17T15:26:40.747Z"
   },
   {
    "duration": 22,
    "start_time": "2024-06-17T15:26:40.815Z"
   },
   {
    "duration": 13,
    "start_time": "2024-06-17T15:26:40.845Z"
   },
   {
    "duration": 24,
    "start_time": "2024-06-17T15:26:40.860Z"
   },
   {
    "duration": 12,
    "start_time": "2024-06-17T15:26:40.888Z"
   },
   {
    "duration": 30,
    "start_time": "2024-06-17T15:26:40.903Z"
   },
   {
    "duration": 16,
    "start_time": "2024-06-17T15:26:40.936Z"
   },
   {
    "duration": 13,
    "start_time": "2024-06-17T15:26:40.955Z"
   },
   {
    "duration": 246,
    "start_time": "2024-06-17T15:26:40.971Z"
   },
   {
    "duration": 95,
    "start_time": "2024-06-17T15:26:41.220Z"
   },
   {
    "duration": 59,
    "start_time": "2024-06-17T15:26:41.327Z"
   },
   {
    "duration": 84,
    "start_time": "2024-06-17T15:26:41.390Z"
   },
   {
    "duration": 235,
    "start_time": "2024-06-17T15:26:41.477Z"
   },
   {
    "duration": 36,
    "start_time": "2024-06-17T15:26:41.722Z"
   },
   {
    "duration": 271,
    "start_time": "2024-06-17T15:26:41.762Z"
   },
   {
    "duration": 15,
    "start_time": "2024-06-17T15:26:42.036Z"
   },
   {
    "duration": 268,
    "start_time": "2024-06-17T15:26:42.058Z"
   },
   {
    "duration": 270,
    "start_time": "2024-06-17T15:26:42.332Z"
   },
   {
    "duration": 219,
    "start_time": "2024-06-17T15:26:42.606Z"
   },
   {
    "duration": 395,
    "start_time": "2024-06-17T15:26:42.831Z"
   },
   {
    "duration": 134,
    "start_time": "2024-06-17T15:26:43.231Z"
   },
   {
    "duration": 23,
    "start_time": "2024-06-17T15:26:43.368Z"
   },
   {
    "duration": 166,
    "start_time": "2024-06-17T15:26:43.394Z"
   },
   {
    "duration": 16,
    "start_time": "2024-06-17T15:26:43.568Z"
   },
   {
    "duration": 49,
    "start_time": "2024-06-17T15:26:43.587Z"
   },
   {
    "duration": 21,
    "start_time": "2024-06-17T15:26:43.639Z"
   },
   {
    "duration": 40,
    "start_time": "2024-06-17T15:26:43.662Z"
   },
   {
    "duration": 25,
    "start_time": "2024-06-17T15:35:08.702Z"
   },
   {
    "duration": 103,
    "start_time": "2024-06-17T15:35:14.754Z"
   },
   {
    "duration": 8,
    "start_time": "2024-06-17T15:42:17.466Z"
   },
   {
    "duration": 9,
    "start_time": "2024-06-17T15:42:23.191Z"
   },
   {
    "duration": 413,
    "start_time": "2024-06-17T15:42:51.131Z"
   },
   {
    "duration": 7,
    "start_time": "2024-06-17T15:42:54.703Z"
   },
   {
    "duration": 28,
    "start_time": "2024-06-17T15:44:59.512Z"
   },
   {
    "duration": 25,
    "start_time": "2024-06-17T15:45:04.860Z"
   },
   {
    "duration": 14,
    "start_time": "2024-06-17T15:45:09.820Z"
   },
   {
    "duration": 10,
    "start_time": "2024-06-17T15:45:20.444Z"
   },
   {
    "duration": 9,
    "start_time": "2024-06-17T15:45:39.669Z"
   },
   {
    "duration": 7,
    "start_time": "2024-06-17T15:46:59.043Z"
   },
   {
    "duration": 8,
    "start_time": "2024-06-17T16:10:36.352Z"
   },
   {
    "duration": 8,
    "start_time": "2024-06-17T16:10:44.878Z"
   },
   {
    "duration": 13,
    "start_time": "2024-06-17T16:45:18.648Z"
   },
   {
    "duration": 7,
    "start_time": "2024-06-17T16:45:24.029Z"
   },
   {
    "duration": 0,
    "start_time": "2024-06-17T16:45:24.039Z"
   },
   {
    "duration": 0,
    "start_time": "2024-06-17T16:45:24.041Z"
   },
   {
    "duration": 391,
    "start_time": "2024-06-17T16:45:24.045Z"
   },
   {
    "duration": 0,
    "start_time": "2024-06-17T16:45:24.442Z"
   },
   {
    "duration": 0,
    "start_time": "2024-06-17T16:45:24.444Z"
   },
   {
    "duration": 0,
    "start_time": "2024-06-17T16:45:24.446Z"
   },
   {
    "duration": 0,
    "start_time": "2024-06-17T16:45:24.448Z"
   },
   {
    "duration": 0,
    "start_time": "2024-06-17T16:45:24.451Z"
   },
   {
    "duration": 0,
    "start_time": "2024-06-17T16:45:24.453Z"
   },
   {
    "duration": 0,
    "start_time": "2024-06-17T16:45:24.455Z"
   },
   {
    "duration": 0,
    "start_time": "2024-06-17T16:45:24.458Z"
   },
   {
    "duration": 0,
    "start_time": "2024-06-17T16:45:24.460Z"
   },
   {
    "duration": 0,
    "start_time": "2024-06-17T16:45:24.462Z"
   },
   {
    "duration": 0,
    "start_time": "2024-06-17T16:45:24.464Z"
   },
   {
    "duration": 0,
    "start_time": "2024-06-17T16:45:24.466Z"
   },
   {
    "duration": 0,
    "start_time": "2024-06-17T16:45:24.468Z"
   },
   {
    "duration": 0,
    "start_time": "2024-06-17T16:45:24.473Z"
   },
   {
    "duration": 0,
    "start_time": "2024-06-17T16:45:24.523Z"
   },
   {
    "duration": 0,
    "start_time": "2024-06-17T16:45:24.526Z"
   },
   {
    "duration": 0,
    "start_time": "2024-06-17T16:45:24.528Z"
   },
   {
    "duration": 0,
    "start_time": "2024-06-17T16:45:24.530Z"
   },
   {
    "duration": 0,
    "start_time": "2024-06-17T16:45:24.532Z"
   },
   {
    "duration": 0,
    "start_time": "2024-06-17T16:45:24.534Z"
   },
   {
    "duration": 0,
    "start_time": "2024-06-17T16:45:24.535Z"
   },
   {
    "duration": 0,
    "start_time": "2024-06-17T16:45:24.537Z"
   },
   {
    "duration": 0,
    "start_time": "2024-06-17T16:45:24.539Z"
   },
   {
    "duration": 0,
    "start_time": "2024-06-17T16:45:24.541Z"
   },
   {
    "duration": 0,
    "start_time": "2024-06-17T16:45:24.543Z"
   },
   {
    "duration": 0,
    "start_time": "2024-06-17T16:45:24.546Z"
   },
   {
    "duration": 0,
    "start_time": "2024-06-17T16:45:24.548Z"
   },
   {
    "duration": 0,
    "start_time": "2024-06-17T16:45:24.550Z"
   },
   {
    "duration": 0,
    "start_time": "2024-06-17T16:45:24.552Z"
   },
   {
    "duration": 0,
    "start_time": "2024-06-17T16:45:24.555Z"
   },
   {
    "duration": 0,
    "start_time": "2024-06-17T16:45:24.557Z"
   },
   {
    "duration": 0,
    "start_time": "2024-06-17T16:45:24.559Z"
   },
   {
    "duration": 0,
    "start_time": "2024-06-17T16:45:24.560Z"
   },
   {
    "duration": 0,
    "start_time": "2024-06-17T16:45:24.562Z"
   },
   {
    "duration": 0,
    "start_time": "2024-06-17T16:45:24.624Z"
   },
   {
    "duration": 0,
    "start_time": "2024-06-17T16:45:24.626Z"
   },
   {
    "duration": 0,
    "start_time": "2024-06-17T16:45:24.636Z"
   },
   {
    "duration": 0,
    "start_time": "2024-06-17T16:45:24.638Z"
   },
   {
    "duration": 1,
    "start_time": "2024-06-17T16:45:24.639Z"
   },
   {
    "duration": 0,
    "start_time": "2024-06-17T16:45:24.643Z"
   },
   {
    "duration": 0,
    "start_time": "2024-06-17T16:45:24.645Z"
   },
   {
    "duration": 0,
    "start_time": "2024-06-17T16:45:24.647Z"
   },
   {
    "duration": 0,
    "start_time": "2024-06-17T16:45:24.649Z"
   },
   {
    "duration": 0,
    "start_time": "2024-06-17T16:45:24.651Z"
   },
   {
    "duration": 7,
    "start_time": "2024-06-17T16:46:06.325Z"
   },
   {
    "duration": 4776,
    "start_time": "2024-06-17T16:46:08.700Z"
   },
   {
    "duration": 710,
    "start_time": "2024-06-17T16:46:13.482Z"
   },
   {
    "duration": 15,
    "start_time": "2024-06-17T16:46:14.195Z"
   },
   {
    "duration": 15,
    "start_time": "2024-06-17T16:46:14.213Z"
   },
   {
    "duration": 7,
    "start_time": "2024-06-17T16:46:15.922Z"
   },
   {
    "duration": 14,
    "start_time": "2024-06-17T16:46:17.208Z"
   },
   {
    "duration": 9,
    "start_time": "2024-06-17T16:46:18.000Z"
   },
   {
    "duration": 11,
    "start_time": "2024-06-17T16:46:19.488Z"
   },
   {
    "duration": 21,
    "start_time": "2024-06-17T16:46:19.884Z"
   },
   {
    "duration": 15,
    "start_time": "2024-06-17T16:46:20.303Z"
   },
   {
    "duration": 6,
    "start_time": "2024-06-17T16:46:20.651Z"
   },
   {
    "duration": 39,
    "start_time": "2024-06-17T16:46:20.980Z"
   },
   {
    "duration": 12,
    "start_time": "2024-06-17T16:46:21.566Z"
   },
   {
    "duration": 64,
    "start_time": "2024-06-17T16:46:21.873Z"
   },
   {
    "duration": 55,
    "start_time": "2024-06-17T16:46:22.102Z"
   },
   {
    "duration": 128,
    "start_time": "2024-06-17T16:46:22.376Z"
   },
   {
    "duration": 198,
    "start_time": "2024-06-17T16:46:22.624Z"
   },
   {
    "duration": 5,
    "start_time": "2024-06-17T16:46:25.417Z"
   },
   {
    "duration": 49,
    "start_time": "2024-06-17T16:46:25.910Z"
   },
   {
    "duration": 10,
    "start_time": "2024-06-17T16:46:26.915Z"
   },
   {
    "duration": 18,
    "start_time": "2024-06-17T16:46:27.378Z"
   },
   {
    "duration": 17,
    "start_time": "2024-06-17T16:46:27.872Z"
   },
   {
    "duration": 12,
    "start_time": "2024-06-17T16:48:17.609Z"
   },
   {
    "duration": 7,
    "start_time": "2024-06-17T16:48:18.487Z"
   },
   {
    "duration": 12,
    "start_time": "2024-06-17T16:48:19.185Z"
   },
   {
    "duration": 8,
    "start_time": "2024-06-17T16:48:19.688Z"
   },
   {
    "duration": 14,
    "start_time": "2024-06-17T16:48:20.231Z"
   },
   {
    "duration": 12,
    "start_time": "2024-06-17T16:48:20.674Z"
   },
   {
    "duration": 201,
    "start_time": "2024-06-17T16:48:21.149Z"
   },
   {
    "duration": 88,
    "start_time": "2024-06-17T16:48:23.099Z"
   },
   {
    "duration": 55,
    "start_time": "2024-06-17T16:48:24.624Z"
   },
   {
    "duration": 53,
    "start_time": "2024-06-17T16:48:26.028Z"
   },
   {
    "duration": 230,
    "start_time": "2024-06-17T16:48:27.264Z"
   },
   {
    "duration": 25,
    "start_time": "2024-06-17T16:48:27.816Z"
   },
   {
    "duration": 274,
    "start_time": "2024-06-17T16:48:29.101Z"
   },
   {
    "duration": 11,
    "start_time": "2024-06-17T16:48:29.769Z"
   },
   {
    "duration": 250,
    "start_time": "2024-06-17T16:48:30.579Z"
   },
   {
    "duration": 313,
    "start_time": "2024-06-17T16:48:31.329Z"
   },
   {
    "duration": 208,
    "start_time": "2024-06-17T16:48:31.931Z"
   },
   {
    "duration": 398,
    "start_time": "2024-06-17T16:48:33.604Z"
   },
   {
    "duration": 123,
    "start_time": "2024-06-17T16:48:34.960Z"
   },
   {
    "duration": 23,
    "start_time": "2024-06-17T16:48:35.455Z"
   },
   {
    "duration": 142,
    "start_time": "2024-06-17T16:48:36.101Z"
   },
   {
    "duration": 14,
    "start_time": "2024-06-17T16:48:37.104Z"
   },
   {
    "duration": 27,
    "start_time": "2024-06-17T16:48:39.617Z"
   },
   {
    "duration": 19,
    "start_time": "2024-06-17T16:48:40.319Z"
   },
   {
    "duration": 32,
    "start_time": "2024-06-17T16:48:42.153Z"
   },
   {
    "duration": 15,
    "start_time": "2024-06-17T18:21:58.319Z"
   },
   {
    "duration": 4,
    "start_time": "2024-06-17T23:29:45.130Z"
   },
   {
    "duration": 646,
    "start_time": "2024-06-17T23:29:45.138Z"
   },
   {
    "duration": 12,
    "start_time": "2024-06-17T23:29:45.787Z"
   },
   {
    "duration": 31,
    "start_time": "2024-06-17T23:29:45.801Z"
   },
   {
    "duration": 6,
    "start_time": "2024-06-17T23:29:45.837Z"
   },
   {
    "duration": 17,
    "start_time": "2024-06-17T23:29:45.846Z"
   },
   {
    "duration": 8,
    "start_time": "2024-06-17T23:29:45.866Z"
   },
   {
    "duration": 12,
    "start_time": "2024-06-17T23:29:45.924Z"
   },
   {
    "duration": 28,
    "start_time": "2024-06-17T23:29:45.939Z"
   },
   {
    "duration": 53,
    "start_time": "2024-06-17T23:29:45.970Z"
   },
   {
    "duration": 7,
    "start_time": "2024-06-17T23:29:46.026Z"
   },
   {
    "duration": 43,
    "start_time": "2024-06-17T23:29:46.037Z"
   },
   {
    "duration": 11,
    "start_time": "2024-06-17T23:29:46.123Z"
   },
   {
    "duration": 65,
    "start_time": "2024-06-17T23:29:46.225Z"
   },
   {
    "duration": 76,
    "start_time": "2024-06-17T23:29:46.293Z"
   },
   {
    "duration": 117,
    "start_time": "2024-06-17T23:29:46.373Z"
   },
   {
    "duration": 230,
    "start_time": "2024-06-17T23:29:46.493Z"
   },
   {
    "duration": 5,
    "start_time": "2024-06-17T23:29:46.725Z"
   },
   {
    "duration": 49,
    "start_time": "2024-06-17T23:29:46.734Z"
   },
   {
    "duration": 46,
    "start_time": "2024-06-17T23:29:46.786Z"
   },
   {
    "duration": 15,
    "start_time": "2024-06-17T23:29:46.835Z"
   },
   {
    "duration": 13,
    "start_time": "2024-06-17T23:29:46.853Z"
   },
   {
    "duration": 53,
    "start_time": "2024-06-17T23:29:46.869Z"
   },
   {
    "duration": 7,
    "start_time": "2024-06-17T23:29:46.926Z"
   },
   {
    "duration": 13,
    "start_time": "2024-06-17T23:29:46.937Z"
   },
   {
    "duration": 8,
    "start_time": "2024-06-17T23:29:46.953Z"
   },
   {
    "duration": 65,
    "start_time": "2024-06-17T23:29:46.964Z"
   },
   {
    "duration": 13,
    "start_time": "2024-06-17T23:29:47.032Z"
   },
   {
    "duration": 241,
    "start_time": "2024-06-17T23:29:47.048Z"
   },
   {
    "duration": 15,
    "start_time": "2024-06-17T23:29:47.292Z"
   },
   {
    "duration": 112,
    "start_time": "2024-06-17T23:29:47.324Z"
   },
   {
    "duration": 59,
    "start_time": "2024-06-17T23:29:47.439Z"
   },
   {
    "duration": 72,
    "start_time": "2024-06-17T23:29:47.501Z"
   },
   {
    "duration": 234,
    "start_time": "2024-06-17T23:29:47.577Z"
   },
   {
    "duration": 24,
    "start_time": "2024-06-17T23:29:47.823Z"
   },
   {
    "duration": 269,
    "start_time": "2024-06-17T23:29:47.850Z"
   },
   {
    "duration": 11,
    "start_time": "2024-06-17T23:29:48.123Z"
   },
   {
    "duration": 289,
    "start_time": "2024-06-17T23:29:48.137Z"
   },
   {
    "duration": 260,
    "start_time": "2024-06-17T23:29:48.430Z"
   },
   {
    "duration": 214,
    "start_time": "2024-06-17T23:29:48.693Z"
   },
   {
    "duration": 416,
    "start_time": "2024-06-17T23:29:48.927Z"
   },
   {
    "duration": 162,
    "start_time": "2024-06-17T23:29:49.347Z"
   },
   {
    "duration": 27,
    "start_time": "2024-06-17T23:29:49.512Z"
   },
   {
    "duration": 168,
    "start_time": "2024-06-17T23:29:49.542Z"
   },
   {
    "duration": 20,
    "start_time": "2024-06-17T23:29:49.718Z"
   },
   {
    "duration": 29,
    "start_time": "2024-06-17T23:29:49.741Z"
   },
   {
    "duration": 52,
    "start_time": "2024-06-17T23:29:49.773Z"
   },
   {
    "duration": 35,
    "start_time": "2024-06-17T23:29:49.828Z"
   },
   {
    "duration": 12,
    "start_time": "2024-06-17T23:30:04.334Z"
   },
   {
    "duration": 8,
    "start_time": "2024-06-17T23:30:18.250Z"
   },
   {
    "duration": 10,
    "start_time": "2024-06-17T23:30:25.594Z"
   },
   {
    "duration": 26,
    "start_time": "2024-06-17T23:31:11.886Z"
   },
   {
    "duration": 33,
    "start_time": "2024-06-17T23:31:15.750Z"
   },
   {
    "duration": 526,
    "start_time": "2024-06-17T23:32:05.907Z"
   },
   {
    "duration": 28,
    "start_time": "2024-06-17T23:49:45.816Z"
   }
  ],
  "kernelspec": {
   "display_name": "Python 3 (ipykernel)",
   "language": "python",
   "name": "python3"
  },
  "language_info": {
   "codemirror_mode": {
    "name": "ipython",
    "version": 3
   },
   "file_extension": ".py",
   "mimetype": "text/x-python",
   "name": "python",
   "nbconvert_exporter": "python",
   "pygments_lexer": "ipython3",
   "version": "3.9.19"
  },
  "toc": {
   "base_numbering": 1,
   "nav_menu": {},
   "number_sections": true,
   "sideBar": true,
   "skip_h1_title": true,
   "title_cell": "Table of Contents",
   "title_sidebar": "Contents",
   "toc_cell": false,
   "toc_position": {},
   "toc_section_display": true,
   "toc_window_display": false
  }
 },
 "nbformat": 4,
 "nbformat_minor": 2
}
